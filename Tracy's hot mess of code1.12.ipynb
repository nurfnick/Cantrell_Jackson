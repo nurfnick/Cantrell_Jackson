{
  "nbformat": 4,
  "nbformat_minor": 0,
  "metadata": {
    "colab": {
      "name": "Untitled0.ipynb",
      "provenance": [],
      "include_colab_link": true
    },
    "kernelspec": {
      "name": "python3",
      "display_name": "Python 3"
    }
  },
  "cells": [
    {
      "cell_type": "markdown",
      "metadata": {
        "id": "view-in-github",
        "colab_type": "text"
      },
      "source": [
        "<a href=\"https://colab.research.google.com/github/nurfnick/Cantrell_Jackson/blob/master/Tracy's%20hot%20mess%20of%20code1.12.ipynb\" target=\"_parent\"><img src=\"https://colab.research.google.com/assets/colab-badge.svg\" alt=\"Open In Colab\"/></a>"
      ]
    },
    {
      "cell_type": "code",
      "metadata": {
        "id": "5RxGfOnXBZ_Z",
        "colab_type": "code",
        "colab": {}
      },
      "source": [
        "import pandas as pa\n",
        "import numpy as np\n",
        "import datetime as dt\n",
        "from datetime import date as date\n",
        "import time\n",
        "import math"
      ],
      "execution_count": 0,
      "outputs": []
    },
    {
      "cell_type": "markdown",
      "metadata": {
        "id": "PTuMkCalrH5U",
        "colab_type": "text"
      },
      "source": [
        "# trucks want unique id (id is unique for each truck) want to grab the customer and the date used \n",
        "#tickets based on job details, multiple tickets/ invoice per and mults 'special projects' different categories etc.\n",
        "#for each unique ticket and invoice, the type and number of job type of each customer.\n",
        "\n"
      ]
    },
    {
      "cell_type": "code",
      "metadata": {
        "id": "2WSLlZ9x04I3",
        "colab_type": "code",
        "outputId": "7de19ad8-f574-4ff7-abc3-7b80598e8729",
        "colab": {
          "base_uri": "https://localhost:8080/",
          "height": 419
        }
      },
      "source": [
        "url1 = 'https://raw.githubusercontent.com/nurfnick/Cantrell_Jackson/master/hs_customer_4.csv'\n",
        "df1 = pa.read_csv(url1)\n",
        "df1"
      ],
      "execution_count": 0,
      "outputs": [
        {
          "output_type": "execute_result",
          "data": {
            "text/html": [
              "<div>\n",
              "<style scoped>\n",
              "    .dataframe tbody tr th:only-of-type {\n",
              "        vertical-align: middle;\n",
              "    }\n",
              "\n",
              "    .dataframe tbody tr th {\n",
              "        vertical-align: top;\n",
              "    }\n",
              "\n",
              "    .dataframe thead th {\n",
              "        text-align: right;\n",
              "    }\n",
              "</style>\n",
              "<table border=\"1\" class=\"dataframe\">\n",
              "  <thead>\n",
              "    <tr style=\"text-align: right;\">\n",
              "      <th></th>\n",
              "      <th>invoice_id</th>\n",
              "      <th>hs_customer</th>\n",
              "      <th>invoice_total</th>\n",
              "      <th>invoice_time</th>\n",
              "      <th>ticket_id</th>\n",
              "      <th>job_type</th>\n",
              "      <th>ticket_date</th>\n",
              "      <th>ticket_item_type</th>\n",
              "      <th>details</th>\n",
              "    </tr>\n",
              "  </thead>\n",
              "  <tbody>\n",
              "    <tr>\n",
              "      <th>0</th>\n",
              "      <td>179988</td>\n",
              "      <td>4</td>\n",
              "      <td>1703.00</td>\n",
              "      <td>1538430074</td>\n",
              "      <td>921385</td>\n",
              "      <td>Special Projects</td>\n",
              "      <td>1538071304</td>\n",
              "      <td>job_description</td>\n",
              "      <td>1281.0</td>\n",
              "    </tr>\n",
              "    <tr>\n",
              "      <th>1</th>\n",
              "      <td>179987</td>\n",
              "      <td>4</td>\n",
              "      <td>1401.05</td>\n",
              "      <td>1538430070</td>\n",
              "      <td>921730</td>\n",
              "      <td>Special Projects</td>\n",
              "      <td>1538075754</td>\n",
              "      <td>job_description</td>\n",
              "      <td>1281.0</td>\n",
              "    </tr>\n",
              "    <tr>\n",
              "      <th>2</th>\n",
              "      <td>179995</td>\n",
              "      <td>4</td>\n",
              "      <td>533.14</td>\n",
              "      <td>1538430097</td>\n",
              "      <td>922145</td>\n",
              "      <td>Special Projects</td>\n",
              "      <td>1538079932</td>\n",
              "      <td>job_description</td>\n",
              "      <td>1281.0</td>\n",
              "    </tr>\n",
              "    <tr>\n",
              "      <th>3</th>\n",
              "      <td>179978</td>\n",
              "      <td>4</td>\n",
              "      <td>15870.00</td>\n",
              "      <td>1538430035</td>\n",
              "      <td>922198</td>\n",
              "      <td>Special Projects</td>\n",
              "      <td>1538080501</td>\n",
              "      <td>job_description</td>\n",
              "      <td>1281.0</td>\n",
              "    </tr>\n",
              "    <tr>\n",
              "      <th>4</th>\n",
              "      <td>180011</td>\n",
              "      <td>4</td>\n",
              "      <td>2170.00</td>\n",
              "      <td>1538430143</td>\n",
              "      <td>926946</td>\n",
              "      <td>Special Projects</td>\n",
              "      <td>1538404812</td>\n",
              "      <td>job_description</td>\n",
              "      <td>1281.0</td>\n",
              "    </tr>\n",
              "    <tr>\n",
              "      <th>...</th>\n",
              "      <td>...</td>\n",
              "      <td>...</td>\n",
              "      <td>...</td>\n",
              "      <td>...</td>\n",
              "      <td>...</td>\n",
              "      <td>...</td>\n",
              "      <td>...</td>\n",
              "      <td>...</td>\n",
              "      <td>...</td>\n",
              "    </tr>\n",
              "    <tr>\n",
              "      <th>187563</th>\n",
              "      <td>223637</td>\n",
              "      <td>4</td>\n",
              "      <td>5890.50</td>\n",
              "      <td>1547584453</td>\n",
              "      <td>1254414</td>\n",
              "      <td>Water Hauling</td>\n",
              "      <td>1547549304</td>\n",
              "      <td>job_description</td>\n",
              "      <td>NaN</td>\n",
              "    </tr>\n",
              "    <tr>\n",
              "      <th>187564</th>\n",
              "      <td>223548</td>\n",
              "      <td>4</td>\n",
              "      <td>5446.80</td>\n",
              "      <td>1547582644</td>\n",
              "      <td>1254603</td>\n",
              "      <td>Water Hauling</td>\n",
              "      <td>1547553284</td>\n",
              "      <td>job_description</td>\n",
              "      <td>NaN</td>\n",
              "    </tr>\n",
              "    <tr>\n",
              "      <th>187565</th>\n",
              "      <td>223544</td>\n",
              "      <td>4</td>\n",
              "      <td>1682.00</td>\n",
              "      <td>1547582630</td>\n",
              "      <td>1254411</td>\n",
              "      <td>Water Hauling</td>\n",
              "      <td>1547549232</td>\n",
              "      <td>job_description</td>\n",
              "      <td>NaN</td>\n",
              "    </tr>\n",
              "    <tr>\n",
              "      <th>187566</th>\n",
              "      <td>223547</td>\n",
              "      <td>4</td>\n",
              "      <td>2144.20</td>\n",
              "      <td>1547582641</td>\n",
              "      <td>1254609</td>\n",
              "      <td>Water Hauling</td>\n",
              "      <td>1547553354</td>\n",
              "      <td>job_description</td>\n",
              "      <td>NaN</td>\n",
              "    </tr>\n",
              "    <tr>\n",
              "      <th>187567</th>\n",
              "      <td>223546</td>\n",
              "      <td>4</td>\n",
              "      <td>2167.50</td>\n",
              "      <td>1547582637</td>\n",
              "      <td>1254418</td>\n",
              "      <td>Water Hauling</td>\n",
              "      <td>1547549375</td>\n",
              "      <td>job_description</td>\n",
              "      <td>NaN</td>\n",
              "    </tr>\n",
              "  </tbody>\n",
              "</table>\n",
              "<p>187568 rows × 9 columns</p>\n",
              "</div>"
            ],
            "text/plain": [
              "        invoice_id  hs_customer  ...  ticket_item_type  details\n",
              "0           179988            4  ...   job_description   1281.0\n",
              "1           179987            4  ...   job_description   1281.0\n",
              "2           179995            4  ...   job_description   1281.0\n",
              "3           179978            4  ...   job_description   1281.0\n",
              "4           180011            4  ...   job_description   1281.0\n",
              "...            ...          ...  ...               ...      ...\n",
              "187563      223637            4  ...   job_description      NaN\n",
              "187564      223548            4  ...   job_description      NaN\n",
              "187565      223544            4  ...   job_description      NaN\n",
              "187566      223547            4  ...   job_description      NaN\n",
              "187567      223546            4  ...   job_description      NaN\n",
              "\n",
              "[187568 rows x 9 columns]"
            ]
          },
          "metadata": {
            "tags": []
          },
          "execution_count": 131
        }
      ]
    },
    {
      "cell_type": "code",
      "metadata": {
        "id": "DurIAbh5vz2V",
        "colab_type": "code",
        "outputId": "9ac094dc-d6c9-4c2c-8f3b-758ea0d6bc29",
        "colab": {
          "base_uri": "https://localhost:8080/",
          "height": 419
        }
      },
      "source": [
        "df1\n",
        "\t"
      ],
      "execution_count": 0,
      "outputs": [
        {
          "output_type": "execute_result",
          "data": {
            "text/html": [
              "<div>\n",
              "<style scoped>\n",
              "    .dataframe tbody tr th:only-of-type {\n",
              "        vertical-align: middle;\n",
              "    }\n",
              "\n",
              "    .dataframe tbody tr th {\n",
              "        vertical-align: top;\n",
              "    }\n",
              "\n",
              "    .dataframe thead th {\n",
              "        text-align: right;\n",
              "    }\n",
              "</style>\n",
              "<table border=\"1\" class=\"dataframe\">\n",
              "  <thead>\n",
              "    <tr style=\"text-align: right;\">\n",
              "      <th></th>\n",
              "      <th>invoice_id</th>\n",
              "      <th>hs_customer</th>\n",
              "      <th>invoice_total</th>\n",
              "      <th>invoice_time</th>\n",
              "      <th>ticket_id</th>\n",
              "      <th>job_type</th>\n",
              "      <th>ticket_date</th>\n",
              "      <th>ticket_item_type</th>\n",
              "      <th>details</th>\n",
              "    </tr>\n",
              "  </thead>\n",
              "  <tbody>\n",
              "    <tr>\n",
              "      <th>0</th>\n",
              "      <td>179988</td>\n",
              "      <td>4</td>\n",
              "      <td>1703.00</td>\n",
              "      <td>1538430074</td>\n",
              "      <td>921385</td>\n",
              "      <td>Special Projects</td>\n",
              "      <td>1970-01-01 00:00:01.538071304</td>\n",
              "      <td>job_description</td>\n",
              "      <td>1281.0</td>\n",
              "    </tr>\n",
              "    <tr>\n",
              "      <th>1</th>\n",
              "      <td>179987</td>\n",
              "      <td>4</td>\n",
              "      <td>1401.05</td>\n",
              "      <td>1538430070</td>\n",
              "      <td>921730</td>\n",
              "      <td>Special Projects</td>\n",
              "      <td>1970-01-01 00:00:01.538075754</td>\n",
              "      <td>job_description</td>\n",
              "      <td>1281.0</td>\n",
              "    </tr>\n",
              "    <tr>\n",
              "      <th>2</th>\n",
              "      <td>179995</td>\n",
              "      <td>4</td>\n",
              "      <td>533.14</td>\n",
              "      <td>1538430097</td>\n",
              "      <td>922145</td>\n",
              "      <td>Special Projects</td>\n",
              "      <td>1970-01-01 00:00:01.538079932</td>\n",
              "      <td>job_description</td>\n",
              "      <td>1281.0</td>\n",
              "    </tr>\n",
              "    <tr>\n",
              "      <th>3</th>\n",
              "      <td>179978</td>\n",
              "      <td>4</td>\n",
              "      <td>15870.00</td>\n",
              "      <td>1538430035</td>\n",
              "      <td>922198</td>\n",
              "      <td>Special Projects</td>\n",
              "      <td>1970-01-01 00:00:01.538080501</td>\n",
              "      <td>job_description</td>\n",
              "      <td>1281.0</td>\n",
              "    </tr>\n",
              "    <tr>\n",
              "      <th>4</th>\n",
              "      <td>180011</td>\n",
              "      <td>4</td>\n",
              "      <td>2170.00</td>\n",
              "      <td>1538430143</td>\n",
              "      <td>926946</td>\n",
              "      <td>Special Projects</td>\n",
              "      <td>1970-01-01 00:00:01.538404812</td>\n",
              "      <td>job_description</td>\n",
              "      <td>1281.0</td>\n",
              "    </tr>\n",
              "    <tr>\n",
              "      <th>...</th>\n",
              "      <td>...</td>\n",
              "      <td>...</td>\n",
              "      <td>...</td>\n",
              "      <td>...</td>\n",
              "      <td>...</td>\n",
              "      <td>...</td>\n",
              "      <td>...</td>\n",
              "      <td>...</td>\n",
              "      <td>...</td>\n",
              "    </tr>\n",
              "    <tr>\n",
              "      <th>187563</th>\n",
              "      <td>223637</td>\n",
              "      <td>4</td>\n",
              "      <td>5890.50</td>\n",
              "      <td>1547584453</td>\n",
              "      <td>1254414</td>\n",
              "      <td>Water Hauling</td>\n",
              "      <td>1970-01-01 00:00:01.547549304</td>\n",
              "      <td>job_description</td>\n",
              "      <td>NaN</td>\n",
              "    </tr>\n",
              "    <tr>\n",
              "      <th>187564</th>\n",
              "      <td>223548</td>\n",
              "      <td>4</td>\n",
              "      <td>5446.80</td>\n",
              "      <td>1547582644</td>\n",
              "      <td>1254603</td>\n",
              "      <td>Water Hauling</td>\n",
              "      <td>1970-01-01 00:00:01.547553284</td>\n",
              "      <td>job_description</td>\n",
              "      <td>NaN</td>\n",
              "    </tr>\n",
              "    <tr>\n",
              "      <th>187565</th>\n",
              "      <td>223544</td>\n",
              "      <td>4</td>\n",
              "      <td>1682.00</td>\n",
              "      <td>1547582630</td>\n",
              "      <td>1254411</td>\n",
              "      <td>Water Hauling</td>\n",
              "      <td>1970-01-01 00:00:01.547549232</td>\n",
              "      <td>job_description</td>\n",
              "      <td>NaN</td>\n",
              "    </tr>\n",
              "    <tr>\n",
              "      <th>187566</th>\n",
              "      <td>223547</td>\n",
              "      <td>4</td>\n",
              "      <td>2144.20</td>\n",
              "      <td>1547582641</td>\n",
              "      <td>1254609</td>\n",
              "      <td>Water Hauling</td>\n",
              "      <td>1970-01-01 00:00:01.547553354</td>\n",
              "      <td>job_description</td>\n",
              "      <td>NaN</td>\n",
              "    </tr>\n",
              "    <tr>\n",
              "      <th>187567</th>\n",
              "      <td>223546</td>\n",
              "      <td>4</td>\n",
              "      <td>2167.50</td>\n",
              "      <td>1547582637</td>\n",
              "      <td>1254418</td>\n",
              "      <td>Water Hauling</td>\n",
              "      <td>1970-01-01 00:00:01.547549375</td>\n",
              "      <td>job_description</td>\n",
              "      <td>NaN</td>\n",
              "    </tr>\n",
              "  </tbody>\n",
              "</table>\n",
              "<p>187568 rows × 9 columns</p>\n",
              "</div>"
            ],
            "text/plain": [
              "        invoice_id  hs_customer  ...  ticket_item_type  details\n",
              "0           179988            4  ...   job_description   1281.0\n",
              "1           179987            4  ...   job_description   1281.0\n",
              "2           179995            4  ...   job_description   1281.0\n",
              "3           179978            4  ...   job_description   1281.0\n",
              "4           180011            4  ...   job_description   1281.0\n",
              "...            ...          ...  ...               ...      ...\n",
              "187563      223637            4  ...   job_description      NaN\n",
              "187564      223548            4  ...   job_description      NaN\n",
              "187565      223544            4  ...   job_description      NaN\n",
              "187566      223547            4  ...   job_description      NaN\n",
              "187567      223546            4  ...   job_description      NaN\n",
              "\n",
              "[187568 rows x 9 columns]"
            ]
          },
          "metadata": {
            "tags": []
          },
          "execution_count": 256
        }
      ]
    },
    {
      "cell_type": "code",
      "metadata": {
        "id": "5gBCcikeGzve",
        "colab_type": "code",
        "outputId": "9b2121c9-60bb-49d8-a672-4cb1751571be",
        "colab": {
          "base_uri": "https://localhost:8080/",
          "height": 214
        }
      },
      "source": [
        "del i\n",
        "del x\n",
        "del j\n",
        "del readable"
      ],
      "execution_count": 0,
      "outputs": [
        {
          "output_type": "error",
          "ename": "NameError",
          "evalue": "ignored",
          "traceback": [
            "\u001b[0;31m---------------------------------------------------------------------------\u001b[0m",
            "\u001b[0;31mNameError\u001b[0m                                 Traceback (most recent call last)",
            "\u001b[0;32m<ipython-input-227-8cda63c2edbf>\u001b[0m in \u001b[0;36m<module>\u001b[0;34m()\u001b[0m\n\u001b[1;32m      1\u001b[0m \u001b[0;32mdel\u001b[0m \u001b[0mi\u001b[0m\u001b[0;34m\u001b[0m\u001b[0;34m\u001b[0m\u001b[0m\n\u001b[0;32m----> 2\u001b[0;31m \u001b[0;32mdel\u001b[0m \u001b[0mx\u001b[0m\u001b[0;34m\u001b[0m\u001b[0;34m\u001b[0m\u001b[0m\n\u001b[0m\u001b[1;32m      3\u001b[0m \u001b[0;32mdel\u001b[0m \u001b[0mj\u001b[0m\u001b[0;34m\u001b[0m\u001b[0;34m\u001b[0m\u001b[0m\n\u001b[1;32m      4\u001b[0m \u001b[0;32mdel\u001b[0m \u001b[0mreadable\u001b[0m\u001b[0;34m\u001b[0m\u001b[0;34m\u001b[0m\u001b[0m\n",
            "\u001b[0;31mNameError\u001b[0m: name 'x' is not defined"
          ]
        }
      ]
    },
    {
      "cell_type": "code",
      "metadata": {
        "id": "BeQRpBHEzWGk",
        "colab_type": "code",
        "outputId": "b24eee0d-23df-466c-cca0-d094fed6cc76",
        "colab": {
          "base_uri": "https://localhost:8080/",
          "height": 255
        }
      },
      "source": [
        "for index, date in enumerate(df1['ticket_date']):\n",
        "  readable = dt.datetime.fromtimestamp(date).strftime('%m%y')\n",
        "  df1.at[index, 'readable'] = readable\n",
        "print(df1)"
      ],
      "execution_count": 0,
      "outputs": [
        {
          "output_type": "stream",
          "text": [
            "        invoice_id  hs_customer  ...  details  readable\n",
            "0           179988            4  ...   1281.0      0918\n",
            "1           179987            4  ...   1281.0      0918\n",
            "2           179995            4  ...   1281.0      0918\n",
            "3           179978            4  ...   1281.0      0918\n",
            "4           180011            4  ...   1281.0      1018\n",
            "...            ...          ...  ...      ...       ...\n",
            "187563      223637            4  ...      NaN      0119\n",
            "187564      223548            4  ...      NaN      0119\n",
            "187565      223544            4  ...      NaN      0119\n",
            "187566      223547            4  ...      NaN      0119\n",
            "187567      223546            4  ...      NaN      0119\n",
            "\n",
            "[187568 rows x 10 columns]\n"
          ],
          "name": "stdout"
        }
      ]
    },
    {
      "cell_type": "code",
      "metadata": {
        "id": "RyRAcoRLVki9",
        "colab_type": "code",
        "outputId": "4754e862-9e83-4edb-e7fb-53d1cb7edfc2",
        "colab": {
          "base_uri": "https://localhost:8080/",
          "height": 34
        }
      },
      "source": [
        "for i in df1['ticket_date']:\n",
        "  i = []\n",
        "  x = []\n",
        "  for i in readable:\n",
        "    i = x\n",
        "    readable = []\n",
        "    readable = dt.datetime.fromtimestamp(x).strftime('%m%y')\n",
        "print(len(readable))"
      ],
      "execution_count": 0,
      "outputs": [
        {
          "output_type": "stream",
          "text": [
            "0\n"
          ],
          "name": "stdout"
        }
      ]
    },
    {
      "cell_type": "code",
      "metadata": {
        "id": "Nm8A-mjuCKj0",
        "colab_type": "code",
        "outputId": "c75423c4-aa63-4111-9c5e-5fd5eabb727a",
        "colab": {
          "base_uri": "https://localhost:8080/",
          "height": 268
        }
      },
      "source": [
        "#16, 18, 19, 5 are too big- zipped files.\n",
        "#34,39,41,45 too big\n",
        "# for customers 4 10 15 28\n",
        "custnums = [4, 10, 15, 28, 34, 39, 41, 45]\n",
        "for n in range(len(custnums)):\n",
        "  print('Customer '+str(custnums[n])+':')\n",
        "  #read files\n",
        "  url = 'https://raw.githubusercontent.com/nurfnick/Cantrell_Jackson/master/hs_customer_'+str(custnums[n])+'.csv'\n",
        "  df = pa.read_csv(url)\n",
        "  #make date a number, make blanks = 0, readable upper/lower case, get rid of duplicates\n",
        "  for index, date in enumerate(df['ticket_date']):\n",
        "    if math.isnan(date):\n",
        "      df.at[index,'readable']= \"No Date Given\"\n",
        "    else:\n",
        "      readable = dt.datetime.fromtimestamp(date).strftime('%m%y')\n",
        "      df.at[index, 'readable'] = readable\n",
        "  values = {'invoice_id': 0, 'hs_customer': 0, 'invoice_total': 0, 'invoice_time': 0, 'ticket_id': 0, 'job_type': 0, 'ticket_date': 0,'ticket_item_type': 0, 'details': 0}\n",
        "  df.fillna(value=values)\n",
        "  dfnoNAN = df.fillna(value=values)\n",
        "  dfnoduplicates = dfnoNAN.drop_duplicates()\n",
        "  dfnoduplicates.columns = dfnoduplicates.columns.str.lower()\n",
        "  #group by ticket date\n",
        "  dfgroupdates = dfnoduplicates.groupby('readable')\n",
        "  #grab one of the dates\n",
        "  dates = ['0118', '0218', '0318', '0418', '0518', '0618', '0718', '0818', '0918', '1018', '1118', '1218', '0119', '0219', '0319', '0419', '0519', '0619', '0719', '0819', '0919', '1019', '1119', '1219']\n",
        "  for x in range(len(dates)):\n",
        "    print(f'Customer {str(custnums[n])}: date {str(date[x])}:')\n",
        "    if x in dfgroupdates.ticket_date:\n",
        "      billdates = dfgroupdates.get_group({str(date[x])})\n",
        "      #group by the job type\n",
        "      billdatesjobtype = billdates.groupby('job_type')\n",
        "      billdatessp = billdatesjobtype.get_group('Special Projects')\n",
        "      customerdatessplen = len(billdatessp)\n",
        "      customerdatesspmoney = round(sum(billdatessp['invoice_total']),2)\n",
        "      if 'Water Hauling' in billdatesjobtype.groups.keys():\n",
        "        billdateswh = billdatesjobtype.get_group('Water Hauling')\n",
        "        customerdateswhlen = len(billdateswh)\n",
        "        customerdateswhmoney = round(sum(billdateswh['invoice_total']),2)\n",
        "      else:\n",
        "        customerdateswhlen = 0\n",
        "        customerdateswhmoney = 0\n",
        "      if 'Flowback' in billdatesjobtype.groups.keys():\n",
        "        billdatesfb = billdatesjobtype.get_group('Flowback')\n",
        "        customerdatesfblen = len(billdatesfb)\n",
        "        customerdatesfbmoney = round(sum(billdatesfb['invoice_total']),2)\n",
        "        customerdateslentot = customerdatessplen + customerdatesfblen + customerdateswhlen\n",
        "        customerdatesmoneytot = customerdatesspmoney + customerdatesfbmoney + customerdateswhmoney\n",
        "        print(f'Bill date Summary:\\n Special Projects Tickets Count: {customerdatessplen:,.0f}\\n Cash: ${customerdatsspmoney:,.2f}\\n Water Hauling Ticket Count: {customerdateswhlen:,.0f}\\n Cash: ${customerdateswhmoney:,.2f}\\n Flowback Ticket Count: {customerdatesfblen:,.0f}\\n Cash: ${customerdatesfbmoney:,.2f}\\n Total Customer Ticket Count: {customerdateslentot:,.0f}\\n Cash: ${customerdatesmoneytot:,.2f}')\n",
        "      else:\n",
        "        customerdateslentot = customerdatessplen + customerdateswhlen\n",
        "        customerdatesmoneytot = customerdatesspmoney + customerdateswhmoney\n",
        "        print(f'Bill date Summary:\\n Special Projects Tickets Count: {customerdatessplen:,.0f}\\n Cash: ${customerdatesspmoney:,.2f}\\n Water Hauling Ticket Count: {customerdateswhlen:,.0f}\\n Cash: ${customerdateswhmoney:,.2f}\\n No Flowback tickets\\n Total Customer Ticket Count: {customerdateslentot:,.0f}\\n Cash: ${customerdatesmoneytot:,.2f}')\n",
        "    print('\\n')"
      ],
      "execution_count": 54,
      "outputs": [
        {
          "output_type": "stream",
          "text": [
            "Customer 4:\n"
          ],
          "name": "stdout"
        },
        {
          "output_type": "error",
          "ename": "TypeError",
          "evalue": "ignored",
          "traceback": [
            "\u001b[0;31m---------------------------------------------------------------------------\u001b[0m",
            "\u001b[0;31mTypeError\u001b[0m                                 Traceback (most recent call last)",
            "\u001b[0;32m<ipython-input-54-bb31d5768f44>\u001b[0m in \u001b[0;36m<module>\u001b[0;34m()\u001b[0m\n\u001b[1;32m     22\u001b[0m   \u001b[0mdates\u001b[0m \u001b[0;34m=\u001b[0m \u001b[0;34m[\u001b[0m\u001b[0;34m'0118'\u001b[0m\u001b[0;34m,\u001b[0m \u001b[0;34m'0218'\u001b[0m\u001b[0;34m,\u001b[0m \u001b[0;34m'0318'\u001b[0m\u001b[0;34m,\u001b[0m \u001b[0;34m'0418'\u001b[0m\u001b[0;34m,\u001b[0m \u001b[0;34m'0518'\u001b[0m\u001b[0;34m,\u001b[0m \u001b[0;34m'0618'\u001b[0m\u001b[0;34m,\u001b[0m \u001b[0;34m'0718'\u001b[0m\u001b[0;34m,\u001b[0m \u001b[0;34m'0818'\u001b[0m\u001b[0;34m,\u001b[0m \u001b[0;34m'0918'\u001b[0m\u001b[0;34m,\u001b[0m \u001b[0;34m'1018'\u001b[0m\u001b[0;34m,\u001b[0m \u001b[0;34m'1118'\u001b[0m\u001b[0;34m,\u001b[0m \u001b[0;34m'1218'\u001b[0m\u001b[0;34m,\u001b[0m \u001b[0;34m'0119'\u001b[0m\u001b[0;34m,\u001b[0m \u001b[0;34m'0219'\u001b[0m\u001b[0;34m,\u001b[0m \u001b[0;34m'0319'\u001b[0m\u001b[0;34m,\u001b[0m \u001b[0;34m'0419'\u001b[0m\u001b[0;34m,\u001b[0m \u001b[0;34m'0519'\u001b[0m\u001b[0;34m,\u001b[0m \u001b[0;34m'0619'\u001b[0m\u001b[0;34m,\u001b[0m \u001b[0;34m'0719'\u001b[0m\u001b[0;34m,\u001b[0m \u001b[0;34m'0819'\u001b[0m\u001b[0;34m,\u001b[0m \u001b[0;34m'0919'\u001b[0m\u001b[0;34m,\u001b[0m \u001b[0;34m'1019'\u001b[0m\u001b[0;34m,\u001b[0m \u001b[0;34m'1119'\u001b[0m\u001b[0;34m,\u001b[0m \u001b[0;34m'1219'\u001b[0m\u001b[0;34m]\u001b[0m\u001b[0;34m\u001b[0m\u001b[0;34m\u001b[0m\u001b[0m\n\u001b[1;32m     23\u001b[0m   \u001b[0;32mfor\u001b[0m \u001b[0mx\u001b[0m \u001b[0;32min\u001b[0m \u001b[0mrange\u001b[0m\u001b[0;34m(\u001b[0m\u001b[0mlen\u001b[0m\u001b[0;34m(\u001b[0m\u001b[0mdates\u001b[0m\u001b[0;34m)\u001b[0m\u001b[0;34m)\u001b[0m\u001b[0;34m:\u001b[0m\u001b[0;34m\u001b[0m\u001b[0;34m\u001b[0m\u001b[0m\n\u001b[0;32m---> 24\u001b[0;31m     \u001b[0mprint\u001b[0m\u001b[0;34m(\u001b[0m\u001b[0;34mf'Customer {str(custnums[n])}: date {str(date[x])}:'\u001b[0m\u001b[0;34m)\u001b[0m\u001b[0;34m\u001b[0m\u001b[0;34m\u001b[0m\u001b[0m\n\u001b[0m\u001b[1;32m     25\u001b[0m     \u001b[0;32mif\u001b[0m \u001b[0mx\u001b[0m \u001b[0;32min\u001b[0m \u001b[0mdfgroupdates\u001b[0m\u001b[0;34m.\u001b[0m\u001b[0mticket_date\u001b[0m\u001b[0;34m:\u001b[0m\u001b[0;34m\u001b[0m\u001b[0;34m\u001b[0m\u001b[0m\n\u001b[1;32m     26\u001b[0m       \u001b[0mbilldates\u001b[0m \u001b[0;34m=\u001b[0m \u001b[0mdfgroupdates\u001b[0m\u001b[0;34m.\u001b[0m\u001b[0mget_group\u001b[0m\u001b[0;34m(\u001b[0m\u001b[0;34m{\u001b[0m\u001b[0mstr\u001b[0m\u001b[0;34m(\u001b[0m\u001b[0mdate\u001b[0m\u001b[0;34m[\u001b[0m\u001b[0mx\u001b[0m\u001b[0;34m]\u001b[0m\u001b[0;34m)\u001b[0m\u001b[0;34m}\u001b[0m\u001b[0;34m)\u001b[0m\u001b[0;34m\u001b[0m\u001b[0;34m\u001b[0m\u001b[0m\n",
            "\u001b[0;31mTypeError\u001b[0m: 'int' object is not subscriptable"
          ]
        }
      ]
    },
    {
      "cell_type": "code",
      "metadata": {
        "id": "eOv1V8B6RCwl",
        "colab_type": "code",
        "colab": {}
      },
      "source": [
        "import math\n",
        "\n",
        "for index, date in enumerate(df28['ticket_date']):\n",
        "  if math.isnan(date):\n",
        "    df28.at[index,'readable']= \"No Date Given\"\n",
        "  else:\n",
        "    readable = dt.datetime.fromtimestamp(date).strftime('%m%y')\n",
        "    df28.at[index, 'readable'] = readable"
      ],
      "execution_count": 0,
      "outputs": []
    },
    {
      "cell_type": "code",
      "metadata": {
        "id": "BOTTdNbhzb9F",
        "colab_type": "code",
        "outputId": "e0f0caff-928f-4dbd-e277-621ff79f195c",
        "colab": {
          "base_uri": "https://localhost:8080/",
          "height": 221
        }
      },
      "source": [
        "url28 = 'https://raw.githubusercontent.com/nurfnick/Cantrell_Jackson/master/hs_customer_28.csv'\n",
        "df28 = pa.read_csv(url28)\n",
        "df28.ticket_date.isna"
      ],
      "execution_count": 0,
      "outputs": [
        {
          "output_type": "execute_result",
          "data": {
            "text/plain": [
              "<bound method Series.isna of 0         1.537623e+09\n",
              "1         1.537691e+09\n",
              "2         1.537691e+09\n",
              "3         1.537691e+09\n",
              "4         1.537693e+09\n",
              "              ...     \n",
              "240618    1.569940e+09\n",
              "240619    1.569940e+09\n",
              "240620    1.569941e+09\n",
              "240621    1.569942e+09\n",
              "240622    1.569944e+09\n",
              "Name: ticket_date, Length: 240623, dtype: float64>"
            ]
          },
          "metadata": {
            "tags": []
          },
          "execution_count": 14
        }
      ]
    },
    {
      "cell_type": "code",
      "metadata": {
        "id": "zKiF9gPmM6qe",
        "colab_type": "code",
        "outputId": "8faebd48-66e5-4392-b8b1-5d34f509977e",
        "colab": {
          "base_uri": "https://localhost:8080/",
          "height": 221
        }
      },
      "source": [
        "df28['ticket_date']"
      ],
      "execution_count": 0,
      "outputs": [
        {
          "output_type": "execute_result",
          "data": {
            "text/plain": [
              "0         1.537623e+09\n",
              "1         1.537691e+09\n",
              "2         1.537691e+09\n",
              "3         1.537691e+09\n",
              "4         1.537693e+09\n",
              "              ...     \n",
              "240618    1.569940e+09\n",
              "240619    1.569940e+09\n",
              "240620    1.569941e+09\n",
              "240621    1.569942e+09\n",
              "240622    1.569944e+09\n",
              "Name: ticket_date, Length: 240623, dtype: float64"
            ]
          },
          "metadata": {
            "tags": []
          },
          "execution_count": 15
        }
      ]
    },
    {
      "cell_type": "code",
      "metadata": {
        "id": "refzKBObMawi",
        "colab_type": "code",
        "outputId": "186ca196-97ba-41f5-c70a-46d776acfc4e",
        "colab": {
          "base_uri": "https://localhost:8080/",
          "height": 85
        }
      },
      "source": [
        "df28.isna().any()[lambda x: x]"
      ],
      "execution_count": 0,
      "outputs": [
        {
          "output_type": "execute_result",
          "data": {
            "text/plain": [
              "invoice_total    True\n",
              "ticket_date      True\n",
              "details          True\n",
              "dtype: bool"
            ]
          },
          "metadata": {
            "tags": []
          },
          "execution_count": 9
        }
      ]
    },
    {
      "cell_type": "code",
      "metadata": {
        "id": "WZ5yAf3ndiNK",
        "colab_type": "code",
        "colab": {}
      },
      "source": [
        "for index, date in enumerate(df['ticket_date']):\n",
        "    readable = dt.datetime.fromtimestamp(date).strftime('%m%y')\n",
        "    df.at[index, 'readable'] = readable"
      ],
      "execution_count": 0,
      "outputs": []
    }
  ]
}