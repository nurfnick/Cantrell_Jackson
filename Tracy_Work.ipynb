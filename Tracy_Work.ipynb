{
  "nbformat": 4,
  "nbformat_minor": 0,
  "metadata": {
    "colab": {
      "name": "Untitled0.ipynb",
      "provenance": [],
      "include_colab_link": true
    },
    "kernelspec": {
      "name": "python3",
      "display_name": "Python 3"
    }
  },
  "cells": [
    {
      "cell_type": "markdown",
      "metadata": {
        "id": "view-in-github",
        "colab_type": "text"
      },
      "source": [
        "<a href=\"https://colab.research.google.com/github/nurfnick/Cantrell_Jackson/blob/master/Tracy_Work.ipynb\" target=\"_parent\"><img src=\"https://colab.research.google.com/assets/colab-badge.svg\" alt=\"Open In Colab\"/></a>"
      ]
    },
    {
      "cell_type": "code",
      "metadata": {
        "id": "5RxGfOnXBZ_Z",
        "colab_type": "code",
        "colab": {}
      },
      "source": [
        "import pandas as pa\n",
        "import numpy as np"
      ],
      "execution_count": 0,
      "outputs": []
    },
    {
      "cell_type": "code",
      "metadata": {
        "id": "OwnmdMteCOCe",
        "colab_type": "code",
        "colab": {}
      },
      "source": [
        "url = 'https://raw.githubusercontent.com/nurfnick/Cantrell_Jackson/master/Support-Oct18-Sept19.csv'"
      ],
      "execution_count": 0,
      "outputs": []
    },
    {
      "cell_type": "code",
      "metadata": {
        "id": "qbOEjxn0EfVd",
        "colab_type": "code",
        "colab": {}
      },
      "source": [
        "df2 = pa.read_csv(url)"
      ],
      "execution_count": 0,
      "outputs": []
    },
    {
      "cell_type": "code",
      "metadata": {
        "id": "F-PKhZgvbkH-",
        "colab_type": "code",
        "colab": {}
      },
      "source": [
        ""
      ],
      "execution_count": 0,
      "outputs": []
    },
    {
      "cell_type": "code",
      "metadata": {
        "id": "PJXNdrMXE-pG",
        "colab_type": "code",
        "outputId": "de79e53a-7b41-4970-f7cb-7c93ebb53cd9",
        "colab": {
          "base_uri": "https://localhost:8080/",
          "height": 708
        }
      },
      "source": [
        "df2"
      ],
      "execution_count": 70,
      "outputs": [
        {
          "output_type": "execute_result",
          "data": {
            "text/html": [
              "<div>\n",
              "<style scoped>\n",
              "    .dataframe tbody tr th:only-of-type {\n",
              "        vertical-align: middle;\n",
              "    }\n",
              "\n",
              "    .dataframe tbody tr th {\n",
              "        vertical-align: top;\n",
              "    }\n",
              "\n",
              "    .dataframe thead th {\n",
              "        text-align: right;\n",
              "    }\n",
              "</style>\n",
              "<table border=\"1\" class=\"dataframe\">\n",
              "  <thead>\n",
              "    <tr style=\"text-align: right;\">\n",
              "      <th></th>\n",
              "      <th>Ticket ID</th>\n",
              "      <th>HS Customer</th>\n",
              "      <th>Subject</th>\n",
              "      <th>Source</th>\n",
              "      <th>Type</th>\n",
              "      <th>Weight</th>\n",
              "      <th>Created time</th>\n",
              "      <th>Initial response time</th>\n",
              "      <th>Resolved time</th>\n",
              "      <th>First response time (in hrs)</th>\n",
              "      <th>Resolution time (in hrs)</th>\n",
              "      <th>Agent interactions</th>\n",
              "      <th>Customer interactions</th>\n",
              "    </tr>\n",
              "  </thead>\n",
              "  <tbody>\n",
              "    <tr>\n",
              "      <th>0</th>\n",
              "      <td>35</td>\n",
              "      <td>18</td>\n",
              "      <td>Lease name shows up as two different names</td>\n",
              "      <td>Portal</td>\n",
              "      <td>Problem / Issue</td>\n",
              "      <td>3</td>\n",
              "      <td>11/1/2018 16:48</td>\n",
              "      <td>11/2/2018 10:34</td>\n",
              "      <td>11/2/2018 10:39</td>\n",
              "      <td>2:45:09</td>\n",
              "      <td>2:50:17</td>\n",
              "      <td>1</td>\n",
              "      <td>1</td>\n",
              "    </tr>\n",
              "    <tr>\n",
              "      <th>1</th>\n",
              "      <td>36</td>\n",
              "      <td>19</td>\n",
              "      <td>Report Filters</td>\n",
              "      <td>Portal</td>\n",
              "      <td>Feature Request</td>\n",
              "      <td>2</td>\n",
              "      <td>11/5/2018 11:22</td>\n",
              "      <td>11/5/2018 12:11</td>\n",
              "      <td>11/6/2018 7:35</td>\n",
              "      <td>0:48:16</td>\n",
              "      <td>5:12:29</td>\n",
              "      <td>2</td>\n",
              "      <td>1</td>\n",
              "    </tr>\n",
              "    <tr>\n",
              "      <th>2</th>\n",
              "      <td>44</td>\n",
              "      <td>20</td>\n",
              "      <td>area selectiom</td>\n",
              "      <td>Portal</td>\n",
              "      <td>General Question</td>\n",
              "      <td>1</td>\n",
              "      <td>11/15/2018 6:05</td>\n",
              "      <td>11/15/2018 7:51</td>\n",
              "      <td>11/16/2018 12:21</td>\n",
              "      <td>0:51:08</td>\n",
              "      <td>14:21:07</td>\n",
              "      <td>1</td>\n",
              "      <td>1</td>\n",
              "    </tr>\n",
              "    <tr>\n",
              "      <th>3</th>\n",
              "      <td>54</td>\n",
              "      <td>20</td>\n",
              "      <td>report fields</td>\n",
              "      <td>Portal</td>\n",
              "      <td>Feature Request</td>\n",
              "      <td>1</td>\n",
              "      <td>11/18/2018 7:32</td>\n",
              "      <td>11/18/2018 7:42</td>\n",
              "      <td>11/20/2018 7:03</td>\n",
              "      <td>0:00:00</td>\n",
              "      <td>9:03:26</td>\n",
              "      <td>1</td>\n",
              "      <td>1</td>\n",
              "    </tr>\n",
              "    <tr>\n",
              "      <th>4</th>\n",
              "      <td>55</td>\n",
              "      <td>23</td>\n",
              "      <td>Driver Run Report is Duplicating Drivers</td>\n",
              "      <td>Portal</td>\n",
              "      <td>Problem / Issue</td>\n",
              "      <td>2</td>\n",
              "      <td>11/27/2018 10:58</td>\n",
              "      <td>11/27/2018 12:57</td>\n",
              "      <td>11/27/2018 12:57</td>\n",
              "      <td>1:59:15</td>\n",
              "      <td>1:59:18</td>\n",
              "      <td>1</td>\n",
              "      <td>1</td>\n",
              "    </tr>\n",
              "    <tr>\n",
              "      <th>...</th>\n",
              "      <td>...</td>\n",
              "      <td>...</td>\n",
              "      <td>...</td>\n",
              "      <td>...</td>\n",
              "      <td>...</td>\n",
              "      <td>...</td>\n",
              "      <td>...</td>\n",
              "      <td>...</td>\n",
              "      <td>...</td>\n",
              "      <td>...</td>\n",
              "      <td>...</td>\n",
              "      <td>...</td>\n",
              "      <td>...</td>\n",
              "    </tr>\n",
              "    <tr>\n",
              "      <th>279</th>\n",
              "      <td>1009</td>\n",
              "      <td>18</td>\n",
              "      <td>Incorrect default of name/email</td>\n",
              "      <td>Portal</td>\n",
              "      <td>Software Problem / Issue</td>\n",
              "      <td>4</td>\n",
              "      <td>9/24/2019 13:28</td>\n",
              "      <td>9/24/2019 13:47</td>\n",
              "      <td>9/24/2019 14:34</td>\n",
              "      <td>0:19:06</td>\n",
              "      <td>1:06:22</td>\n",
              "      <td>1</td>\n",
              "      <td>1</td>\n",
              "    </tr>\n",
              "    <tr>\n",
              "      <th>280</th>\n",
              "      <td>1012</td>\n",
              "      <td>18</td>\n",
              "      <td>Fw: Hauling issue</td>\n",
              "      <td>Email</td>\n",
              "      <td>Software Problem / Issue</td>\n",
              "      <td>4</td>\n",
              "      <td>9/25/2019 7:54</td>\n",
              "      <td>9/25/2019 9:01</td>\n",
              "      <td>NaN</td>\n",
              "      <td>1:01:53</td>\n",
              "      <td>0:00:00</td>\n",
              "      <td>1</td>\n",
              "      <td>3</td>\n",
              "    </tr>\n",
              "    <tr>\n",
              "      <th>281</th>\n",
              "      <td>1014</td>\n",
              "      <td>18</td>\n",
              "      <td>Tickets is Limbo</td>\n",
              "      <td>Email</td>\n",
              "      <td>Software Problem / Issue</td>\n",
              "      <td>4</td>\n",
              "      <td>9/27/2019 8:35</td>\n",
              "      <td>9/27/2019 8:46</td>\n",
              "      <td>9/27/2019 11:39</td>\n",
              "      <td>0:11:34</td>\n",
              "      <td>3:04:17</td>\n",
              "      <td>2</td>\n",
              "      <td>3</td>\n",
              "    </tr>\n",
              "    <tr>\n",
              "      <th>282</th>\n",
              "      <td>1016</td>\n",
              "      <td>18</td>\n",
              "      <td>Company showing in red as if it's past due, bu...</td>\n",
              "      <td>Portal</td>\n",
              "      <td>Software Problem / Issue</td>\n",
              "      <td>3</td>\n",
              "      <td>9/30/2019 10:37</td>\n",
              "      <td>9/30/2019 11:25</td>\n",
              "      <td>10/1/2019 16:06</td>\n",
              "      <td>0:48:33</td>\n",
              "      <td>14:29:49</td>\n",
              "      <td>1</td>\n",
              "      <td>2</td>\n",
              "    </tr>\n",
              "    <tr>\n",
              "      <th>283</th>\n",
              "      <td>1017</td>\n",
              "      <td>18</td>\n",
              "      <td>Fw: Wrong info in Hauling Software</td>\n",
              "      <td>Email</td>\n",
              "      <td>Software Problem / Issue</td>\n",
              "      <td>4</td>\n",
              "      <td>9/30/2019 15:00</td>\n",
              "      <td>NaN</td>\n",
              "      <td>NaN</td>\n",
              "      <td>0:00:00</td>\n",
              "      <td>0:00:00</td>\n",
              "      <td>0</td>\n",
              "      <td>3</td>\n",
              "    </tr>\n",
              "  </tbody>\n",
              "</table>\n",
              "<p>284 rows × 13 columns</p>\n",
              "</div>"
            ],
            "text/plain": [
              "     Ticket ID  HS Customer  ... Agent interactions Customer interactions\n",
              "0           35           18  ...                  1                     1\n",
              "1           36           19  ...                  2                     1\n",
              "2           44           20  ...                  1                     1\n",
              "3           54           20  ...                  1                     1\n",
              "4           55           23  ...                  1                     1\n",
              "..         ...          ...  ...                ...                   ...\n",
              "279       1009           18  ...                  1                     1\n",
              "280       1012           18  ...                  1                     3\n",
              "281       1014           18  ...                  2                     3\n",
              "282       1016           18  ...                  1                     2\n",
              "283       1017           18  ...                  0                     3\n",
              "\n",
              "[284 rows x 13 columns]"
            ]
          },
          "metadata": {
            "tags": []
          },
          "execution_count": 70
        }
      ]
    },
    {
      "cell_type": "code",
      "metadata": {
        "id": "q3VEw4weFDr9",
        "colab_type": "code",
        "colab": {}
      },
      "source": [
        "cust18 = df2[df2['HS Customer']==18] #only ids that are 18"
      ],
      "execution_count": 0,
      "outputs": []
    },
    {
      "cell_type": "code",
      "metadata": {
        "id": "HpjYJDxPFPft",
        "colab_type": "code",
        "outputId": "3191ca05-499e-43af-e5a4-1a095cf562c6",
        "colab": {
          "base_uri": "https://localhost:8080/",
          "height": 742
        }
      },
      "source": [
        "cust18"
      ],
      "execution_count": 72,
      "outputs": [
        {
          "output_type": "execute_result",
          "data": {
            "text/html": [
              "<div>\n",
              "<style scoped>\n",
              "    .dataframe tbody tr th:only-of-type {\n",
              "        vertical-align: middle;\n",
              "    }\n",
              "\n",
              "    .dataframe tbody tr th {\n",
              "        vertical-align: top;\n",
              "    }\n",
              "\n",
              "    .dataframe thead th {\n",
              "        text-align: right;\n",
              "    }\n",
              "</style>\n",
              "<table border=\"1\" class=\"dataframe\">\n",
              "  <thead>\n",
              "    <tr style=\"text-align: right;\">\n",
              "      <th></th>\n",
              "      <th>Ticket ID</th>\n",
              "      <th>HS Customer</th>\n",
              "      <th>Subject</th>\n",
              "      <th>Source</th>\n",
              "      <th>Type</th>\n",
              "      <th>Weight</th>\n",
              "      <th>Created time</th>\n",
              "      <th>Initial response time</th>\n",
              "      <th>Resolved time</th>\n",
              "      <th>First response time (in hrs)</th>\n",
              "      <th>Resolution time (in hrs)</th>\n",
              "      <th>Agent interactions</th>\n",
              "      <th>Customer interactions</th>\n",
              "    </tr>\n",
              "  </thead>\n",
              "  <tbody>\n",
              "    <tr>\n",
              "      <th>0</th>\n",
              "      <td>35</td>\n",
              "      <td>18</td>\n",
              "      <td>Lease name shows up as two different names</td>\n",
              "      <td>Portal</td>\n",
              "      <td>Problem / Issue</td>\n",
              "      <td>3</td>\n",
              "      <td>11/1/2018 16:48</td>\n",
              "      <td>11/2/2018 10:34</td>\n",
              "      <td>11/2/2018 10:39</td>\n",
              "      <td>2:45:09</td>\n",
              "      <td>2:50:17</td>\n",
              "      <td>1</td>\n",
              "      <td>1</td>\n",
              "    </tr>\n",
              "    <tr>\n",
              "      <th>5</th>\n",
              "      <td>65</td>\n",
              "      <td>18</td>\n",
              "      <td>How do I delete &amp; replace a supplemental ticke...</td>\n",
              "      <td>Portal</td>\n",
              "      <td>Problem / Issue</td>\n",
              "      <td>2</td>\n",
              "      <td>12/6/2018 10:21</td>\n",
              "      <td>12/6/2018 10:47</td>\n",
              "      <td>12/6/2018 14:24</td>\n",
              "      <td>0:26:16</td>\n",
              "      <td>4:03:19</td>\n",
              "      <td>1</td>\n",
              "      <td>1</td>\n",
              "    </tr>\n",
              "    <tr>\n",
              "      <th>6</th>\n",
              "      <td>71</td>\n",
              "      <td>18</td>\n",
              "      <td>Attaching a scan after the fact</td>\n",
              "      <td>Portal</td>\n",
              "      <td>General Question</td>\n",
              "      <td>2</td>\n",
              "      <td>12/7/2018 14:09</td>\n",
              "      <td>12/8/2018 15:26</td>\n",
              "      <td>12/7/2018 15:47</td>\n",
              "      <td>0:00:00</td>\n",
              "      <td>1:38:19</td>\n",
              "      <td>0</td>\n",
              "      <td>1</td>\n",
              "    </tr>\n",
              "    <tr>\n",
              "      <th>7</th>\n",
              "      <td>73</td>\n",
              "      <td>18</td>\n",
              "      <td>Date Range Report</td>\n",
              "      <td>Portal</td>\n",
              "      <td>Software Problem / Issue</td>\n",
              "      <td>1</td>\n",
              "      <td>12/12/2018 9:31</td>\n",
              "      <td>12/12/2018 10:41</td>\n",
              "      <td>12/12/2018 11:04</td>\n",
              "      <td>1:09:50</td>\n",
              "      <td>1:33:08</td>\n",
              "      <td>1</td>\n",
              "      <td>1</td>\n",
              "    </tr>\n",
              "    <tr>\n",
              "      <th>8</th>\n",
              "      <td>75</td>\n",
              "      <td>18</td>\n",
              "      <td>PO/AFE Number Not on MT</td>\n",
              "      <td>Portal</td>\n",
              "      <td>Software Problem / Issue</td>\n",
              "      <td>1</td>\n",
              "      <td>12/14/2018 8:17</td>\n",
              "      <td>12/14/2018 8:22</td>\n",
              "      <td>12/20/2018 13:43</td>\n",
              "      <td>0:04:55</td>\n",
              "      <td>41:25:58</td>\n",
              "      <td>1</td>\n",
              "      <td>1</td>\n",
              "    </tr>\n",
              "    <tr>\n",
              "      <th>...</th>\n",
              "      <td>...</td>\n",
              "      <td>...</td>\n",
              "      <td>...</td>\n",
              "      <td>...</td>\n",
              "      <td>...</td>\n",
              "      <td>...</td>\n",
              "      <td>...</td>\n",
              "      <td>...</td>\n",
              "      <td>...</td>\n",
              "      <td>...</td>\n",
              "      <td>...</td>\n",
              "      <td>...</td>\n",
              "      <td>...</td>\n",
              "    </tr>\n",
              "    <tr>\n",
              "      <th>279</th>\n",
              "      <td>1009</td>\n",
              "      <td>18</td>\n",
              "      <td>Incorrect default of name/email</td>\n",
              "      <td>Portal</td>\n",
              "      <td>Software Problem / Issue</td>\n",
              "      <td>4</td>\n",
              "      <td>9/24/2019 13:28</td>\n",
              "      <td>9/24/2019 13:47</td>\n",
              "      <td>9/24/2019 14:34</td>\n",
              "      <td>0:19:06</td>\n",
              "      <td>1:06:22</td>\n",
              "      <td>1</td>\n",
              "      <td>1</td>\n",
              "    </tr>\n",
              "    <tr>\n",
              "      <th>280</th>\n",
              "      <td>1012</td>\n",
              "      <td>18</td>\n",
              "      <td>Fw: Hauling issue</td>\n",
              "      <td>Email</td>\n",
              "      <td>Software Problem / Issue</td>\n",
              "      <td>4</td>\n",
              "      <td>9/25/2019 7:54</td>\n",
              "      <td>9/25/2019 9:01</td>\n",
              "      <td>NaN</td>\n",
              "      <td>1:01:53</td>\n",
              "      <td>0:00:00</td>\n",
              "      <td>1</td>\n",
              "      <td>3</td>\n",
              "    </tr>\n",
              "    <tr>\n",
              "      <th>281</th>\n",
              "      <td>1014</td>\n",
              "      <td>18</td>\n",
              "      <td>Tickets is Limbo</td>\n",
              "      <td>Email</td>\n",
              "      <td>Software Problem / Issue</td>\n",
              "      <td>4</td>\n",
              "      <td>9/27/2019 8:35</td>\n",
              "      <td>9/27/2019 8:46</td>\n",
              "      <td>9/27/2019 11:39</td>\n",
              "      <td>0:11:34</td>\n",
              "      <td>3:04:17</td>\n",
              "      <td>2</td>\n",
              "      <td>3</td>\n",
              "    </tr>\n",
              "    <tr>\n",
              "      <th>282</th>\n",
              "      <td>1016</td>\n",
              "      <td>18</td>\n",
              "      <td>Company showing in red as if it's past due, bu...</td>\n",
              "      <td>Portal</td>\n",
              "      <td>Software Problem / Issue</td>\n",
              "      <td>3</td>\n",
              "      <td>9/30/2019 10:37</td>\n",
              "      <td>9/30/2019 11:25</td>\n",
              "      <td>10/1/2019 16:06</td>\n",
              "      <td>0:48:33</td>\n",
              "      <td>14:29:49</td>\n",
              "      <td>1</td>\n",
              "      <td>2</td>\n",
              "    </tr>\n",
              "    <tr>\n",
              "      <th>283</th>\n",
              "      <td>1017</td>\n",
              "      <td>18</td>\n",
              "      <td>Fw: Wrong info in Hauling Software</td>\n",
              "      <td>Email</td>\n",
              "      <td>Software Problem / Issue</td>\n",
              "      <td>4</td>\n",
              "      <td>9/30/2019 15:00</td>\n",
              "      <td>NaN</td>\n",
              "      <td>NaN</td>\n",
              "      <td>0:00:00</td>\n",
              "      <td>0:00:00</td>\n",
              "      <td>0</td>\n",
              "      <td>3</td>\n",
              "    </tr>\n",
              "  </tbody>\n",
              "</table>\n",
              "<p>121 rows × 13 columns</p>\n",
              "</div>"
            ],
            "text/plain": [
              "     Ticket ID  HS Customer  ... Agent interactions Customer interactions\n",
              "0           35           18  ...                  1                     1\n",
              "5           65           18  ...                  1                     1\n",
              "6           71           18  ...                  0                     1\n",
              "7           73           18  ...                  1                     1\n",
              "8           75           18  ...                  1                     1\n",
              "..         ...          ...  ...                ...                   ...\n",
              "279       1009           18  ...                  1                     1\n",
              "280       1012           18  ...                  1                     3\n",
              "281       1014           18  ...                  2                     3\n",
              "282       1016           18  ...                  1                     2\n",
              "283       1017           18  ...                  0                     3\n",
              "\n",
              "[121 rows x 13 columns]"
            ]
          },
          "metadata": {
            "tags": []
          },
          "execution_count": 72
        }
      ]
    },
    {
      "cell_type": "code",
      "metadata": {
        "id": "Tt5GMoWAP9I6",
        "colab_type": "code",
        "outputId": "2596b948-5e75-49b4-d8d3-e7579759ea24",
        "colab": {
          "base_uri": "https://localhost:8080/",
          "height": 799
        }
      },
      "source": [
        "custs = 46\n",
        "for c in range(custs):\n",
        "  print('cust ', str(c), ' = ', str(len(df2[df2['HS Customer']== c])))"
      ],
      "execution_count": 73,
      "outputs": [
        {
          "output_type": "stream",
          "text": [
            "cust  0  =  0\n",
            "cust  1  =  0\n",
            "cust  2  =  0\n",
            "cust  3  =  0\n",
            "cust  4  =  3\n",
            "cust  5  =  13\n",
            "cust  6  =  0\n",
            "cust  7  =  0\n",
            "cust  8  =  0\n",
            "cust  9  =  0\n",
            "cust  10  =  12\n",
            "cust  11  =  0\n",
            "cust  12  =  0\n",
            "cust  13  =  0\n",
            "cust  14  =  0\n",
            "cust  15  =  19\n",
            "cust  16  =  5\n",
            "cust  17  =  0\n",
            "cust  18  =  121\n",
            "cust  19  =  10\n",
            "cust  20  =  14\n",
            "cust  21  =  6\n",
            "cust  22  =  0\n",
            "cust  23  =  1\n",
            "cust  24  =  7\n",
            "cust  25  =  15\n",
            "cust  26  =  10\n",
            "cust  27  =  0\n",
            "cust  28  =  13\n",
            "cust  29  =  0\n",
            "cust  30  =  0\n",
            "cust  31  =  0\n",
            "cust  32  =  0\n",
            "cust  33  =  0\n",
            "cust  34  =  3\n",
            "cust  35  =  0\n",
            "cust  36  =  0\n",
            "cust  37  =  11\n",
            "cust  38  =  0\n",
            "cust  39  =  1\n",
            "cust  40  =  1\n",
            "cust  41  =  13\n",
            "cust  42  =  0\n",
            "cust  43  =  0\n",
            "cust  44  =  0\n",
            "cust  45  =  6\n"
          ],
          "name": "stdout"
        }
      ]
    },
    {
      "cell_type": "code",
      "metadata": {
        "id": "csuF8gAJbZQ3",
        "colab_type": "code",
        "colab": {}
      },
      "source": [
        "url2 = 'https://raw.githubusercontent.com/nurfnick/Cantrell_Jackson/master/hs_customer_4.csv'"
      ],
      "execution_count": 0,
      "outputs": []
    },
    {
      "cell_type": "code",
      "metadata": {
        "id": "dnXYylTZbmK-",
        "colab_type": "code",
        "colab": {}
      },
      "source": [
        "df3 = pa.read_csv(url2)"
      ],
      "execution_count": 0,
      "outputs": []
    },
    {
      "cell_type": "code",
      "metadata": {
        "id": "S3A-c1MQbr4t",
        "colab_type": "code",
        "outputId": "6edec21b-afe2-4d88-cfd9-cf37415a6466",
        "colab": {
          "base_uri": "https://localhost:8080/",
          "height": 419
        }
      },
      "source": [
        "df3"
      ],
      "execution_count": 76,
      "outputs": [
        {
          "output_type": "execute_result",
          "data": {
            "text/html": [
              "<div>\n",
              "<style scoped>\n",
              "    .dataframe tbody tr th:only-of-type {\n",
              "        vertical-align: middle;\n",
              "    }\n",
              "\n",
              "    .dataframe tbody tr th {\n",
              "        vertical-align: top;\n",
              "    }\n",
              "\n",
              "    .dataframe thead th {\n",
              "        text-align: right;\n",
              "    }\n",
              "</style>\n",
              "<table border=\"1\" class=\"dataframe\">\n",
              "  <thead>\n",
              "    <tr style=\"text-align: right;\">\n",
              "      <th></th>\n",
              "      <th>invoice_id</th>\n",
              "      <th>hs_customer</th>\n",
              "      <th>invoice_total</th>\n",
              "      <th>invoice_time</th>\n",
              "      <th>ticket_id</th>\n",
              "      <th>job_type</th>\n",
              "      <th>ticket_date</th>\n",
              "      <th>ticket_item_type</th>\n",
              "      <th>details</th>\n",
              "    </tr>\n",
              "  </thead>\n",
              "  <tbody>\n",
              "    <tr>\n",
              "      <th>0</th>\n",
              "      <td>179988</td>\n",
              "      <td>4</td>\n",
              "      <td>1703.00</td>\n",
              "      <td>1538430074</td>\n",
              "      <td>921385</td>\n",
              "      <td>Special Projects</td>\n",
              "      <td>1538071304</td>\n",
              "      <td>job_description</td>\n",
              "      <td>1281.0</td>\n",
              "    </tr>\n",
              "    <tr>\n",
              "      <th>1</th>\n",
              "      <td>179987</td>\n",
              "      <td>4</td>\n",
              "      <td>1401.05</td>\n",
              "      <td>1538430070</td>\n",
              "      <td>921730</td>\n",
              "      <td>Special Projects</td>\n",
              "      <td>1538075754</td>\n",
              "      <td>job_description</td>\n",
              "      <td>1281.0</td>\n",
              "    </tr>\n",
              "    <tr>\n",
              "      <th>2</th>\n",
              "      <td>179995</td>\n",
              "      <td>4</td>\n",
              "      <td>533.14</td>\n",
              "      <td>1538430097</td>\n",
              "      <td>922145</td>\n",
              "      <td>Special Projects</td>\n",
              "      <td>1538079932</td>\n",
              "      <td>job_description</td>\n",
              "      <td>1281.0</td>\n",
              "    </tr>\n",
              "    <tr>\n",
              "      <th>3</th>\n",
              "      <td>179978</td>\n",
              "      <td>4</td>\n",
              "      <td>15870.00</td>\n",
              "      <td>1538430035</td>\n",
              "      <td>922198</td>\n",
              "      <td>Special Projects</td>\n",
              "      <td>1538080501</td>\n",
              "      <td>job_description</td>\n",
              "      <td>1281.0</td>\n",
              "    </tr>\n",
              "    <tr>\n",
              "      <th>4</th>\n",
              "      <td>180011</td>\n",
              "      <td>4</td>\n",
              "      <td>2170.00</td>\n",
              "      <td>1538430143</td>\n",
              "      <td>926946</td>\n",
              "      <td>Special Projects</td>\n",
              "      <td>1538404812</td>\n",
              "      <td>job_description</td>\n",
              "      <td>1281.0</td>\n",
              "    </tr>\n",
              "    <tr>\n",
              "      <th>...</th>\n",
              "      <td>...</td>\n",
              "      <td>...</td>\n",
              "      <td>...</td>\n",
              "      <td>...</td>\n",
              "      <td>...</td>\n",
              "      <td>...</td>\n",
              "      <td>...</td>\n",
              "      <td>...</td>\n",
              "      <td>...</td>\n",
              "    </tr>\n",
              "    <tr>\n",
              "      <th>187563</th>\n",
              "      <td>223637</td>\n",
              "      <td>4</td>\n",
              "      <td>5890.50</td>\n",
              "      <td>1547584453</td>\n",
              "      <td>1254414</td>\n",
              "      <td>Water Hauling</td>\n",
              "      <td>1547549304</td>\n",
              "      <td>job_description</td>\n",
              "      <td>NaN</td>\n",
              "    </tr>\n",
              "    <tr>\n",
              "      <th>187564</th>\n",
              "      <td>223548</td>\n",
              "      <td>4</td>\n",
              "      <td>5446.80</td>\n",
              "      <td>1547582644</td>\n",
              "      <td>1254603</td>\n",
              "      <td>Water Hauling</td>\n",
              "      <td>1547553284</td>\n",
              "      <td>job_description</td>\n",
              "      <td>NaN</td>\n",
              "    </tr>\n",
              "    <tr>\n",
              "      <th>187565</th>\n",
              "      <td>223544</td>\n",
              "      <td>4</td>\n",
              "      <td>1682.00</td>\n",
              "      <td>1547582630</td>\n",
              "      <td>1254411</td>\n",
              "      <td>Water Hauling</td>\n",
              "      <td>1547549232</td>\n",
              "      <td>job_description</td>\n",
              "      <td>NaN</td>\n",
              "    </tr>\n",
              "    <tr>\n",
              "      <th>187566</th>\n",
              "      <td>223547</td>\n",
              "      <td>4</td>\n",
              "      <td>2144.20</td>\n",
              "      <td>1547582641</td>\n",
              "      <td>1254609</td>\n",
              "      <td>Water Hauling</td>\n",
              "      <td>1547553354</td>\n",
              "      <td>job_description</td>\n",
              "      <td>NaN</td>\n",
              "    </tr>\n",
              "    <tr>\n",
              "      <th>187567</th>\n",
              "      <td>223546</td>\n",
              "      <td>4</td>\n",
              "      <td>2167.50</td>\n",
              "      <td>1547582637</td>\n",
              "      <td>1254418</td>\n",
              "      <td>Water Hauling</td>\n",
              "      <td>1547549375</td>\n",
              "      <td>job_description</td>\n",
              "      <td>NaN</td>\n",
              "    </tr>\n",
              "  </tbody>\n",
              "</table>\n",
              "<p>187568 rows × 9 columns</p>\n",
              "</div>"
            ],
            "text/plain": [
              "        invoice_id  hs_customer  ...  ticket_item_type  details\n",
              "0           179988            4  ...   job_description   1281.0\n",
              "1           179987            4  ...   job_description   1281.0\n",
              "2           179995            4  ...   job_description   1281.0\n",
              "3           179978            4  ...   job_description   1281.0\n",
              "4           180011            4  ...   job_description   1281.0\n",
              "...            ...          ...  ...               ...      ...\n",
              "187563      223637            4  ...   job_description      NaN\n",
              "187564      223548            4  ...   job_description      NaN\n",
              "187565      223544            4  ...   job_description      NaN\n",
              "187566      223547            4  ...   job_description      NaN\n",
              "187567      223546            4  ...   job_description      NaN\n",
              "\n",
              "[187568 rows x 9 columns]"
            ]
          },
          "metadata": {
            "tags": []
          },
          "execution_count": 76
        }
      ]
    },
    {
      "cell_type": "code",
      "metadata": {
        "id": "l64hMTiAgK-2",
        "colab_type": "code",
        "colab": {}
      },
      "source": [
        "invid = df3['invoice_id'].unique()"
      ],
      "execution_count": 0,
      "outputs": []
    },
    {
      "cell_type": "code",
      "metadata": {
        "id": "Lc-g1py4gUc-",
        "colab_type": "code",
        "outputId": "b1d2c5b1-32d2-4fdd-86ca-c5869bad3fa6",
        "colab": {
          "base_uri": "https://localhost:8080/",
          "height": 34
        }
      },
      "source": [
        "invid"
      ],
      "execution_count": 78,
      "outputs": [
        {
          "output_type": "execute_result",
          "data": {
            "text/plain": [
              "array([179988, 179987, 179995, ..., 190407, 185890, 185891])"
            ]
          },
          "metadata": {
            "tags": []
          },
          "execution_count": 78
        }
      ]
    },
    {
      "cell_type": "code",
      "metadata": {
        "id": "f_y-cbIVdZT7",
        "colab_type": "code",
        "colab": {}
      },
      "source": [
        "\n",
        "\n"
      ],
      "execution_count": 0,
      "outputs": []
    },
    {
      "cell_type": "code",
      "metadata": {
        "id": "cw9U4uAklgCb",
        "colab_type": "code",
        "colab": {
          "base_uri": "https://localhost:8080/",
          "height": 34
        },
        "outputId": "c243c793-dcf9-44b1-da1a-4b963736bd2d"
      },
      "source": [
        "count = df3['ticket_id'].unique,  df3['job_type'] == 'Special Projects'\n",
        "sum(count[1]*1)"
      ],
      "execution_count": 79,
      "outputs": [
        {
          "output_type": "execute_result",
          "data": {
            "text/plain": [
              "10087"
            ]
          },
          "metadata": {
            "tags": []
          },
          "execution_count": 79
        }
      ]
    },
    {
      "cell_type": "code",
      "metadata": {
        "id": "THrFACoWoDmY",
        "colab_type": "code",
        "colab": {}
      },
      "source": [
        ""
      ],
      "execution_count": 0,
      "outputs": []
    },
    {
      "cell_type": "code",
      "metadata": {
        "id": "N5_uzuWSmK7X",
        "colab_type": "code",
        "colab": {}
      },
      "source": [
        ""
      ],
      "execution_count": 0,
      "outputs": []
    },
    {
      "cell_type": "code",
      "metadata": {
        "id": "Li6uSSQ2jSmx",
        "colab_type": "code",
        "colab": {}
      },
      "source": [
        ""
      ],
      "execution_count": 0,
      "outputs": []
    },
    {
      "cell_type": "code",
      "metadata": {
        "id": "BMKy7T1ggeT5",
        "colab_type": "code",
        "colab": {}
      },
      "source": [
        ""
      ],
      "execution_count": 0,
      "outputs": []
    },
    {
      "cell_type": "code",
      "metadata": {
        "id": "YNYxT_SweZtN",
        "colab_type": "code",
        "colab": {}
      },
      "source": [
        ""
      ],
      "execution_count": 0,
      "outputs": []
    },
    {
      "cell_type": "code",
      "metadata": {
        "id": "H6QPbeDDb9YM",
        "colab_type": "code",
        "colab": {}
      },
      "source": [
        "cust4spec = df3[df3['job_type']=='Special Projects'], df3['invoice_id'].unique, df3['ticket_id'].unique #job types that are only 'special projects'"
      ],
      "execution_count": 0,
      "outputs": []
    },
    {
      "cell_type": "code",
      "metadata": {
        "id": "H6egDzzkcZpU",
        "colab_type": "code",
        "outputId": "9448c08f-d270-4afb-a866-cc62845b524d",
        "colab": {
          "base_uri": "https://localhost:8080/",
          "height": 629
        }
      },
      "source": [
        "cust4spec"
      ],
      "execution_count": 81,
      "outputs": [
        {
          "output_type": "execute_result",
          "data": {
            "text/plain": [
              "(       invoice_id  hs_customer  ...  ticket_item_type  details\n",
              " 0          179988            4  ...   job_description   1281.0\n",
              " 1          179987            4  ...   job_description   1281.0\n",
              " 2          179995            4  ...   job_description   1281.0\n",
              " 3          179978            4  ...   job_description   1281.0\n",
              " 4          180011            4  ...   job_description   1281.0\n",
              " ...           ...          ...  ...               ...      ...\n",
              " 10082      203980            4  ...    price_per_hour     90.0\n",
              " 10083      215099            4  ...    price_per_hour     90.0\n",
              " 10084      216904            4  ...    price_per_hour     90.0\n",
              " 10085      222358            4  ...    price_per_hour     90.0\n",
              " 10086      228546            4  ...    price_per_hour     90.0\n",
              " \n",
              " [10087 rows x 9 columns], <bound method Series.unique of 0         179988\n",
              " 1         179987\n",
              " 2         179995\n",
              " 3         179978\n",
              " 4         180011\n",
              "            ...  \n",
              " 187563    223637\n",
              " 187564    223548\n",
              " 187565    223544\n",
              " 187566    223547\n",
              " 187567    223546\n",
              " Name: invoice_id, Length: 187568, dtype: int64>, <bound method Series.unique of 0          921385\n",
              " 1          921730\n",
              " 2          922145\n",
              " 3          922198\n",
              " 4          926946\n",
              "            ...   \n",
              " 187563    1254414\n",
              " 187564    1254603\n",
              " 187565    1254411\n",
              " 187566    1254609\n",
              " 187567    1254418\n",
              " Name: ticket_id, Length: 187568, dtype: int64>)"
            ]
          },
          "metadata": {
            "tags": []
          },
          "execution_count": 81
        }
      ]
    },
    {
      "cell_type": "code",
      "metadata": {
        "id": "Avk2XVAXcbgu",
        "colab_type": "code",
        "outputId": "cb7f200f-e9fd-4b7c-9d1f-43ef9423eef3",
        "colab": {
          "base_uri": "https://localhost:8080/",
          "height": 564
        }
      },
      "source": [
        "uniques = df3['invoice_id'].unique()\n",
        "data = []\n",
        "\n",
        "for var in uniques:\n",
        "  data.append(df3[(df3['ticket_item_type']== \"job_description\" & df3['invoice_id']== var)]) "
      ],
      "execution_count": 82,
      "outputs": [
        {
          "output_type": "error",
          "ename": "TypeError",
          "evalue": "ignored",
          "traceback": [
            "\u001b[0;31m---------------------------------------------------------------------------\u001b[0m",
            "\u001b[0;31mTypeError\u001b[0m                                 Traceback (most recent call last)",
            "\u001b[0;32m/usr/local/lib/python3.6/dist-packages/pandas/core/ops/__init__.py\u001b[0m in \u001b[0;36mna_op\u001b[0;34m(x, y)\u001b[0m\n\u001b[1;32m   1253\u001b[0m         \u001b[0;32mtry\u001b[0m\u001b[0;34m:\u001b[0m\u001b[0;34m\u001b[0m\u001b[0;34m\u001b[0m\u001b[0m\n\u001b[0;32m-> 1254\u001b[0;31m             \u001b[0mresult\u001b[0m \u001b[0;34m=\u001b[0m \u001b[0mop\u001b[0m\u001b[0;34m(\u001b[0m\u001b[0mx\u001b[0m\u001b[0;34m,\u001b[0m \u001b[0my\u001b[0m\u001b[0;34m)\u001b[0m\u001b[0;34m\u001b[0m\u001b[0;34m\u001b[0m\u001b[0m\n\u001b[0m\u001b[1;32m   1255\u001b[0m         \u001b[0;32mexcept\u001b[0m \u001b[0mTypeError\u001b[0m\u001b[0;34m:\u001b[0m\u001b[0;34m\u001b[0m\u001b[0;34m\u001b[0m\u001b[0m\n",
            "\u001b[0;32m/usr/local/lib/python3.6/dist-packages/pandas/core/ops/roperator.py\u001b[0m in \u001b[0;36mrand_\u001b[0;34m(left, right)\u001b[0m\n\u001b[1;32m     52\u001b[0m \u001b[0;32mdef\u001b[0m \u001b[0mrand_\u001b[0m\u001b[0;34m(\u001b[0m\u001b[0mleft\u001b[0m\u001b[0;34m,\u001b[0m \u001b[0mright\u001b[0m\u001b[0;34m)\u001b[0m\u001b[0;34m:\u001b[0m\u001b[0;34m\u001b[0m\u001b[0;34m\u001b[0m\u001b[0m\n\u001b[0;32m---> 53\u001b[0;31m     \u001b[0;32mreturn\u001b[0m \u001b[0moperator\u001b[0m\u001b[0;34m.\u001b[0m\u001b[0mand_\u001b[0m\u001b[0;34m(\u001b[0m\u001b[0mright\u001b[0m\u001b[0;34m,\u001b[0m \u001b[0mleft\u001b[0m\u001b[0;34m)\u001b[0m\u001b[0;34m\u001b[0m\u001b[0;34m\u001b[0m\u001b[0m\n\u001b[0m\u001b[1;32m     54\u001b[0m \u001b[0;34m\u001b[0m\u001b[0m\n",
            "\u001b[0;31mTypeError\u001b[0m: ufunc 'bitwise_and' not supported for the input types, and the inputs could not be safely coerced to any supported types according to the casting rule ''safe''",
            "\nDuring handling of the above exception, another exception occurred:\n",
            "\u001b[0;31mValueError\u001b[0m                                Traceback (most recent call last)",
            "\u001b[0;32m/usr/local/lib/python3.6/dist-packages/pandas/core/ops/__init__.py\u001b[0m in \u001b[0;36mna_op\u001b[0;34m(x, y)\u001b[0m\n\u001b[1;32m   1268\u001b[0m                 \u001b[0;32mtry\u001b[0m\u001b[0;34m:\u001b[0m\u001b[0;34m\u001b[0m\u001b[0;34m\u001b[0m\u001b[0m\n\u001b[0;32m-> 1269\u001b[0;31m                     \u001b[0mresult\u001b[0m \u001b[0;34m=\u001b[0m \u001b[0mlibops\u001b[0m\u001b[0;34m.\u001b[0m\u001b[0mscalar_binop\u001b[0m\u001b[0;34m(\u001b[0m\u001b[0mx\u001b[0m\u001b[0;34m,\u001b[0m \u001b[0my\u001b[0m\u001b[0;34m,\u001b[0m \u001b[0mop\u001b[0m\u001b[0;34m)\u001b[0m\u001b[0;34m\u001b[0m\u001b[0;34m\u001b[0m\u001b[0m\n\u001b[0m\u001b[1;32m   1270\u001b[0m                 except (\n",
            "\u001b[0;32mpandas/_libs/ops.pyx\u001b[0m in \u001b[0;36mpandas._libs.ops.scalar_binop\u001b[0;34m()\u001b[0m\n",
            "\u001b[0;31mValueError\u001b[0m: Buffer dtype mismatch, expected 'Python object' but got 'long'",
            "\nDuring handling of the above exception, another exception occurred:\n",
            "\u001b[0;31mTypeError\u001b[0m                                 Traceback (most recent call last)",
            "\u001b[0;32m<ipython-input-82-583074880ef6>\u001b[0m in \u001b[0;36m<module>\u001b[0;34m()\u001b[0m\n\u001b[1;32m      3\u001b[0m \u001b[0;34m\u001b[0m\u001b[0m\n\u001b[1;32m      4\u001b[0m \u001b[0;32mfor\u001b[0m \u001b[0mvar\u001b[0m \u001b[0;32min\u001b[0m \u001b[0muniques\u001b[0m\u001b[0;34m:\u001b[0m\u001b[0;34m\u001b[0m\u001b[0;34m\u001b[0m\u001b[0m\n\u001b[0;32m----> 5\u001b[0;31m   \u001b[0mdata\u001b[0m\u001b[0;34m.\u001b[0m\u001b[0mappend\u001b[0m\u001b[0;34m(\u001b[0m\u001b[0mdf3\u001b[0m\u001b[0;34m[\u001b[0m\u001b[0;34m(\u001b[0m\u001b[0mdf3\u001b[0m\u001b[0;34m[\u001b[0m\u001b[0;34m'ticket_item_type'\u001b[0m\u001b[0;34m]\u001b[0m\u001b[0;34m==\u001b[0m \u001b[0;34m\"job_description\"\u001b[0m \u001b[0;34m&\u001b[0m \u001b[0mdf3\u001b[0m\u001b[0;34m[\u001b[0m\u001b[0;34m'invoice_id'\u001b[0m\u001b[0;34m]\u001b[0m\u001b[0;34m==\u001b[0m \u001b[0mvar\u001b[0m\u001b[0;34m)\u001b[0m\u001b[0;34m]\u001b[0m\u001b[0;34m)\u001b[0m\u001b[0;34m\u001b[0m\u001b[0;34m\u001b[0m\u001b[0m\n\u001b[0m",
            "\u001b[0;32m/usr/local/lib/python3.6/dist-packages/pandas/core/ops/__init__.py\u001b[0m in \u001b[0;36mwrapper\u001b[0;34m(self, other)\u001b[0m\n\u001b[1;32m   1319\u001b[0m         \u001b[0;31m#   integer dtypes.  Otherwise these are boolean ops\u001b[0m\u001b[0;34m\u001b[0m\u001b[0;34m\u001b[0m\u001b[0;34m\u001b[0m\u001b[0m\n\u001b[1;32m   1320\u001b[0m         \u001b[0mfiller\u001b[0m \u001b[0;34m=\u001b[0m \u001b[0mfill_int\u001b[0m \u001b[0;32mif\u001b[0m \u001b[0mis_self_int_dtype\u001b[0m \u001b[0;32mand\u001b[0m \u001b[0mis_other_int_dtype\u001b[0m \u001b[0;32melse\u001b[0m \u001b[0mfill_bool\u001b[0m\u001b[0;34m\u001b[0m\u001b[0;34m\u001b[0m\u001b[0m\n\u001b[0;32m-> 1321\u001b[0;31m         \u001b[0mres_values\u001b[0m \u001b[0;34m=\u001b[0m \u001b[0mna_op\u001b[0m\u001b[0;34m(\u001b[0m\u001b[0mself\u001b[0m\u001b[0;34m.\u001b[0m\u001b[0mvalues\u001b[0m\u001b[0;34m,\u001b[0m \u001b[0movalues\u001b[0m\u001b[0;34m)\u001b[0m\u001b[0;34m\u001b[0m\u001b[0;34m\u001b[0m\u001b[0m\n\u001b[0m\u001b[1;32m   1322\u001b[0m         \u001b[0munfilled\u001b[0m \u001b[0;34m=\u001b[0m \u001b[0mself\u001b[0m\u001b[0;34m.\u001b[0m\u001b[0m_constructor\u001b[0m\u001b[0;34m(\u001b[0m\u001b[0mres_values\u001b[0m\u001b[0;34m,\u001b[0m \u001b[0mindex\u001b[0m\u001b[0;34m=\u001b[0m\u001b[0mself\u001b[0m\u001b[0;34m.\u001b[0m\u001b[0mindex\u001b[0m\u001b[0;34m,\u001b[0m \u001b[0mname\u001b[0m\u001b[0;34m=\u001b[0m\u001b[0mres_name\u001b[0m\u001b[0;34m)\u001b[0m\u001b[0;34m\u001b[0m\u001b[0;34m\u001b[0m\u001b[0m\n\u001b[1;32m   1323\u001b[0m         \u001b[0mfilled\u001b[0m \u001b[0;34m=\u001b[0m \u001b[0mfiller\u001b[0m\u001b[0;34m(\u001b[0m\u001b[0munfilled\u001b[0m\u001b[0;34m)\u001b[0m\u001b[0;34m\u001b[0m\u001b[0;34m\u001b[0m\u001b[0m\n",
            "\u001b[0;32m/usr/local/lib/python3.6/dist-packages/pandas/core/ops/__init__.py\u001b[0m in \u001b[0;36mna_op\u001b[0;34m(x, y)\u001b[0m\n\u001b[1;32m   1278\u001b[0m                         \u001b[0;34m\"cannot compare a dtyped [{dtype}] array \"\u001b[0m\u001b[0;34m\u001b[0m\u001b[0;34m\u001b[0m\u001b[0m\n\u001b[1;32m   1279\u001b[0m                         \"with a scalar of type [{typ}]\".format(\n\u001b[0;32m-> 1280\u001b[0;31m                             \u001b[0mdtype\u001b[0m\u001b[0;34m=\u001b[0m\u001b[0mx\u001b[0m\u001b[0;34m.\u001b[0m\u001b[0mdtype\u001b[0m\u001b[0;34m,\u001b[0m \u001b[0mtyp\u001b[0m\u001b[0;34m=\u001b[0m\u001b[0mtype\u001b[0m\u001b[0;34m(\u001b[0m\u001b[0my\u001b[0m\u001b[0;34m)\u001b[0m\u001b[0;34m.\u001b[0m\u001b[0m__name__\u001b[0m\u001b[0;34m\u001b[0m\u001b[0;34m\u001b[0m\u001b[0m\n\u001b[0m\u001b[1;32m   1281\u001b[0m                         )\n\u001b[1;32m   1282\u001b[0m                     )\n",
            "\u001b[0;31mTypeError\u001b[0m: cannot compare a dtyped [int64] array with a scalar of type [bool]"
          ]
        }
      ]
    },
    {
      "cell_type": "code",
      "metadata": {
        "id": "Aa4L2TnwjlaD",
        "colab_type": "code",
        "colab": {}
      },
      "source": [
        "data"
      ],
      "execution_count": 0,
      "outputs": []
    },
    {
      "cell_type": "code",
      "metadata": {
        "id": "ATraFWxLjwmu",
        "colab_type": "code",
        "colab": {}
      },
      "source": [
        "uniques"
      ],
      "execution_count": 0,
      "outputs": []
    },
    {
      "cell_type": "code",
      "metadata": {
        "id": "C_RlG3cxkLyF",
        "colab_type": "code",
        "colab": {}
      },
      "source": [
        ""
      ],
      "execution_count": 0,
      "outputs": []
    }
  ]
}