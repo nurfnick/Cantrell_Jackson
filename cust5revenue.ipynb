{
  "nbformat": 4,
  "nbformat_minor": 0,
  "metadata": {
    "colab": {
      "name": "cust5revenue.ipynb",
      "provenance": [],
      "authorship_tag": "ABX9TyPka3o48kswUhMJpuk79I/8",
      "include_colab_link": true
    },
    "kernelspec": {
      "name": "python3",
      "display_name": "Python 3"
    }
  },
  "cells": [
    {
      "cell_type": "markdown",
      "metadata": {
        "id": "view-in-github",
        "colab_type": "text"
      },
      "source": [
        "<a href=\"https://colab.research.google.com/github/nurfnick/Cantrell_Jackson/blob/master/cust5revenue.ipynb\" target=\"_parent\"><img src=\"https://colab.research.google.com/assets/colab-badge.svg\" alt=\"Open In Colab\"/></a>"
      ]
    },
    {
      "cell_type": "code",
      "metadata": {
        "id": "C5Evq_n_qPnN",
        "colab_type": "code",
        "colab": {}
      },
      "source": [
        "import pandas as pa\n",
        "import numpy as np"
      ],
      "execution_count": 0,
      "outputs": []
    },
    {
      "cell_type": "code",
      "metadata": {
        "id": "7qR0wO7PqYjC",
        "colab_type": "code",
        "colab": {}
      },
      "source": [
        "url = 'https://raw.githubusercontent.com/nurfnick/Cantrell_Jackson/master/hs_customer_5_p1.csv'"
      ],
      "execution_count": 0,
      "outputs": []
    },
    {
      "cell_type": "code",
      "metadata": {
        "id": "rGRKIyynqxtB",
        "colab_type": "code",
        "colab": {}
      },
      "source": [
        "df2= pa.read_csv('https://raw.githubusercontent.com/nurfnick/Cantrell_Jackson/master/hs_customer_5_p1.csv')"
      ],
      "execution_count": 0,
      "outputs": []
    },
    {
      "cell_type": "code",
      "metadata": {
        "id": "Rc_q8EkZq7Y3",
        "colab_type": "code",
        "colab": {
          "base_uri": "https://localhost:8080/",
          "height": 419
        },
        "outputId": "29f448d1-b78e-4c72-b183-a9b5cbe1fc90"
      },
      "source": [
        "df2"
      ],
      "execution_count": 18,
      "outputs": [
        {
          "output_type": "execute_result",
          "data": {
            "text/html": [
              "<div>\n",
              "<style scoped>\n",
              "    .dataframe tbody tr th:only-of-type {\n",
              "        vertical-align: middle;\n",
              "    }\n",
              "\n",
              "    .dataframe tbody tr th {\n",
              "        vertical-align: top;\n",
              "    }\n",
              "\n",
              "    .dataframe thead th {\n",
              "        text-align: right;\n",
              "    }\n",
              "</style>\n",
              "<table border=\"1\" class=\"dataframe\">\n",
              "  <thead>\n",
              "    <tr style=\"text-align: right;\">\n",
              "      <th></th>\n",
              "      <th>invoice_id</th>\n",
              "      <th>hs_customer</th>\n",
              "      <th>invoice_total</th>\n",
              "      <th>invoice_time</th>\n",
              "      <th>ticket_id</th>\n",
              "      <th>job_type</th>\n",
              "      <th>ticket_date</th>\n",
              "      <th>ticket_item_type</th>\n",
              "      <th>details</th>\n",
              "    </tr>\n",
              "  </thead>\n",
              "  <tbody>\n",
              "    <tr>\n",
              "      <th>0</th>\n",
              "      <td>195540</td>\n",
              "      <td>5</td>\n",
              "      <td>366.6</td>\n",
              "      <td>1541778530</td>\n",
              "      <td>744114</td>\n",
              "      <td>Water Hauling</td>\n",
              "      <td>1532979850</td>\n",
              "      <td>job_description</td>\n",
              "      <td>NaN</td>\n",
              "    </tr>\n",
              "    <tr>\n",
              "      <th>1</th>\n",
              "      <td>195540</td>\n",
              "      <td>5</td>\n",
              "      <td>366.6</td>\n",
              "      <td>1541778530</td>\n",
              "      <td>744131</td>\n",
              "      <td>Water Hauling</td>\n",
              "      <td>1532979966</td>\n",
              "      <td>job_description</td>\n",
              "      <td>NaN</td>\n",
              "    </tr>\n",
              "    <tr>\n",
              "      <th>2</th>\n",
              "      <td>180959</td>\n",
              "      <td>5</td>\n",
              "      <td>1735.3</td>\n",
              "      <td>1538595659</td>\n",
              "      <td>850995</td>\n",
              "      <td>Water Hauling</td>\n",
              "      <td>1536136547</td>\n",
              "      <td>job_description</td>\n",
              "      <td>NaN</td>\n",
              "    </tr>\n",
              "    <tr>\n",
              "      <th>3</th>\n",
              "      <td>180959</td>\n",
              "      <td>5</td>\n",
              "      <td>1735.3</td>\n",
              "      <td>1538595659</td>\n",
              "      <td>851414</td>\n",
              "      <td>Water Hauling</td>\n",
              "      <td>1536154229</td>\n",
              "      <td>job_description</td>\n",
              "      <td>NaN</td>\n",
              "    </tr>\n",
              "    <tr>\n",
              "      <th>4</th>\n",
              "      <td>180967</td>\n",
              "      <td>5</td>\n",
              "      <td>526.5</td>\n",
              "      <td>1538595659</td>\n",
              "      <td>850928</td>\n",
              "      <td>Water Hauling</td>\n",
              "      <td>1536135518</td>\n",
              "      <td>job_description</td>\n",
              "      <td>NaN</td>\n",
              "    </tr>\n",
              "    <tr>\n",
              "      <th>...</th>\n",
              "      <td>...</td>\n",
              "      <td>...</td>\n",
              "      <td>...</td>\n",
              "      <td>...</td>\n",
              "      <td>...</td>\n",
              "      <td>...</td>\n",
              "      <td>...</td>\n",
              "      <td>...</td>\n",
              "      <td>...</td>\n",
              "    </tr>\n",
              "    <tr>\n",
              "      <th>270885</th>\n",
              "      <td>240746</td>\n",
              "      <td>5</td>\n",
              "      <td>19323.0</td>\n",
              "      <td>1550619198</td>\n",
              "      <td>1361138</td>\n",
              "      <td>Flowback</td>\n",
              "      <td>1550566216</td>\n",
              "      <td>price_per_hour</td>\n",
              "      <td>1.2</td>\n",
              "    </tr>\n",
              "    <tr>\n",
              "      <th>270886</th>\n",
              "      <td>240746</td>\n",
              "      <td>5</td>\n",
              "      <td>19323.0</td>\n",
              "      <td>1550619198</td>\n",
              "      <td>1361132</td>\n",
              "      <td>Flowback</td>\n",
              "      <td>1550566080</td>\n",
              "      <td>price_per_hour</td>\n",
              "      <td>1.2</td>\n",
              "    </tr>\n",
              "    <tr>\n",
              "      <th>270887</th>\n",
              "      <td>240746</td>\n",
              "      <td>5</td>\n",
              "      <td>19323.0</td>\n",
              "      <td>1550619198</td>\n",
              "      <td>1351417</td>\n",
              "      <td>Flowback</td>\n",
              "      <td>1550175059</td>\n",
              "      <td>price_per_hour</td>\n",
              "      <td>1.2</td>\n",
              "    </tr>\n",
              "    <tr>\n",
              "      <th>270888</th>\n",
              "      <td>240746</td>\n",
              "      <td>5</td>\n",
              "      <td>19323.0</td>\n",
              "      <td>1550619198</td>\n",
              "      <td>1351439</td>\n",
              "      <td>Flowback</td>\n",
              "      <td>1550175256</td>\n",
              "      <td>price_per_hour</td>\n",
              "      <td>1.2</td>\n",
              "    </tr>\n",
              "    <tr>\n",
              "      <th>270889</th>\n",
              "      <td>240746</td>\n",
              "      <td>5</td>\n",
              "      <td>19323.0</td>\n",
              "      <td>1550619198</td>\n",
              "      <td>1351467</td>\n",
              "      <td>Flowback</td>\n",
              "      <td>1550175454</td>\n",
              "      <td>price_per_hour</td>\n",
              "      <td>1.2</td>\n",
              "    </tr>\n",
              "  </tbody>\n",
              "</table>\n",
              "<p>270890 rows × 9 columns</p>\n",
              "</div>"
            ],
            "text/plain": [
              "        invoice_id  hs_customer  ...  ticket_item_type  details\n",
              "0           195540            5  ...   job_description      NaN\n",
              "1           195540            5  ...   job_description      NaN\n",
              "2           180959            5  ...   job_description      NaN\n",
              "3           180959            5  ...   job_description      NaN\n",
              "4           180967            5  ...   job_description      NaN\n",
              "...            ...          ...  ...               ...      ...\n",
              "270885      240746            5  ...    price_per_hour      1.2\n",
              "270886      240746            5  ...    price_per_hour      1.2\n",
              "270887      240746            5  ...    price_per_hour      1.2\n",
              "270888      240746            5  ...    price_per_hour      1.2\n",
              "270889      240746            5  ...    price_per_hour      1.2\n",
              "\n",
              "[270890 rows x 9 columns]"
            ]
          },
          "metadata": {
            "tags": []
          },
          "execution_count": 18
        }
      ]
    },
    {
      "cell_type": "code",
      "metadata": {
        "id": "tyiN9bl2vACn",
        "colab_type": "code",
        "colab": {
          "base_uri": "https://localhost:8080/",
          "height": 34
        },
        "outputId": "3a7f5f4c-f868-4183-e23e-3b18a7cb97c0"
      },
      "source": [
        "len(df2['hs_customer'])"
      ],
      "execution_count": 23,
      "outputs": [
        {
          "output_type": "execute_result",
          "data": {
            "text/plain": [
              "270890"
            ]
          },
          "metadata": {
            "tags": []
          },
          "execution_count": 23
        }
      ]
    },
    {
      "cell_type": "code",
      "metadata": {
        "id": "qEisCuZvrSu3",
        "colab_type": "code",
        "colab": {
          "base_uri": "https://localhost:8080/",
          "height": 34
        },
        "outputId": "050d0a9a-caf4-441e-f301-b6d183523d83"
      },
      "source": [
        "df2['invoice_total'][0]+df2['invoice_total'][1]"
      ],
      "execution_count": 36,
      "outputs": [
        {
          "output_type": "execute_result",
          "data": {
            "text/plain": [
              "733.2"
            ]
          },
          "metadata": {
            "tags": []
          },
          "execution_count": 36
        }
      ]
    },
    {
      "cell_type": "code",
      "metadata": {
        "id": "TYMMVI4_zCHg",
        "colab_type": "code",
        "colab": {
          "base_uri": "https://localhost:8080/",
          "height": 129
        },
        "outputId": "607ee747-e39a-419b-d2bb-f475588d9b4b"
      },
      "source": [
        "red = df2['invoice_total']\n",
        "for red in df2:\n",
        "  sum('invoice_total')"
      ],
      "execution_count": 52,
      "outputs": [
        {
          "output_type": "error",
          "ename": "SyntaxError",
          "evalue": "ignored",
          "traceback": [
            "\u001b[0;36m  File \u001b[0;32m\"<ipython-input-52-e88e3bcd14c1>\"\u001b[0;36m, line \u001b[0;32m2\u001b[0m\n\u001b[0;31m    for int(red) in df2:\u001b[0m\n\u001b[0m       ^\u001b[0m\n\u001b[0;31mSyntaxError\u001b[0m\u001b[0;31m:\u001b[0m can't assign to function call\n"
          ]
        }
      ]
    }
  ]
}