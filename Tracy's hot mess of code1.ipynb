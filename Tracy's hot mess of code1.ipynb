{
  "nbformat": 4,
  "nbformat_minor": 0,
  "metadata": {
    "colab": {
      "name": "Untitled0.ipynb",
      "provenance": [],
      "include_colab_link": true
    },
    "kernelspec": {
      "name": "python3",
      "display_name": "Python 3"
    }
  },
  "cells": [
    {
      "cell_type": "markdown",
      "metadata": {
        "id": "view-in-github",
        "colab_type": "text"
      },
      "source": [
        "<a href=\"https://colab.research.google.com/github/nurfnick/Cantrell_Jackson/blob/master/Tracy's%20hot%20mess%20of%20code1.ipynb\" target=\"_parent\"><img src=\"https://colab.research.google.com/assets/colab-badge.svg\" alt=\"Open In Colab\"/></a>"
      ]
    },
    {
      "cell_type": "code",
      "metadata": {
        "id": "5RxGfOnXBZ_Z",
        "colab_type": "code",
        "colab": {}
      },
      "source": [
        "import pandas as pa\n",
        "import numpy as np\n",
        "import datetime as dt\n",
        "import time as tm"
      ],
      "execution_count": 0,
      "outputs": []
    },
    {
      "cell_type": "markdown",
      "metadata": {
        "id": "PTuMkCalrH5U",
        "colab_type": "text"
      },
      "source": [
        "# trucks want unique id (id is unique for each truck) want to grab the customer and the date used \n",
        "\n"
      ]
    },
    {
      "cell_type": "code",
      "metadata": {
        "id": "KQLC_5xQqwn9",
        "colab_type": "code",
        "outputId": "1c0a7148-f498-492b-c959-8ded602e2d45",
        "colab": {
          "base_uri": "https://localhost:8080/",
          "height": 419
        }
      },
      "source": [
        "urlt = 'https://raw.githubusercontent.com/nurfnick/Cantrell_Jackson/master/trucks.csv'\n",
        "datframe = pa.read_csv(urlt)\n",
        "datframe"
      ],
      "execution_count": 0,
      "outputs": [
        {
          "output_type": "execute_result",
          "data": {
            "text/html": [
              "<div>\n",
              "<style scoped>\n",
              "    .dataframe tbody tr th:only-of-type {\n",
              "        vertical-align: middle;\n",
              "    }\n",
              "\n",
              "    .dataframe tbody tr th {\n",
              "        vertical-align: top;\n",
              "    }\n",
              "\n",
              "    .dataframe thead th {\n",
              "        text-align: right;\n",
              "    }\n",
              "</style>\n",
              "<table border=\"1\" class=\"dataframe\">\n",
              "  <thead>\n",
              "    <tr style=\"text-align: right;\">\n",
              "      <th></th>\n",
              "      <th>id</th>\n",
              "      <th>pri_id</th>\n",
              "      <th>hs_customer</th>\n",
              "      <th>yard</th>\n",
              "      <th>truck_type</th>\n",
              "      <th>truck_number</th>\n",
              "      <th>vin</th>\n",
              "      <th>year</th>\n",
              "      <th>make</th>\n",
              "      <th>model</th>\n",
              "      <th>tag</th>\n",
              "      <th>color</th>\n",
              "      <th>licenseplatenumber</th>\n",
              "      <th>status</th>\n",
              "    </tr>\n",
              "  </thead>\n",
              "  <tbody>\n",
              "    <tr>\n",
              "      <th>0</th>\n",
              "      <td>1</td>\n",
              "      <td>739</td>\n",
              "      <td>1</td>\n",
              "      <td>1.0</td>\n",
              "      <td>1</td>\n",
              "      <td>truck #1</td>\n",
              "      <td>NaN</td>\n",
              "      <td>2015.0</td>\n",
              "      <td>NaN</td>\n",
              "      <td>NaN</td>\n",
              "      <td>NaN</td>\n",
              "      <td>NaN</td>\n",
              "      <td>NaN</td>\n",
              "      <td>active</td>\n",
              "    </tr>\n",
              "    <tr>\n",
              "      <th>1</th>\n",
              "      <td>2</td>\n",
              "      <td>740</td>\n",
              "      <td>1</td>\n",
              "      <td>1.0</td>\n",
              "      <td>107</td>\n",
              "      <td>truck #2</td>\n",
              "      <td>NaN</td>\n",
              "      <td>2015.0</td>\n",
              "      <td>NaN</td>\n",
              "      <td>NaN</td>\n",
              "      <td>NaN</td>\n",
              "      <td>NaN</td>\n",
              "      <td>NaN</td>\n",
              "      <td>active</td>\n",
              "    </tr>\n",
              "    <tr>\n",
              "      <th>2</th>\n",
              "      <td>3</td>\n",
              "      <td>741</td>\n",
              "      <td>1</td>\n",
              "      <td>1.0</td>\n",
              "      <td>107</td>\n",
              "      <td>truck #3</td>\n",
              "      <td>NaN</td>\n",
              "      <td>2015.0</td>\n",
              "      <td>NaN</td>\n",
              "      <td>NaN</td>\n",
              "      <td>NaN</td>\n",
              "      <td>NaN</td>\n",
              "      <td>NaN</td>\n",
              "      <td>active</td>\n",
              "    </tr>\n",
              "    <tr>\n",
              "      <th>3</th>\n",
              "      <td>4</td>\n",
              "      <td>0</td>\n",
              "      <td>2</td>\n",
              "      <td>3.0</td>\n",
              "      <td>108</td>\n",
              "      <td>079-015</td>\n",
              "      <td>NaN</td>\n",
              "      <td>2015.0</td>\n",
              "      <td>NaN</td>\n",
              "      <td>NaN</td>\n",
              "      <td>NaN</td>\n",
              "      <td>NaN</td>\n",
              "      <td>NaN</td>\n",
              "      <td>active</td>\n",
              "    </tr>\n",
              "    <tr>\n",
              "      <th>4</th>\n",
              "      <td>5</td>\n",
              "      <td>0</td>\n",
              "      <td>2</td>\n",
              "      <td>3.0</td>\n",
              "      <td>108</td>\n",
              "      <td>079-018</td>\n",
              "      <td>NaN</td>\n",
              "      <td>2015.0</td>\n",
              "      <td>NaN</td>\n",
              "      <td>NaN</td>\n",
              "      <td>NaN</td>\n",
              "      <td>NaN</td>\n",
              "      <td>NaN</td>\n",
              "      <td>active</td>\n",
              "    </tr>\n",
              "    <tr>\n",
              "      <th>...</th>\n",
              "      <td>...</td>\n",
              "      <td>...</td>\n",
              "      <td>...</td>\n",
              "      <td>...</td>\n",
              "      <td>...</td>\n",
              "      <td>...</td>\n",
              "      <td>...</td>\n",
              "      <td>...</td>\n",
              "      <td>...</td>\n",
              "      <td>...</td>\n",
              "      <td>...</td>\n",
              "      <td>...</td>\n",
              "      <td>...</td>\n",
              "      <td>...</td>\n",
              "    </tr>\n",
              "    <tr>\n",
              "      <th>3870</th>\n",
              "      <td>3871</td>\n",
              "      <td>0</td>\n",
              "      <td>19</td>\n",
              "      <td>43.0</td>\n",
              "      <td>0</td>\n",
              "      <td>74</td>\n",
              "      <td>NaN</td>\n",
              "      <td>2019.0</td>\n",
              "      <td>NaN</td>\n",
              "      <td>NaN</td>\n",
              "      <td>NaN</td>\n",
              "      <td>NaN</td>\n",
              "      <td>NaN</td>\n",
              "      <td>active</td>\n",
              "    </tr>\n",
              "    <tr>\n",
              "      <th>3871</th>\n",
              "      <td>3872</td>\n",
              "      <td>0</td>\n",
              "      <td>19</td>\n",
              "      <td>43.0</td>\n",
              "      <td>0</td>\n",
              "      <td>77</td>\n",
              "      <td>NaN</td>\n",
              "      <td>2019.0</td>\n",
              "      <td>NaN</td>\n",
              "      <td>NaN</td>\n",
              "      <td>NaN</td>\n",
              "      <td>NaN</td>\n",
              "      <td>NaN</td>\n",
              "      <td>active</td>\n",
              "    </tr>\n",
              "    <tr>\n",
              "      <th>3872</th>\n",
              "      <td>3873</td>\n",
              "      <td>0</td>\n",
              "      <td>19</td>\n",
              "      <td>43.0</td>\n",
              "      <td>0</td>\n",
              "      <td>77</td>\n",
              "      <td>NaN</td>\n",
              "      <td>2019.0</td>\n",
              "      <td>NaN</td>\n",
              "      <td>NaN</td>\n",
              "      <td>NaN</td>\n",
              "      <td>NaN</td>\n",
              "      <td>NaN</td>\n",
              "      <td>active</td>\n",
              "    </tr>\n",
              "    <tr>\n",
              "      <th>3873</th>\n",
              "      <td>3874</td>\n",
              "      <td>0</td>\n",
              "      <td>19</td>\n",
              "      <td>43.0</td>\n",
              "      <td>0</td>\n",
              "      <td>77</td>\n",
              "      <td>NaN</td>\n",
              "      <td>2019.0</td>\n",
              "      <td>NaN</td>\n",
              "      <td>NaN</td>\n",
              "      <td>NaN</td>\n",
              "      <td>NaN</td>\n",
              "      <td>NaN</td>\n",
              "      <td>active</td>\n",
              "    </tr>\n",
              "    <tr>\n",
              "      <th>3874</th>\n",
              "      <td>3875</td>\n",
              "      <td>0</td>\n",
              "      <td>19</td>\n",
              "      <td>43.0</td>\n",
              "      <td>0</td>\n",
              "      <td>77</td>\n",
              "      <td>NaN</td>\n",
              "      <td>2019.0</td>\n",
              "      <td>NaN</td>\n",
              "      <td>NaN</td>\n",
              "      <td>NaN</td>\n",
              "      <td>NaN</td>\n",
              "      <td>NaN</td>\n",
              "      <td>active</td>\n",
              "    </tr>\n",
              "  </tbody>\n",
              "</table>\n",
              "<p>3875 rows × 14 columns</p>\n",
              "</div>"
            ],
            "text/plain": [
              "        id  pri_id  hs_customer  yard  ...  tag color licenseplatenumber  status\n",
              "0        1     739            1   1.0  ...  NaN   NaN                NaN  active\n",
              "1        2     740            1   1.0  ...  NaN   NaN                NaN  active\n",
              "2        3     741            1   1.0  ...  NaN   NaN                NaN  active\n",
              "3        4       0            2   3.0  ...  NaN   NaN                NaN  active\n",
              "4        5       0            2   3.0  ...  NaN   NaN                NaN  active\n",
              "...    ...     ...          ...   ...  ...  ...   ...                ...     ...\n",
              "3870  3871       0           19  43.0  ...  NaN   NaN                NaN  active\n",
              "3871  3872       0           19  43.0  ...  NaN   NaN                NaN  active\n",
              "3872  3873       0           19  43.0  ...  NaN   NaN                NaN  active\n",
              "3873  3874       0           19  43.0  ...  NaN   NaN                NaN  active\n",
              "3874  3875       0           19  43.0  ...  NaN   NaN                NaN  active\n",
              "\n",
              "[3875 rows x 14 columns]"
            ]
          },
          "metadata": {
            "tags": []
          },
          "execution_count": 9
        }
      ]
    },
    {
      "cell_type": "code",
      "metadata": {
        "id": "9zstHaulq5G7",
        "colab_type": "code",
        "outputId": "a72d686e-994b-4acb-dcb9-0baad886e11d",
        "colab": {
          "base_uri": "https://localhost:8080/",
          "height": 191
        }
      },
      "source": [
        "datframetransposed = np.transpose(datframe)\n",
        "datframetsransposedrowswant = ()\n",
        "datframestransposedrowswant = datframetransposed[0:1].append(datframetransposed[2:3]).append(datframetransposed[4:5])\n",
        "datframestransposedrowswant"
      ],
      "execution_count": 0,
      "outputs": [
        {
          "output_type": "execute_result",
          "data": {
            "text/html": [
              "<div>\n",
              "<style scoped>\n",
              "    .dataframe tbody tr th:only-of-type {\n",
              "        vertical-align: middle;\n",
              "    }\n",
              "\n",
              "    .dataframe tbody tr th {\n",
              "        vertical-align: top;\n",
              "    }\n",
              "\n",
              "    .dataframe thead th {\n",
              "        text-align: right;\n",
              "    }\n",
              "</style>\n",
              "<table border=\"1\" class=\"dataframe\">\n",
              "  <thead>\n",
              "    <tr style=\"text-align: right;\">\n",
              "      <th></th>\n",
              "      <th>0</th>\n",
              "      <th>1</th>\n",
              "      <th>2</th>\n",
              "      <th>3</th>\n",
              "      <th>4</th>\n",
              "      <th>5</th>\n",
              "      <th>6</th>\n",
              "      <th>7</th>\n",
              "      <th>8</th>\n",
              "      <th>9</th>\n",
              "      <th>10</th>\n",
              "      <th>11</th>\n",
              "      <th>12</th>\n",
              "      <th>13</th>\n",
              "      <th>14</th>\n",
              "      <th>15</th>\n",
              "      <th>16</th>\n",
              "      <th>17</th>\n",
              "      <th>18</th>\n",
              "      <th>19</th>\n",
              "      <th>20</th>\n",
              "      <th>21</th>\n",
              "      <th>22</th>\n",
              "      <th>23</th>\n",
              "      <th>24</th>\n",
              "      <th>25</th>\n",
              "      <th>26</th>\n",
              "      <th>27</th>\n",
              "      <th>28</th>\n",
              "      <th>29</th>\n",
              "      <th>30</th>\n",
              "      <th>31</th>\n",
              "      <th>32</th>\n",
              "      <th>33</th>\n",
              "      <th>34</th>\n",
              "      <th>35</th>\n",
              "      <th>36</th>\n",
              "      <th>37</th>\n",
              "      <th>38</th>\n",
              "      <th>39</th>\n",
              "      <th>...</th>\n",
              "      <th>3835</th>\n",
              "      <th>3836</th>\n",
              "      <th>3837</th>\n",
              "      <th>3838</th>\n",
              "      <th>3839</th>\n",
              "      <th>3840</th>\n",
              "      <th>3841</th>\n",
              "      <th>3842</th>\n",
              "      <th>3843</th>\n",
              "      <th>3844</th>\n",
              "      <th>3845</th>\n",
              "      <th>3846</th>\n",
              "      <th>3847</th>\n",
              "      <th>3848</th>\n",
              "      <th>3849</th>\n",
              "      <th>3850</th>\n",
              "      <th>3851</th>\n",
              "      <th>3852</th>\n",
              "      <th>3853</th>\n",
              "      <th>3854</th>\n",
              "      <th>3855</th>\n",
              "      <th>3856</th>\n",
              "      <th>3857</th>\n",
              "      <th>3858</th>\n",
              "      <th>3859</th>\n",
              "      <th>3860</th>\n",
              "      <th>3861</th>\n",
              "      <th>3862</th>\n",
              "      <th>3863</th>\n",
              "      <th>3864</th>\n",
              "      <th>3865</th>\n",
              "      <th>3866</th>\n",
              "      <th>3867</th>\n",
              "      <th>3868</th>\n",
              "      <th>3869</th>\n",
              "      <th>3870</th>\n",
              "      <th>3871</th>\n",
              "      <th>3872</th>\n",
              "      <th>3873</th>\n",
              "      <th>3874</th>\n",
              "    </tr>\n",
              "  </thead>\n",
              "  <tbody>\n",
              "    <tr>\n",
              "      <th>id</th>\n",
              "      <td>1</td>\n",
              "      <td>2</td>\n",
              "      <td>3</td>\n",
              "      <td>4</td>\n",
              "      <td>5</td>\n",
              "      <td>6</td>\n",
              "      <td>7</td>\n",
              "      <td>8</td>\n",
              "      <td>9</td>\n",
              "      <td>10</td>\n",
              "      <td>11</td>\n",
              "      <td>12</td>\n",
              "      <td>13</td>\n",
              "      <td>14</td>\n",
              "      <td>15</td>\n",
              "      <td>16</td>\n",
              "      <td>17</td>\n",
              "      <td>18</td>\n",
              "      <td>19</td>\n",
              "      <td>20</td>\n",
              "      <td>21</td>\n",
              "      <td>22</td>\n",
              "      <td>23</td>\n",
              "      <td>24</td>\n",
              "      <td>25</td>\n",
              "      <td>26</td>\n",
              "      <td>27</td>\n",
              "      <td>28</td>\n",
              "      <td>29</td>\n",
              "      <td>30</td>\n",
              "      <td>31</td>\n",
              "      <td>32</td>\n",
              "      <td>33</td>\n",
              "      <td>34</td>\n",
              "      <td>35</td>\n",
              "      <td>36</td>\n",
              "      <td>37</td>\n",
              "      <td>38</td>\n",
              "      <td>39</td>\n",
              "      <td>40</td>\n",
              "      <td>...</td>\n",
              "      <td>3836</td>\n",
              "      <td>3837</td>\n",
              "      <td>3838</td>\n",
              "      <td>3839</td>\n",
              "      <td>3840</td>\n",
              "      <td>3841</td>\n",
              "      <td>3842</td>\n",
              "      <td>3843</td>\n",
              "      <td>3844</td>\n",
              "      <td>3845</td>\n",
              "      <td>3846</td>\n",
              "      <td>3847</td>\n",
              "      <td>3848</td>\n",
              "      <td>3849</td>\n",
              "      <td>3850</td>\n",
              "      <td>3851</td>\n",
              "      <td>3852</td>\n",
              "      <td>3853</td>\n",
              "      <td>3854</td>\n",
              "      <td>3855</td>\n",
              "      <td>3856</td>\n",
              "      <td>3857</td>\n",
              "      <td>3858</td>\n",
              "      <td>3859</td>\n",
              "      <td>3860</td>\n",
              "      <td>3861</td>\n",
              "      <td>3862</td>\n",
              "      <td>3863</td>\n",
              "      <td>3864</td>\n",
              "      <td>3865</td>\n",
              "      <td>3866</td>\n",
              "      <td>3867</td>\n",
              "      <td>3868</td>\n",
              "      <td>3869</td>\n",
              "      <td>3870</td>\n",
              "      <td>3871</td>\n",
              "      <td>3872</td>\n",
              "      <td>3873</td>\n",
              "      <td>3874</td>\n",
              "      <td>3875</td>\n",
              "    </tr>\n",
              "    <tr>\n",
              "      <th>hs_customer</th>\n",
              "      <td>1</td>\n",
              "      <td>1</td>\n",
              "      <td>1</td>\n",
              "      <td>2</td>\n",
              "      <td>2</td>\n",
              "      <td>2</td>\n",
              "      <td>2</td>\n",
              "      <td>2</td>\n",
              "      <td>2</td>\n",
              "      <td>2</td>\n",
              "      <td>2</td>\n",
              "      <td>2</td>\n",
              "      <td>3</td>\n",
              "      <td>3</td>\n",
              "      <td>3</td>\n",
              "      <td>3</td>\n",
              "      <td>3</td>\n",
              "      <td>3</td>\n",
              "      <td>3</td>\n",
              "      <td>5</td>\n",
              "      <td>5</td>\n",
              "      <td>5</td>\n",
              "      <td>5</td>\n",
              "      <td>5</td>\n",
              "      <td>5</td>\n",
              "      <td>5</td>\n",
              "      <td>5</td>\n",
              "      <td>5</td>\n",
              "      <td>5</td>\n",
              "      <td>5</td>\n",
              "      <td>5</td>\n",
              "      <td>5</td>\n",
              "      <td>5</td>\n",
              "      <td>5</td>\n",
              "      <td>5</td>\n",
              "      <td>5</td>\n",
              "      <td>5</td>\n",
              "      <td>5</td>\n",
              "      <td>5</td>\n",
              "      <td>5</td>\n",
              "      <td>...</td>\n",
              "      <td>18</td>\n",
              "      <td>18</td>\n",
              "      <td>18</td>\n",
              "      <td>34</td>\n",
              "      <td>45</td>\n",
              "      <td>45</td>\n",
              "      <td>19</td>\n",
              "      <td>19</td>\n",
              "      <td>19</td>\n",
              "      <td>19</td>\n",
              "      <td>19</td>\n",
              "      <td>19</td>\n",
              "      <td>19</td>\n",
              "      <td>19</td>\n",
              "      <td>19</td>\n",
              "      <td>19</td>\n",
              "      <td>19</td>\n",
              "      <td>19</td>\n",
              "      <td>19</td>\n",
              "      <td>34</td>\n",
              "      <td>34</td>\n",
              "      <td>34</td>\n",
              "      <td>34</td>\n",
              "      <td>17</td>\n",
              "      <td>45</td>\n",
              "      <td>19</td>\n",
              "      <td>19</td>\n",
              "      <td>19</td>\n",
              "      <td>18</td>\n",
              "      <td>18</td>\n",
              "      <td>19</td>\n",
              "      <td>19</td>\n",
              "      <td>19</td>\n",
              "      <td>19</td>\n",
              "      <td>19</td>\n",
              "      <td>19</td>\n",
              "      <td>19</td>\n",
              "      <td>19</td>\n",
              "      <td>19</td>\n",
              "      <td>19</td>\n",
              "    </tr>\n",
              "    <tr>\n",
              "      <th>truck_type</th>\n",
              "      <td>1</td>\n",
              "      <td>107</td>\n",
              "      <td>107</td>\n",
              "      <td>108</td>\n",
              "      <td>108</td>\n",
              "      <td>108</td>\n",
              "      <td>108</td>\n",
              "      <td>108</td>\n",
              "      <td>108</td>\n",
              "      <td>108</td>\n",
              "      <td>108</td>\n",
              "      <td>108</td>\n",
              "      <td>5</td>\n",
              "      <td>5</td>\n",
              "      <td>5</td>\n",
              "      <td>5</td>\n",
              "      <td>9</td>\n",
              "      <td>5</td>\n",
              "      <td>5</td>\n",
              "      <td>110</td>\n",
              "      <td>110</td>\n",
              "      <td>110</td>\n",
              "      <td>110</td>\n",
              "      <td>110</td>\n",
              "      <td>110</td>\n",
              "      <td>110</td>\n",
              "      <td>110</td>\n",
              "      <td>110</td>\n",
              "      <td>110</td>\n",
              "      <td>110</td>\n",
              "      <td>110</td>\n",
              "      <td>110</td>\n",
              "      <td>110</td>\n",
              "      <td>110</td>\n",
              "      <td>110</td>\n",
              "      <td>110</td>\n",
              "      <td>110</td>\n",
              "      <td>110</td>\n",
              "      <td>110</td>\n",
              "      <td>110</td>\n",
              "      <td>...</td>\n",
              "      <td>121</td>\n",
              "      <td>121</td>\n",
              "      <td>121</td>\n",
              "      <td>0</td>\n",
              "      <td>0</td>\n",
              "      <td>0</td>\n",
              "      <td>44</td>\n",
              "      <td>44</td>\n",
              "      <td>44</td>\n",
              "      <td>44</td>\n",
              "      <td>44</td>\n",
              "      <td>44</td>\n",
              "      <td>44</td>\n",
              "      <td>122</td>\n",
              "      <td>44</td>\n",
              "      <td>44</td>\n",
              "      <td>44</td>\n",
              "      <td>44</td>\n",
              "      <td>44</td>\n",
              "      <td>0</td>\n",
              "      <td>0</td>\n",
              "      <td>0</td>\n",
              "      <td>0</td>\n",
              "      <td>0</td>\n",
              "      <td>0</td>\n",
              "      <td>44</td>\n",
              "      <td>44</td>\n",
              "      <td>44</td>\n",
              "      <td>0</td>\n",
              "      <td>0</td>\n",
              "      <td>0</td>\n",
              "      <td>0</td>\n",
              "      <td>0</td>\n",
              "      <td>0</td>\n",
              "      <td>0</td>\n",
              "      <td>0</td>\n",
              "      <td>0</td>\n",
              "      <td>0</td>\n",
              "      <td>0</td>\n",
              "      <td>0</td>\n",
              "    </tr>\n",
              "  </tbody>\n",
              "</table>\n",
              "<p>3 rows × 3875 columns</p>\n",
              "</div>"
            ],
            "text/plain": [
              "            0    1    2    3    4    5     ...  3869  3870  3871  3872  3873  3874\n",
              "id             1    2    3    4    5    6  ...  3870  3871  3872  3873  3874  3875\n",
              "hs_customer    1    1    1    2    2    2  ...    19    19    19    19    19    19\n",
              "truck_type     1  107  107  108  108  108  ...     0     0     0     0     0     0\n",
              "\n",
              "[3 rows x 3875 columns]"
            ]
          },
          "metadata": {
            "tags": []
          },
          "execution_count": 10
        }
      ]
    },
    {
      "cell_type": "code",
      "metadata": {
        "id": "03pWlyu4sP6V",
        "colab_type": "code",
        "outputId": "137ed975-f705-423a-cd25-92980a7552eb",
        "colab": {
          "base_uri": "https://localhost:8080/",
          "height": 419
        }
      },
      "source": [
        "datframenew = np.transpose(datframestransposedrowswant)\n",
        "datframenew"
      ],
      "execution_count": 0,
      "outputs": [
        {
          "output_type": "execute_result",
          "data": {
            "text/html": [
              "<div>\n",
              "<style scoped>\n",
              "    .dataframe tbody tr th:only-of-type {\n",
              "        vertical-align: middle;\n",
              "    }\n",
              "\n",
              "    .dataframe tbody tr th {\n",
              "        vertical-align: top;\n",
              "    }\n",
              "\n",
              "    .dataframe thead th {\n",
              "        text-align: right;\n",
              "    }\n",
              "</style>\n",
              "<table border=\"1\" class=\"dataframe\">\n",
              "  <thead>\n",
              "    <tr style=\"text-align: right;\">\n",
              "      <th></th>\n",
              "      <th>id</th>\n",
              "      <th>hs_customer</th>\n",
              "      <th>truck_type</th>\n",
              "    </tr>\n",
              "  </thead>\n",
              "  <tbody>\n",
              "    <tr>\n",
              "      <th>0</th>\n",
              "      <td>1</td>\n",
              "      <td>1</td>\n",
              "      <td>1</td>\n",
              "    </tr>\n",
              "    <tr>\n",
              "      <th>1</th>\n",
              "      <td>2</td>\n",
              "      <td>1</td>\n",
              "      <td>107</td>\n",
              "    </tr>\n",
              "    <tr>\n",
              "      <th>2</th>\n",
              "      <td>3</td>\n",
              "      <td>1</td>\n",
              "      <td>107</td>\n",
              "    </tr>\n",
              "    <tr>\n",
              "      <th>3</th>\n",
              "      <td>4</td>\n",
              "      <td>2</td>\n",
              "      <td>108</td>\n",
              "    </tr>\n",
              "    <tr>\n",
              "      <th>4</th>\n",
              "      <td>5</td>\n",
              "      <td>2</td>\n",
              "      <td>108</td>\n",
              "    </tr>\n",
              "    <tr>\n",
              "      <th>...</th>\n",
              "      <td>...</td>\n",
              "      <td>...</td>\n",
              "      <td>...</td>\n",
              "    </tr>\n",
              "    <tr>\n",
              "      <th>3870</th>\n",
              "      <td>3871</td>\n",
              "      <td>19</td>\n",
              "      <td>0</td>\n",
              "    </tr>\n",
              "    <tr>\n",
              "      <th>3871</th>\n",
              "      <td>3872</td>\n",
              "      <td>19</td>\n",
              "      <td>0</td>\n",
              "    </tr>\n",
              "    <tr>\n",
              "      <th>3872</th>\n",
              "      <td>3873</td>\n",
              "      <td>19</td>\n",
              "      <td>0</td>\n",
              "    </tr>\n",
              "    <tr>\n",
              "      <th>3873</th>\n",
              "      <td>3874</td>\n",
              "      <td>19</td>\n",
              "      <td>0</td>\n",
              "    </tr>\n",
              "    <tr>\n",
              "      <th>3874</th>\n",
              "      <td>3875</td>\n",
              "      <td>19</td>\n",
              "      <td>0</td>\n",
              "    </tr>\n",
              "  </tbody>\n",
              "</table>\n",
              "<p>3875 rows × 3 columns</p>\n",
              "</div>"
            ],
            "text/plain": [
              "        id hs_customer truck_type\n",
              "0        1           1          1\n",
              "1        2           1        107\n",
              "2        3           1        107\n",
              "3        4           2        108\n",
              "4        5           2        108\n",
              "...    ...         ...        ...\n",
              "3870  3871          19          0\n",
              "3871  3872          19          0\n",
              "3872  3873          19          0\n",
              "3873  3874          19          0\n",
              "3874  3875          19          0\n",
              "\n",
              "[3875 rows x 3 columns]"
            ]
          },
          "metadata": {
            "tags": []
          },
          "execution_count": 11
        }
      ]
    },
    {
      "cell_type": "code",
      "metadata": {
        "id": "iyf1wsOLstEd",
        "colab_type": "code",
        "outputId": "89e8909e-382c-4c22-9940-a11d8f0c3db6",
        "colab": {
          "base_uri": "https://localhost:8080/",
          "height": 419
        }
      },
      "source": [
        "nandat = pa.DataFrame(datframenew)\n",
        "datframeu = nandat.dropna()\n",
        "datframeu"
      ],
      "execution_count": 0,
      "outputs": [
        {
          "output_type": "execute_result",
          "data": {
            "text/html": [
              "<div>\n",
              "<style scoped>\n",
              "    .dataframe tbody tr th:only-of-type {\n",
              "        vertical-align: middle;\n",
              "    }\n",
              "\n",
              "    .dataframe tbody tr th {\n",
              "        vertical-align: top;\n",
              "    }\n",
              "\n",
              "    .dataframe thead th {\n",
              "        text-align: right;\n",
              "    }\n",
              "</style>\n",
              "<table border=\"1\" class=\"dataframe\">\n",
              "  <thead>\n",
              "    <tr style=\"text-align: right;\">\n",
              "      <th></th>\n",
              "      <th>id</th>\n",
              "      <th>hs_customer</th>\n",
              "      <th>truck_type</th>\n",
              "    </tr>\n",
              "  </thead>\n",
              "  <tbody>\n",
              "    <tr>\n",
              "      <th>0</th>\n",
              "      <td>1</td>\n",
              "      <td>1</td>\n",
              "      <td>1</td>\n",
              "    </tr>\n",
              "    <tr>\n",
              "      <th>1</th>\n",
              "      <td>2</td>\n",
              "      <td>1</td>\n",
              "      <td>107</td>\n",
              "    </tr>\n",
              "    <tr>\n",
              "      <th>2</th>\n",
              "      <td>3</td>\n",
              "      <td>1</td>\n",
              "      <td>107</td>\n",
              "    </tr>\n",
              "    <tr>\n",
              "      <th>3</th>\n",
              "      <td>4</td>\n",
              "      <td>2</td>\n",
              "      <td>108</td>\n",
              "    </tr>\n",
              "    <tr>\n",
              "      <th>4</th>\n",
              "      <td>5</td>\n",
              "      <td>2</td>\n",
              "      <td>108</td>\n",
              "    </tr>\n",
              "    <tr>\n",
              "      <th>...</th>\n",
              "      <td>...</td>\n",
              "      <td>...</td>\n",
              "      <td>...</td>\n",
              "    </tr>\n",
              "    <tr>\n",
              "      <th>3870</th>\n",
              "      <td>3871</td>\n",
              "      <td>19</td>\n",
              "      <td>0</td>\n",
              "    </tr>\n",
              "    <tr>\n",
              "      <th>3871</th>\n",
              "      <td>3872</td>\n",
              "      <td>19</td>\n",
              "      <td>0</td>\n",
              "    </tr>\n",
              "    <tr>\n",
              "      <th>3872</th>\n",
              "      <td>3873</td>\n",
              "      <td>19</td>\n",
              "      <td>0</td>\n",
              "    </tr>\n",
              "    <tr>\n",
              "      <th>3873</th>\n",
              "      <td>3874</td>\n",
              "      <td>19</td>\n",
              "      <td>0</td>\n",
              "    </tr>\n",
              "    <tr>\n",
              "      <th>3874</th>\n",
              "      <td>3875</td>\n",
              "      <td>19</td>\n",
              "      <td>0</td>\n",
              "    </tr>\n",
              "  </tbody>\n",
              "</table>\n",
              "<p>3875 rows × 3 columns</p>\n",
              "</div>"
            ],
            "text/plain": [
              "        id hs_customer truck_type\n",
              "0        1           1          1\n",
              "1        2           1        107\n",
              "2        3           1        107\n",
              "3        4           2        108\n",
              "4        5           2        108\n",
              "...    ...         ...        ...\n",
              "3870  3871          19          0\n",
              "3871  3872          19          0\n",
              "3872  3873          19          0\n",
              "3873  3874          19          0\n",
              "3874  3875          19          0\n",
              "\n",
              "[3875 rows x 3 columns]"
            ]
          },
          "metadata": {
            "tags": []
          },
          "execution_count": 12
        }
      ]
    },
    {
      "cell_type": "markdown",
      "metadata": {
        "id": "EHlzAUeHjk6-",
        "colab_type": "text"
      },
      "source": [
        "# tickets based on job details, multiple tickets/ invoice per and mults 'special projects' different categories etc."
      ]
    },
    {
      "cell_type": "code",
      "metadata": {
        "id": "OwnmdMteCOCe",
        "colab_type": "code",
        "colab": {}
      },
      "source": [
        "url = 'https://raw.githubusercontent.com/nurfnick/Cantrell_Jackson/master/Support-Oct18-Sept19.csv'"
      ],
      "execution_count": 0,
      "outputs": []
    },
    {
      "cell_type": "code",
      "metadata": {
        "id": "qbOEjxn0EfVd",
        "colab_type": "code",
        "colab": {}
      },
      "source": [
        "df2 = pa.read_csv(url)"
      ],
      "execution_count": 0,
      "outputs": []
    },
    {
      "cell_type": "code",
      "metadata": {
        "id": "PJXNdrMXE-pG",
        "colab_type": "code",
        "colab": {}
      },
      "source": [
        ""
      ],
      "execution_count": 0,
      "outputs": []
    },
    {
      "cell_type": "markdown",
      "metadata": {
        "id": "Z6Nu6oY8MPBn",
        "colab_type": "text"
      },
      "source": [
        "#for each unique ticket and invoice, the type and number of job type of each customer."
      ]
    },
    {
      "cell_type": "code",
      "metadata": {
        "id": "Nm8A-mjuCKj0",
        "colab_type": "code",
        "colab": {
          "base_uri": "https://localhost:8080/",
          "height": 367
        },
        "outputId": "167df0f5-1d9e-4066-8edf-f59ef08a9060"
      },
      "source": [
        "#16, 18, 19, 5 are too big- zipped files.\n",
        "\n",
        "# for customer number 4\n",
        "custnums = [4, 10, 15, 23, 28, 34, 37, 39, 41, 45]\n",
        "for n in range(len(custnums)):\n",
        "  print('Customer '+str(custnums[n])+':')\n",
        "  url = 'https://raw.githubusercontent.com/nurfnick/Cantrell_Jackson/master/hs_customer_'+str(custnums[n])+'.csv'\n",
        "  df = pa.read_csv(url)\n",
        "  values = {'invoice_id': 0, 'hs_customer': 0, 'invoice_total': 0, 'invoice_time': 0, 'ticket_id': 0, 'job_type': 0, 'ticket_date': 0,'ticket_item_type': 0, 'details': 0}\n",
        "  df.fillna(value=values)\n",
        "  dfnoNAN = df.fillna(value=values)\n",
        "  dfnoduplicates = dfnoNAN.drop_duplicates()\n",
        "  dfgroupbbl = dfnoduplicates.groupby('ticket_item_type')\n",
        "  billbbls = dfgroupbbl.get_group('bill_bbls') \n",
        "  billbbls#ticket system is based on bill types so they will have mult overlapping of invoice and ticket ids.\n",
        "  #count the number of tickets under bbls for job type. still need order based on date\n",
        "  customerbblssp = ()\n",
        "  customerbblssp = len(billbbls['job_type'] == 'Special Projects')\n",
        "  customerbblsfb = ()\n",
        "  customerbblsfb = len(billbbls['job_type'] == 'Flowback')\n",
        "  customerbblswh = ()\n",
        "  customerbblswh = len(billbbls['job_type'] == 'Water Hauling')\n",
        "  cbblswh = billbbls['job_type'] == 'Water Hauling'\n",
        "  customerbblstot = customerbblssp + customerbblsfb + customerbblswh\n",
        "  cbblssp = billbbls['job_type'] == 'Special Projects'\n",
        "  if cbblssp == True:\n",
        "    print(sum(cbblssp['invoice_total']))\n",
        "  cbblsfb = billbbls['job_type'] == 'Flowback'\n",
        "  cbblswh = billbbls['job_type'] == 'Water Hauling'\n",
        "  customerbblsspm = ()\n",
        "  customerbblsspm = sum(cbblssp['invoice_total']).astype(float)\n",
        "  customerbblswhm = round(sum(cbblswh['invoice_total']),2)\n",
        "  customerbblstotm = customerbblsspm + customerbblsfbm + customerbblswhm\n",
        "  print(f'Customer '+str(n)+' Summary: Special Projects Tickets Count: {customerbblssp} Cash: {customerbblsspm}, Water Hauling Ticket Count {customerbblswh} Cash: {customerbblswhm}, Flowback Ticket Count {customerbblsfb} Cash: {customerbblsfbm}, Total Customer Ticket Count {customerbblstot} Cash: {customerbblstotm}')"
      ],
      "execution_count": 43,
      "outputs": [
        {
          "output_type": "stream",
          "text": [
            "Customer 4:\n"
          ],
          "name": "stdout"
        },
        {
          "output_type": "error",
          "ename": "ValueError",
          "evalue": "ignored",
          "traceback": [
            "\u001b[0;31m---------------------------------------------------------------------------\u001b[0m",
            "\u001b[0;31mValueError\u001b[0m                                Traceback (most recent call last)",
            "\u001b[0;32m<ipython-input-43-5c186663290b>\u001b[0m in \u001b[0;36m<module>\u001b[0;34m()\u001b[0m\n\u001b[1;32m     21\u001b[0m   \u001b[0mcustomerbblstot\u001b[0m \u001b[0;34m=\u001b[0m \u001b[0mcustomerbblssp\u001b[0m \u001b[0;34m+\u001b[0m \u001b[0mcustomerbblsfb\u001b[0m \u001b[0;34m+\u001b[0m \u001b[0mcustomerbblswh\u001b[0m\u001b[0;34m\u001b[0m\u001b[0;34m\u001b[0m\u001b[0m\n\u001b[1;32m     22\u001b[0m   \u001b[0mcbblssp\u001b[0m \u001b[0;34m=\u001b[0m \u001b[0mbillbbls\u001b[0m\u001b[0;34m[\u001b[0m\u001b[0;34m'job_type'\u001b[0m\u001b[0;34m]\u001b[0m \u001b[0;34m==\u001b[0m \u001b[0;34m'Special Projects'\u001b[0m\u001b[0;34m\u001b[0m\u001b[0;34m\u001b[0m\u001b[0m\n\u001b[0;32m---> 23\u001b[0;31m   \u001b[0;32mif\u001b[0m \u001b[0mcbblssp\u001b[0m \u001b[0;34m==\u001b[0m \u001b[0;32mTrue\u001b[0m\u001b[0;34m:\u001b[0m\u001b[0;34m\u001b[0m\u001b[0;34m\u001b[0m\u001b[0m\n\u001b[0m\u001b[1;32m     24\u001b[0m     \u001b[0mprint\u001b[0m\u001b[0;34m(\u001b[0m\u001b[0msum\u001b[0m\u001b[0;34m(\u001b[0m\u001b[0mcbblssp\u001b[0m\u001b[0;34m[\u001b[0m\u001b[0;34m'invoice_total'\u001b[0m\u001b[0;34m]\u001b[0m\u001b[0;34m)\u001b[0m\u001b[0;34m)\u001b[0m\u001b[0;34m\u001b[0m\u001b[0;34m\u001b[0m\u001b[0m\n\u001b[1;32m     25\u001b[0m   \u001b[0mcbblsfb\u001b[0m \u001b[0;34m=\u001b[0m \u001b[0mbillbbls\u001b[0m\u001b[0;34m[\u001b[0m\u001b[0;34m'job_type'\u001b[0m\u001b[0;34m]\u001b[0m \u001b[0;34m==\u001b[0m \u001b[0;34m'Flowback'\u001b[0m\u001b[0;34m\u001b[0m\u001b[0;34m\u001b[0m\u001b[0m\n",
            "\u001b[0;32m/usr/local/lib/python3.6/dist-packages/pandas/core/generic.py\u001b[0m in \u001b[0;36m__nonzero__\u001b[0;34m(self)\u001b[0m\n\u001b[1;32m   1553\u001b[0m             \u001b[0;34m\"The truth value of a {0} is ambiguous. \"\u001b[0m\u001b[0;34m\u001b[0m\u001b[0;34m\u001b[0m\u001b[0m\n\u001b[1;32m   1554\u001b[0m             \"Use a.empty, a.bool(), a.item(), a.any() or a.all().\".format(\n\u001b[0;32m-> 1555\u001b[0;31m                 \u001b[0mself\u001b[0m\u001b[0;34m.\u001b[0m\u001b[0m__class__\u001b[0m\u001b[0;34m.\u001b[0m\u001b[0m__name__\u001b[0m\u001b[0;34m\u001b[0m\u001b[0;34m\u001b[0m\u001b[0m\n\u001b[0m\u001b[1;32m   1556\u001b[0m             )\n\u001b[1;32m   1557\u001b[0m         )\n",
            "\u001b[0;31mValueError\u001b[0m: The truth value of a Series is ambiguous. Use a.empty, a.bool(), a.item(), a.any() or a.all()."
          ]
        }
      ]
    },
    {
      "cell_type": "code",
      "metadata": {
        "id": "csuF8gAJbZQ3",
        "colab_type": "code",
        "colab": {}
      },
      "source": [
        "\n",
        "# for customer number 4\n",
        "url2 = 'https://raw.githubusercontent.com/nurfnick/Cantrell_Jackson/master/hs_customer_4.csv'\n",
        "df3 = pa.read_csv(url2)"
      ],
      "execution_count": 0,
      "outputs": []
    },
    {
      "cell_type": "code",
      "metadata": {
        "id": "_5VHSYL40wbC",
        "colab_type": "code",
        "colab": {
          "base_uri": "https://localhost:8080/",
          "height": 221
        },
        "outputId": "b9c4ef14-4de7-416e-ceac-8c846db555bb"
      },
      "source": [
        "cbblssp = cbblssp.astype(float)\n",
        "cbblssp = billbbls['job_type'] == 'Special Projects'\n",
        "cbblssp"
      ],
      "execution_count": 41,
      "outputs": [
        {
          "output_type": "execute_result",
          "data": {
            "text/plain": [
              "2882       True\n",
              "2883       True\n",
              "2884       True\n",
              "2885       True\n",
              "2886       True\n",
              "          ...  \n",
              "158862    False\n",
              "158863    False\n",
              "158864    False\n",
              "158865    False\n",
              "158866    False\n",
              "Name: job_type, Length: 27446, dtype: bool"
            ]
          },
          "metadata": {
            "tags": []
          },
          "execution_count": 41
        }
      ]
    },
    {
      "cell_type": "code",
      "metadata": {
        "id": "g79Unk_5JVZD",
        "colab_type": "code",
        "outputId": "415e4dcd-b541-4861-bfd2-e9c7c1c8dee6",
        "colab": {
          "base_uri": "https://localhost:8080/",
          "height": 419
        }
      },
      "source": [
        "#turn nan into 0\n",
        "values = {'invoice_id': 0, 'hs_customer': 0, 'invoice_total': 0, 'invoice_time': 0, 'ticket_id': 0, 'job_type': 0, 'ticket_date': 0,'ticket_item_type': 0, 'details': 0}\n",
        "df3.fillna(value=values) "
      ],
      "execution_count": 3,
      "outputs": [
        {
          "output_type": "execute_result",
          "data": {
            "text/html": [
              "<div>\n",
              "<style scoped>\n",
              "    .dataframe tbody tr th:only-of-type {\n",
              "        vertical-align: middle;\n",
              "    }\n",
              "\n",
              "    .dataframe tbody tr th {\n",
              "        vertical-align: top;\n",
              "    }\n",
              "\n",
              "    .dataframe thead th {\n",
              "        text-align: right;\n",
              "    }\n",
              "</style>\n",
              "<table border=\"1\" class=\"dataframe\">\n",
              "  <thead>\n",
              "    <tr style=\"text-align: right;\">\n",
              "      <th></th>\n",
              "      <th>invoice_id</th>\n",
              "      <th>hs_customer</th>\n",
              "      <th>invoice_total</th>\n",
              "      <th>invoice_time</th>\n",
              "      <th>ticket_id</th>\n",
              "      <th>job_type</th>\n",
              "      <th>ticket_date</th>\n",
              "      <th>ticket_item_type</th>\n",
              "      <th>details</th>\n",
              "    </tr>\n",
              "  </thead>\n",
              "  <tbody>\n",
              "    <tr>\n",
              "      <th>0</th>\n",
              "      <td>179988</td>\n",
              "      <td>4</td>\n",
              "      <td>1703.00</td>\n",
              "      <td>1538430074</td>\n",
              "      <td>921385</td>\n",
              "      <td>Special Projects</td>\n",
              "      <td>1538071304</td>\n",
              "      <td>job_description</td>\n",
              "      <td>1281.0</td>\n",
              "    </tr>\n",
              "    <tr>\n",
              "      <th>1</th>\n",
              "      <td>179987</td>\n",
              "      <td>4</td>\n",
              "      <td>1401.05</td>\n",
              "      <td>1538430070</td>\n",
              "      <td>921730</td>\n",
              "      <td>Special Projects</td>\n",
              "      <td>1538075754</td>\n",
              "      <td>job_description</td>\n",
              "      <td>1281.0</td>\n",
              "    </tr>\n",
              "    <tr>\n",
              "      <th>2</th>\n",
              "      <td>179995</td>\n",
              "      <td>4</td>\n",
              "      <td>533.14</td>\n",
              "      <td>1538430097</td>\n",
              "      <td>922145</td>\n",
              "      <td>Special Projects</td>\n",
              "      <td>1538079932</td>\n",
              "      <td>job_description</td>\n",
              "      <td>1281.0</td>\n",
              "    </tr>\n",
              "    <tr>\n",
              "      <th>3</th>\n",
              "      <td>179978</td>\n",
              "      <td>4</td>\n",
              "      <td>15870.00</td>\n",
              "      <td>1538430035</td>\n",
              "      <td>922198</td>\n",
              "      <td>Special Projects</td>\n",
              "      <td>1538080501</td>\n",
              "      <td>job_description</td>\n",
              "      <td>1281.0</td>\n",
              "    </tr>\n",
              "    <tr>\n",
              "      <th>4</th>\n",
              "      <td>180011</td>\n",
              "      <td>4</td>\n",
              "      <td>2170.00</td>\n",
              "      <td>1538430143</td>\n",
              "      <td>926946</td>\n",
              "      <td>Special Projects</td>\n",
              "      <td>1538404812</td>\n",
              "      <td>job_description</td>\n",
              "      <td>1281.0</td>\n",
              "    </tr>\n",
              "    <tr>\n",
              "      <th>...</th>\n",
              "      <td>...</td>\n",
              "      <td>...</td>\n",
              "      <td>...</td>\n",
              "      <td>...</td>\n",
              "      <td>...</td>\n",
              "      <td>...</td>\n",
              "      <td>...</td>\n",
              "      <td>...</td>\n",
              "      <td>...</td>\n",
              "    </tr>\n",
              "    <tr>\n",
              "      <th>187563</th>\n",
              "      <td>223637</td>\n",
              "      <td>4</td>\n",
              "      <td>5890.50</td>\n",
              "      <td>1547584453</td>\n",
              "      <td>1254414</td>\n",
              "      <td>Water Hauling</td>\n",
              "      <td>1547549304</td>\n",
              "      <td>job_description</td>\n",
              "      <td>0.0</td>\n",
              "    </tr>\n",
              "    <tr>\n",
              "      <th>187564</th>\n",
              "      <td>223548</td>\n",
              "      <td>4</td>\n",
              "      <td>5446.80</td>\n",
              "      <td>1547582644</td>\n",
              "      <td>1254603</td>\n",
              "      <td>Water Hauling</td>\n",
              "      <td>1547553284</td>\n",
              "      <td>job_description</td>\n",
              "      <td>0.0</td>\n",
              "    </tr>\n",
              "    <tr>\n",
              "      <th>187565</th>\n",
              "      <td>223544</td>\n",
              "      <td>4</td>\n",
              "      <td>1682.00</td>\n",
              "      <td>1547582630</td>\n",
              "      <td>1254411</td>\n",
              "      <td>Water Hauling</td>\n",
              "      <td>1547549232</td>\n",
              "      <td>job_description</td>\n",
              "      <td>0.0</td>\n",
              "    </tr>\n",
              "    <tr>\n",
              "      <th>187566</th>\n",
              "      <td>223547</td>\n",
              "      <td>4</td>\n",
              "      <td>2144.20</td>\n",
              "      <td>1547582641</td>\n",
              "      <td>1254609</td>\n",
              "      <td>Water Hauling</td>\n",
              "      <td>1547553354</td>\n",
              "      <td>job_description</td>\n",
              "      <td>0.0</td>\n",
              "    </tr>\n",
              "    <tr>\n",
              "      <th>187567</th>\n",
              "      <td>223546</td>\n",
              "      <td>4</td>\n",
              "      <td>2167.50</td>\n",
              "      <td>1547582637</td>\n",
              "      <td>1254418</td>\n",
              "      <td>Water Hauling</td>\n",
              "      <td>1547549375</td>\n",
              "      <td>job_description</td>\n",
              "      <td>0.0</td>\n",
              "    </tr>\n",
              "  </tbody>\n",
              "</table>\n",
              "<p>187568 rows × 9 columns</p>\n",
              "</div>"
            ],
            "text/plain": [
              "        invoice_id  hs_customer  ...  ticket_item_type  details\n",
              "0           179988            4  ...   job_description   1281.0\n",
              "1           179987            4  ...   job_description   1281.0\n",
              "2           179995            4  ...   job_description   1281.0\n",
              "3           179978            4  ...   job_description   1281.0\n",
              "4           180011            4  ...   job_description   1281.0\n",
              "...            ...          ...  ...               ...      ...\n",
              "187563      223637            4  ...   job_description      0.0\n",
              "187564      223548            4  ...   job_description      0.0\n",
              "187565      223544            4  ...   job_description      0.0\n",
              "187566      223547            4  ...   job_description      0.0\n",
              "187567      223546            4  ...   job_description      0.0\n",
              "\n",
              "[187568 rows x 9 columns]"
            ]
          },
          "metadata": {
            "tags": []
          },
          "execution_count": 3
        }
      ]
    },
    {
      "cell_type": "code",
      "metadata": {
        "id": "C0ecieMqXhmg",
        "colab_type": "code",
        "colab": {
          "base_uri": "https://localhost:8080/",
          "height": 34
        },
        "outputId": "93359c7c-66b0-4148-ffdb-e6823cd67d1d"
      },
      "source": [
        "dataframec4 = df3.fillna(value=values)\n",
        "dataframec4nodupls = dataframec4.drop_duplicates()\n",
        "titajt = dataframec4nodupls.groupby('ticket_item_type')\n",
        "billbbls = titajt.get_group('bill_bbls') #ticket system is based on bill types so they will have mult overlapping of invoice and ticket ids.\n",
        "#count the number of tickets under bbls for job type. still need order based on date\n",
        "customer4bblssp = ()\n",
        "customer4bblssp = len(billbbls['job_type'] == 'Special Projects')\n",
        "customer4bblsfb = ()\n",
        "customer4bblsfb = len(billbbls['job_type'] == 'Flowback')\n",
        "customer4bblswh = ()\n",
        "customer4bblswh = len(billbbls['job_type'] == 'Water Hauling')\n",
        "customer4bblstot = ()\n",
        "customer4bblstot = customer4bblssp + customer4bblsfb + customer4bblswh\n",
        "print(f'Customer 4 ticket summary: Special Projects count {customer4bblssp}, Water Hauling count {customer4bblswh}, Flowback count {customer4bblsfb}, Total ticket count {customer4bblstot}')"
      ],
      "execution_count": 5,
      "outputs": [
        {
          "output_type": "stream",
          "text": [
            "Customer 4 ticket summary: Special Projects count 27446, Water Hauling count 27446, Flowback count 27446, Total ticket count 82338\n"
          ],
          "name": "stdout"
        }
      ]
    },
    {
      "cell_type": "code",
      "metadata": {
        "id": "CpkVNJblagvF",
        "colab_type": "code",
        "outputId": "32a38c8c-4d77-4633-918c-701d221a771a",
        "colab": {
          "base_uri": "https://localhost:8080/",
          "height": 406
        }
      },
      "source": [
        ""
      ],
      "execution_count": 0,
      "outputs": [
        {
          "output_type": "execute_result",
          "data": {
            "text/html": [
              "<div>\n",
              "<style scoped>\n",
              "    .dataframe tbody tr th:only-of-type {\n",
              "        vertical-align: middle;\n",
              "    }\n",
              "\n",
              "    .dataframe tbody tr th {\n",
              "        vertical-align: top;\n",
              "    }\n",
              "\n",
              "    .dataframe thead th {\n",
              "        text-align: right;\n",
              "    }\n",
              "</style>\n",
              "<table border=\"1\" class=\"dataframe\">\n",
              "  <thead>\n",
              "    <tr style=\"text-align: right;\">\n",
              "      <th></th>\n",
              "      <th>invoice_id</th>\n",
              "      <th>hs_customer</th>\n",
              "      <th>invoice_total</th>\n",
              "      <th>invoice_time</th>\n",
              "      <th>ticket_id</th>\n",
              "      <th>job_type</th>\n",
              "      <th>ticket_date</th>\n",
              "      <th>ticket_item_type</th>\n",
              "      <th>details</th>\n",
              "    </tr>\n",
              "  </thead>\n",
              "  <tbody>\n",
              "    <tr>\n",
              "      <th>2882</th>\n",
              "      <td>179978</td>\n",
              "      <td>4</td>\n",
              "      <td>15870.0</td>\n",
              "      <td>1538430035</td>\n",
              "      <td>922198</td>\n",
              "      <td>Special Projects</td>\n",
              "      <td>1538080501</td>\n",
              "      <td>bill_bbls</td>\n",
              "      <td>0.0</td>\n",
              "    </tr>\n",
              "    <tr>\n",
              "      <th>2883</th>\n",
              "      <td>180011</td>\n",
              "      <td>4</td>\n",
              "      <td>2170.0</td>\n",
              "      <td>1538430143</td>\n",
              "      <td>926946</td>\n",
              "      <td>Special Projects</td>\n",
              "      <td>1538404812</td>\n",
              "      <td>bill_bbls</td>\n",
              "      <td>0.0</td>\n",
              "    </tr>\n",
              "    <tr>\n",
              "      <th>2884</th>\n",
              "      <td>179978</td>\n",
              "      <td>4</td>\n",
              "      <td>15870.0</td>\n",
              "      <td>1538430035</td>\n",
              "      <td>927533</td>\n",
              "      <td>Special Projects</td>\n",
              "      <td>1538408747</td>\n",
              "      <td>bill_bbls</td>\n",
              "      <td>0.0</td>\n",
              "    </tr>\n",
              "    <tr>\n",
              "      <th>2885</th>\n",
              "      <td>179978</td>\n",
              "      <td>4</td>\n",
              "      <td>15870.0</td>\n",
              "      <td>1538430035</td>\n",
              "      <td>928611</td>\n",
              "      <td>Special Projects</td>\n",
              "      <td>1538417014</td>\n",
              "      <td>bill_bbls</td>\n",
              "      <td>0.0</td>\n",
              "    </tr>\n",
              "    <tr>\n",
              "      <th>2886</th>\n",
              "      <td>180011</td>\n",
              "      <td>4</td>\n",
              "      <td>2170.0</td>\n",
              "      <td>1538430143</td>\n",
              "      <td>928625</td>\n",
              "      <td>Special Projects</td>\n",
              "      <td>1538417081</td>\n",
              "      <td>bill_bbls</td>\n",
              "      <td>0.0</td>\n",
              "    </tr>\n",
              "    <tr>\n",
              "      <th>...</th>\n",
              "      <td>...</td>\n",
              "      <td>...</td>\n",
              "      <td>...</td>\n",
              "      <td>...</td>\n",
              "      <td>...</td>\n",
              "      <td>...</td>\n",
              "      <td>...</td>\n",
              "      <td>...</td>\n",
              "      <td>...</td>\n",
              "    </tr>\n",
              "    <tr>\n",
              "      <th>158862</th>\n",
              "      <td>213968</td>\n",
              "      <td>4</td>\n",
              "      <td>6444.2</td>\n",
              "      <td>1545425031</td>\n",
              "      <td>1165381</td>\n",
              "      <td>Water Hauling</td>\n",
              "      <td>1545149632</td>\n",
              "      <td>bill_bbls</td>\n",
              "      <td>100.0</td>\n",
              "    </tr>\n",
              "    <tr>\n",
              "      <th>158863</th>\n",
              "      <td>214057</td>\n",
              "      <td>4</td>\n",
              "      <td>150.0</td>\n",
              "      <td>1545425278</td>\n",
              "      <td>1169817</td>\n",
              "      <td>Water Hauling</td>\n",
              "      <td>1545238110</td>\n",
              "      <td>bill_bbls</td>\n",
              "      <td>100.0</td>\n",
              "    </tr>\n",
              "    <tr>\n",
              "      <th>158864</th>\n",
              "      <td>213989</td>\n",
              "      <td>4</td>\n",
              "      <td>8551.5</td>\n",
              "      <td>1545425095</td>\n",
              "      <td>1172940</td>\n",
              "      <td>Water Hauling</td>\n",
              "      <td>1545313955</td>\n",
              "      <td>bill_bbls</td>\n",
              "      <td>100.0</td>\n",
              "    </tr>\n",
              "    <tr>\n",
              "      <th>158865</th>\n",
              "      <td>214069</td>\n",
              "      <td>4</td>\n",
              "      <td>150.0</td>\n",
              "      <td>1545425312</td>\n",
              "      <td>1174100</td>\n",
              "      <td>Water Hauling</td>\n",
              "      <td>1545325415</td>\n",
              "      <td>bill_bbls</td>\n",
              "      <td>100.0</td>\n",
              "    </tr>\n",
              "    <tr>\n",
              "      <th>158866</th>\n",
              "      <td>214060</td>\n",
              "      <td>4</td>\n",
              "      <td>286.0</td>\n",
              "      <td>1545425286</td>\n",
              "      <td>1174625</td>\n",
              "      <td>Water Hauling</td>\n",
              "      <td>1545328973</td>\n",
              "      <td>bill_bbls</td>\n",
              "      <td>100.0</td>\n",
              "    </tr>\n",
              "  </tbody>\n",
              "</table>\n",
              "<p>27446 rows × 9 columns</p>\n",
              "</div>"
            ],
            "text/plain": [
              "        invoice_id  hs_customer  ...  ticket_item_type  details\n",
              "2882        179978            4  ...         bill_bbls      0.0\n",
              "2883        180011            4  ...         bill_bbls      0.0\n",
              "2884        179978            4  ...         bill_bbls      0.0\n",
              "2885        179978            4  ...         bill_bbls      0.0\n",
              "2886        180011            4  ...         bill_bbls      0.0\n",
              "...            ...          ...  ...               ...      ...\n",
              "158862      213968            4  ...         bill_bbls    100.0\n",
              "158863      214057            4  ...         bill_bbls    100.0\n",
              "158864      213989            4  ...         bill_bbls    100.0\n",
              "158865      214069            4  ...         bill_bbls    100.0\n",
              "158866      214060            4  ...         bill_bbls    100.0\n",
              "\n",
              "[27446 rows x 9 columns]"
            ]
          },
          "metadata": {
            "tags": []
          },
          "execution_count": 6
        }
      ]
    },
    {
      "cell_type": "code",
      "metadata": {
        "id": "TFBLatdsYSfd",
        "colab_type": "code",
        "outputId": "f2c522d3-d3bd-49d2-eacd-bd86bff78cc3",
        "colab": {
          "base_uri": "https://localhost:8080/",
          "height": 34
        }
      },
      "source": [
        "#count the number of tickets under bbls for job type. still need order based on date\n",
        "customer4bblssp = ()\n",
        "customer4bblssp = len(billbbls['job_type'] == 'Special Projects')\n",
        "customer4bblsfb = ()\n",
        "customer4bblsfb = len(billbbls['job_type'] == 'Flowback')\n",
        "customer4bblswh = ()\n",
        "customer4bblswh = len(billbbls['job_type'] == 'Water Hauling')\n",
        "customer4bblstot = ()\n",
        "customer4bblstot = customer4bblssp + customer4bblsfb + customer4bblswh\n",
        "print(f'Customer 4 ticket summary: Special Projects count {customer4bblssp}, Water Hauling count {customer4bblswh}, Flowback count {customer4bblsfb}, Total ticket count {customer4bblstot}')\n"
      ],
      "execution_count": 0,
      "outputs": [
        {
          "output_type": "stream",
          "text": [
            "Customer 4 ticket summary: Special Projects count 27446, Water Hauling count 27446, Flowback count 27446, Total ticket count 82338\n"
          ],
          "name": "stdout"
        }
      ]
    },
    {
      "cell_type": "code",
      "metadata": {
        "id": "WSQBVynMdvsR",
        "colab_type": "code",
        "outputId": "a104fb6b-0156-4dce-8ad9-d83a65ee16bf",
        "colab": {
          "base_uri": "https://localhost:8080/",
          "height": 194
        }
      },
      "source": [
        "#convert column 'ticket_date' to readable date\n",
        "ts = tm.gmtime()\n",
        "readable =[]\n",
        "for time in billbbls['ticket_date']:\n",
        "  readable.append(tm.ctime(time))\n",
        "readable[0:10]"
      ],
      "execution_count": 0,
      "outputs": [
        {
          "output_type": "execute_result",
          "data": {
            "text/plain": [
              "['Thu Sep 27 20:35:01 2018',\n",
              " 'Mon Oct  1 14:40:12 2018',\n",
              " 'Mon Oct  1 15:45:47 2018',\n",
              " 'Mon Oct  1 18:03:34 2018',\n",
              " 'Mon Oct  1 18:04:41 2018',\n",
              " 'Mon Oct  1 18:12:34 2018',\n",
              " 'Mon Oct  1 19:42:52 2018',\n",
              " 'Mon Oct  1 21:38:51 2018',\n",
              " 'Tue Oct  2 15:21:11 2018',\n",
              " 'Tue Oct  2 15:21:59 2018']"
            ]
          },
          "metadata": {
            "tags": []
          },
          "execution_count": 11
        }
      ]
    },
    {
      "cell_type": "code",
      "metadata": {
        "id": "HePmRFidgQz3",
        "colab_type": "code",
        "outputId": "03ef4e64-e649-46c3-a1cb-ed0adb77faf6",
        "colab": {
          "base_uri": "https://localhost:8080/",
          "height": 132
        }
      },
      "source": [
        "billbbls['ticket_date'] = pa.np.where(readable.str.contains(\"Oct\"), \"Oct\",\n",
        "                   pa.np.where(readable.str.contains(\"Sep\"), \"Sep\",\n",
        "                   pa.np.where(readable.str.contains(\"Nov\"), \"Nov\")"
      ],
      "execution_count": 0,
      "outputs": [
        {
          "output_type": "error",
          "ename": "SyntaxError",
          "evalue": "ignored",
          "traceback": [
            "\u001b[0;36m  File \u001b[0;32m\"<ipython-input-23-8c1308207239>\"\u001b[0;36m, line \u001b[0;32m3\u001b[0m\n\u001b[0;31m    pa.np.where(readable.str.contains(\"Nov\"), \"Nov\")\u001b[0m\n\u001b[0m                                                    ^\u001b[0m\n\u001b[0;31mSyntaxError\u001b[0m\u001b[0;31m:\u001b[0m unexpected EOF while parsing\n"
          ]
        }
      ]
    },
    {
      "cell_type": "code",
      "metadata": {
        "id": "RdGlwawSgQyJ",
        "colab_type": "code",
        "colab": {}
      },
      "source": [
        ""
      ],
      "execution_count": 0,
      "outputs": []
    },
    {
      "cell_type": "code",
      "metadata": {
        "id": "PzLEjMXqfa-8",
        "colab_type": "code",
        "outputId": "f8227d7b-6c86-45df-b634-7ef6c6e439b4",
        "colab": {
          "base_uri": "https://localhost:8080/",
          "height": 203
        }
      },
      "source": [
        "billbbls['ticket_date'] = np.where(billbbls['ticket_date'], readable)"
      ],
      "execution_count": 0,
      "outputs": [
        {
          "output_type": "error",
          "ename": "ValueError",
          "evalue": "ignored",
          "traceback": [
            "\u001b[0;31m---------------------------------------------------------------------------\u001b[0m",
            "\u001b[0;31mValueError\u001b[0m                                Traceback (most recent call last)",
            "\u001b[0;32m<ipython-input-17-f06d5f73a76f>\u001b[0m in \u001b[0;36m<module>\u001b[0;34m()\u001b[0m\n\u001b[0;32m----> 1\u001b[0;31m \u001b[0mbillbbls\u001b[0m\u001b[0;34m[\u001b[0m\u001b[0;34m'ticket_date'\u001b[0m\u001b[0;34m]\u001b[0m \u001b[0;34m=\u001b[0m \u001b[0mnp\u001b[0m\u001b[0;34m.\u001b[0m\u001b[0mwhere\u001b[0m\u001b[0;34m(\u001b[0m\u001b[0mbillbbls\u001b[0m\u001b[0;34m[\u001b[0m\u001b[0;34m'ticket_date'\u001b[0m\u001b[0;34m]\u001b[0m\u001b[0;34m,\u001b[0m \u001b[0mreadable\u001b[0m\u001b[0;34m)\u001b[0m\u001b[0;34m\u001b[0m\u001b[0;34m\u001b[0m\u001b[0m\n\u001b[0m",
            "\u001b[0;32m<__array_function__ internals>\u001b[0m in \u001b[0;36mwhere\u001b[0;34m(*args, **kwargs)\u001b[0m\n",
            "\u001b[0;31mValueError\u001b[0m: either both or neither of x and y should be given"
          ]
        }
      ]
    },
    {
      "cell_type": "code",
      "metadata": {
        "id": "RUjmQpdaeB8B",
        "colab_type": "code",
        "outputId": "a73ab4b1-6746-4f76-bf78-c9d9d42be463",
        "colab": {
          "base_uri": "https://localhost:8080/",
          "height": 221
        }
      },
      "source": [
        "#convert column 'ticket_date' to readable date\n",
        "ts = tm.gmtime()\n",
        "readable =[]\n",
        "for time in billbbls['ticket_date']:\n",
        "  readable.append(tm.ctime(time))\n",
        "billbbls['ticket_date'] = readable"
      ],
      "execution_count": 0,
      "outputs": [
        {
          "output_type": "error",
          "ename": "TypeError",
          "evalue": "ignored",
          "traceback": [
            "\u001b[0;31m---------------------------------------------------------------------------\u001b[0m",
            "\u001b[0;31mTypeError\u001b[0m                                 Traceback (most recent call last)",
            "\u001b[0;32m<ipython-input-18-0796c4905459>\u001b[0m in \u001b[0;36m<module>\u001b[0;34m()\u001b[0m\n\u001b[1;32m      2\u001b[0m \u001b[0mreadable\u001b[0m \u001b[0;34m=\u001b[0m\u001b[0;34m[\u001b[0m\u001b[0;34m]\u001b[0m\u001b[0;34m\u001b[0m\u001b[0;34m\u001b[0m\u001b[0m\n\u001b[1;32m      3\u001b[0m \u001b[0;32mfor\u001b[0m \u001b[0mtime\u001b[0m \u001b[0;32min\u001b[0m \u001b[0mbillbbls\u001b[0m\u001b[0;34m[\u001b[0m\u001b[0;34m'ticket_date'\u001b[0m\u001b[0;34m]\u001b[0m\u001b[0;34m:\u001b[0m\u001b[0;34m\u001b[0m\u001b[0;34m\u001b[0m\u001b[0m\n\u001b[0;32m----> 4\u001b[0;31m   \u001b[0mreadable\u001b[0m\u001b[0;34m.\u001b[0m\u001b[0mappend\u001b[0m\u001b[0;34m(\u001b[0m\u001b[0mtm\u001b[0m\u001b[0;34m.\u001b[0m\u001b[0mctime\u001b[0m\u001b[0;34m(\u001b[0m\u001b[0mtime\u001b[0m\u001b[0;34m)\u001b[0m\u001b[0;34m)\u001b[0m\u001b[0;34m\u001b[0m\u001b[0;34m\u001b[0m\u001b[0m\n\u001b[0m\u001b[1;32m      5\u001b[0m \u001b[0mbillbbls\u001b[0m\u001b[0;34m[\u001b[0m\u001b[0;34m'ticket_date'\u001b[0m\u001b[0;34m]\u001b[0m \u001b[0;34m=\u001b[0m \u001b[0mreadable\u001b[0m\u001b[0;34m\u001b[0m\u001b[0;34m\u001b[0m\u001b[0m\n",
            "\u001b[0;31mTypeError\u001b[0m: an integer is required (got type str)"
          ]
        }
      ]
    },
    {
      "cell_type": "code",
      "metadata": {
        "id": "7L-rJslBdKTa",
        "colab_type": "code",
        "outputId": "c95b91c0-5ae3-413f-a074-34ead9bcfa7a",
        "colab": {
          "base_uri": "https://localhost:8080/",
          "height": 34
        }
      },
      "source": [
        "dframe = np.unique(dataframec4['ticket_id'])\n",
        "dframe"
      ],
      "execution_count": 0,
      "outputs": [
        {
          "output_type": "execute_result",
          "data": {
            "text/plain": [
              "array([ 911190,  911761,  914273, ..., 1292099, 1292105, 1292132])"
            ]
          },
          "metadata": {
            "tags": []
          },
          "execution_count": 119
        }
      ]
    },
    {
      "cell_type": "code",
      "metadata": {
        "id": "4-DVgmdzoLzN",
        "colab_type": "code",
        "outputId": "e2c04eb1-4f55-4642-d5e3-ac98e2b8a59f",
        "colab": {
          "base_uri": "https://localhost:8080/",
          "height": 419
        }
      },
      "source": [
        "#df3 transposed separate rows we want\n",
        "df3tl = ()\n",
        "df3tl = df3t[0:1].append(df3t[2:4]).append(df3t[5:6])\n",
        "#transpose again\n",
        "df3tlt = np.transpose(df3tl)\n",
        "#dataframe with nan values (nanas)\n",
        "tab4 = pa.DataFrame(df3tlt)\n",
        "#drop nanas\n",
        "tab4n = tab4.dropna()\n",
        "# shows duplicate rows (one instance of each)\n",
        "duplicateRowsDF = pa.DataFrame(tab4n[tab4n.duplicated()])\n",
        "\n",
        "duplicateRowsDF"
      ],
      "execution_count": 0,
      "outputs": [
        {
          "output_type": "execute_result",
          "data": {
            "text/html": [
              "<div>\n",
              "<style scoped>\n",
              "    .dataframe tbody tr th:only-of-type {\n",
              "        vertical-align: middle;\n",
              "    }\n",
              "\n",
              "    .dataframe tbody tr th {\n",
              "        vertical-align: top;\n",
              "    }\n",
              "\n",
              "    .dataframe thead th {\n",
              "        text-align: right;\n",
              "    }\n",
              "</style>\n",
              "<table border=\"1\" class=\"dataframe\">\n",
              "  <thead>\n",
              "    <tr style=\"text-align: right;\">\n",
              "      <th></th>\n",
              "      <th>invoice_id</th>\n",
              "      <th>invoice_total</th>\n",
              "      <th>invoice_time</th>\n",
              "      <th>job_type</th>\n",
              "    </tr>\n",
              "  </thead>\n",
              "  <tbody>\n",
              "    <tr>\n",
              "      <th>5</th>\n",
              "      <td>179978</td>\n",
              "      <td>15870</td>\n",
              "      <td>1538430035</td>\n",
              "      <td>Special Projects</td>\n",
              "    </tr>\n",
              "    <tr>\n",
              "      <th>8</th>\n",
              "      <td>179978</td>\n",
              "      <td>15870</td>\n",
              "      <td>1538430035</td>\n",
              "      <td>Special Projects</td>\n",
              "    </tr>\n",
              "    <tr>\n",
              "      <th>9</th>\n",
              "      <td>180011</td>\n",
              "      <td>2170</td>\n",
              "      <td>1538430143</td>\n",
              "      <td>Special Projects</td>\n",
              "    </tr>\n",
              "    <tr>\n",
              "      <th>11</th>\n",
              "      <td>180004</td>\n",
              "      <td>6461.22</td>\n",
              "      <td>1538430123</td>\n",
              "      <td>Special Projects</td>\n",
              "    </tr>\n",
              "    <tr>\n",
              "      <th>16</th>\n",
              "      <td>180018</td>\n",
              "      <td>460</td>\n",
              "      <td>1538430164</td>\n",
              "      <td>Special Projects</td>\n",
              "    </tr>\n",
              "    <tr>\n",
              "      <th>...</th>\n",
              "      <td>...</td>\n",
              "      <td>...</td>\n",
              "      <td>...</td>\n",
              "      <td>...</td>\n",
              "    </tr>\n",
              "    <tr>\n",
              "      <th>187563</th>\n",
              "      <td>223637</td>\n",
              "      <td>5890.5</td>\n",
              "      <td>1547584453</td>\n",
              "      <td>Water Hauling</td>\n",
              "    </tr>\n",
              "    <tr>\n",
              "      <th>187564</th>\n",
              "      <td>223548</td>\n",
              "      <td>5446.8</td>\n",
              "      <td>1547582644</td>\n",
              "      <td>Water Hauling</td>\n",
              "    </tr>\n",
              "    <tr>\n",
              "      <th>187565</th>\n",
              "      <td>223544</td>\n",
              "      <td>1682</td>\n",
              "      <td>1547582630</td>\n",
              "      <td>Water Hauling</td>\n",
              "    </tr>\n",
              "    <tr>\n",
              "      <th>187566</th>\n",
              "      <td>223547</td>\n",
              "      <td>2144.2</td>\n",
              "      <td>1547582641</td>\n",
              "      <td>Water Hauling</td>\n",
              "    </tr>\n",
              "    <tr>\n",
              "      <th>187567</th>\n",
              "      <td>223546</td>\n",
              "      <td>2167.5</td>\n",
              "      <td>1547582637</td>\n",
              "      <td>Water Hauling</td>\n",
              "    </tr>\n",
              "  </tbody>\n",
              "</table>\n",
              "<p>181990 rows × 4 columns</p>\n",
              "</div>"
            ],
            "text/plain": [
              "       invoice_id invoice_total invoice_time          job_type\n",
              "5          179978         15870   1538430035  Special Projects\n",
              "8          179978         15870   1538430035  Special Projects\n",
              "9          180011          2170   1538430143  Special Projects\n",
              "11         180004       6461.22   1538430123  Special Projects\n",
              "16         180018           460   1538430164  Special Projects\n",
              "...           ...           ...          ...               ...\n",
              "187563     223637        5890.5   1547584453     Water Hauling\n",
              "187564     223548        5446.8   1547582644     Water Hauling\n",
              "187565     223544          1682   1547582630     Water Hauling\n",
              "187566     223547        2144.2   1547582641     Water Hauling\n",
              "187567     223546        2167.5   1547582637     Water Hauling\n",
              "\n",
              "[181990 rows x 4 columns]"
            ]
          },
          "metadata": {
            "tags": []
          },
          "execution_count": 5
        }
      ]
    },
    {
      "cell_type": "code",
      "metadata": {
        "id": "6_Ex7xsif83Z",
        "colab_type": "code",
        "outputId": "ecda9843-da40-4096-8a28-5594f534341b",
        "colab": {
          "base_uri": "https://localhost:8080/",
          "height": 187
        }
      },
      "source": [
        "#convert column 'ticket_date' to readable date\n",
        "ts = tm.gmtime()\n",
        "readable =[]\n",
        "for time in df3['ticket_date']:\n",
        "  readable.append(tm.ctime(time))\n",
        "readable[0:10]"
      ],
      "execution_count": 0,
      "outputs": [
        {
          "output_type": "execute_result",
          "data": {
            "text/plain": [
              "['Thu Sep 27 18:01:44 2018',\n",
              " 'Thu Sep 27 19:15:54 2018',\n",
              " 'Thu Sep 27 20:25:32 2018',\n",
              " 'Thu Sep 27 20:35:01 2018',\n",
              " 'Mon Oct  1 14:40:12 2018',\n",
              " 'Mon Oct  1 15:45:47 2018',\n",
              " 'Mon Oct  1 15:51:39 2018',\n",
              " 'Mon Oct  1 15:54:39 2018',\n",
              " 'Mon Oct  1 18:03:34 2018',\n",
              " 'Mon Oct  1 18:04:41 2018']"
            ]
          },
          "metadata": {
            "tags": []
          },
          "execution_count": 6
        }
      ]
    },
    {
      "cell_type": "code",
      "metadata": {
        "id": "Qf8CAM0EvXR_",
        "colab_type": "code",
        "outputId": "d0b1c4f0-d92e-4e19-f506-cd0d560118ff",
        "colab": {
          "base_uri": "https://localhost:8080/",
          "height": 129
        }
      },
      "source": [
        "read = \n",
        "print(time.strftime(\"%x %X\", ts))"
      ],
      "execution_count": 0,
      "outputs": [
        {
          "output_type": "error",
          "ename": "SyntaxError",
          "evalue": "ignored",
          "traceback": [
            "\u001b[0;36m  File \u001b[0;32m\"<ipython-input-11-c7059a430500>\"\u001b[0;36m, line \u001b[0;32m1\u001b[0m\n\u001b[0;31m    read =\u001b[0m\n\u001b[0m           ^\u001b[0m\n\u001b[0;31mSyntaxError\u001b[0m\u001b[0;31m:\u001b[0m invalid syntax\n"
          ]
        }
      ]
    },
    {
      "cell_type": "code",
      "metadata": {
        "id": "wpNeVGuxoTJY",
        "colab_type": "code",
        "colab": {}
      },
      "source": [
        "#restrict dataframe to only show special projects\n",
        "spdups = duplicateRowsDF[duplicateRowsDF['job_type'] == 'Special Projects']"
      ],
      "execution_count": 0,
      "outputs": []
    },
    {
      "cell_type": "code",
      "metadata": {
        "id": "7mMQUXg0qoqa",
        "colab_type": "code",
        "colab": {}
      },
      "source": [
        "#invoice total for job type special projects for customer 4\n",
        "itspc4 = round(sum(spdups['invoice_total']),2)"
      ],
      "execution_count": 0,
      "outputs": []
    },
    {
      "cell_type": "code",
      "metadata": {
        "id": "H51jh8JHrivk",
        "colab_type": "code",
        "colab": {}
      },
      "source": [
        "whdups = duplicateRowsDF[duplicateRowsDF['job_type'] == 'Water Hauling']"
      ],
      "execution_count": 0,
      "outputs": []
    },
    {
      "cell_type": "code",
      "metadata": {
        "id": "2Hwp0cTcfYgE",
        "colab_type": "code",
        "colab": {}
      },
      "source": [
        "itwhc4 = round(sum(whdups['invoice_total']),2)"
      ],
      "execution_count": 0,
      "outputs": []
    },
    {
      "cell_type": "code",
      "metadata": {
        "id": "Kkmlv58SnIBm",
        "colab_type": "code",
        "colab": {}
      },
      "source": [
        "fbdups = duplicateRowsDF[duplicateRowsDF['job_type'] == 'Flowback']\n",
        "itfbc4 = round(sum(fbdups['invoice_total']),2)"
      ],
      "execution_count": 0,
      "outputs": []
    },
    {
      "cell_type": "code",
      "metadata": {
        "id": "ytOOiIyPg9jB",
        "colab_type": "code",
        "outputId": "7236cf8c-37e1-486b-9c7f-ea2fcd48970e",
        "colab": {
          "base_uri": "https://localhost:8080/",
          "height": 34
        }
      },
      "source": [
        "itc4 = ()\n",
        "itc4 = itspc4 + itwhc4 + itfbc4\n",
        "\n",
        "print(f'Customer 4 spending summary: Special Projects {itspc4}, Water Hauling {itwhc4}, Flowback {itfbc4}, Total {itc4}')"
      ],
      "execution_count": 0,
      "outputs": [
        {
          "output_type": "stream",
          "text": [
            "Customer 4 spending summary: Special Projects 13712628.32, Water Hauling 1252045068.74, Flowback 0, Total 1265757697.06\n"
          ],
          "name": "stdout"
        }
      ]
    },
    {
      "cell_type": "markdown",
      "metadata": {
        "id": "1Sntl5udmUI3",
        "colab_type": "text"
      },
      "source": [
        "# per truck (unique) and annually- monthly\n",
        "unix converter time and details, base ticket item for unique trucks\n",
        "\n"
      ]
    },
    {
      "cell_type": "code",
      "metadata": {
        "id": "Ox295NCy_l2g",
        "colab_type": "code",
        "colab": {}
      },
      "source": [
        "# for customer number 5\n",
        "url3 = 'https://raw.githubusercontent.com/nurfnick/Cantrell_Jackson/master/hs_customer_5_p1.csv'\n",
        "df5 = pa.read_csv(url3)\n",
        "df5"
      ],
      "execution_count": 0,
      "outputs": []
    },
    {
      "cell_type": "code",
      "metadata": {
        "id": "D9OAa_5mALFE",
        "colab_type": "code",
        "colab": {}
      },
      "source": [
        "df5t = np.transpose(df5)"
      ],
      "execution_count": 0,
      "outputs": []
    },
    {
      "cell_type": "code",
      "metadata": {
        "id": "L8BPtjsMlAQs",
        "colab_type": "code",
        "colab": {}
      },
      "source": [
        "df5tl = ()\n",
        "df5tl = df3t[0:1].append(df5t[2:3]).append(df5t[4:6])"
      ],
      "execution_count": 0,
      "outputs": []
    },
    {
      "cell_type": "code",
      "metadata": {
        "id": "UMT-CVt-lK85",
        "colab_type": "code",
        "colab": {}
      },
      "source": [
        "df5tlt = np.transpose(df5tl)"
      ],
      "execution_count": 0,
      "outputs": []
    },
    {
      "cell_type": "code",
      "metadata": {
        "id": "jJuMhFHPl31w",
        "colab_type": "code",
        "colab": {}
      },
      "source": [
        "tab5 = pa.DataFrame(df5tlt)\n",
        "tab5n = tab5.dropna()"
      ],
      "execution_count": 0,
      "outputs": []
    },
    {
      "cell_type": "code",
      "metadata": {
        "id": "4RHYPKswmFMG",
        "colab_type": "code",
        "colab": {}
      },
      "source": [
        "duplicateRowsDF = pa.DataFrame(tab5n[tab5n.duplicated()])\n",
        "print(duplicateRowsDF)"
      ],
      "execution_count": 0,
      "outputs": []
    },
    {
      "cell_type": "code",
      "metadata": {
        "id": "U-42AK5bmXha",
        "colab_type": "code",
        "colab": {}
      },
      "source": [
        "spdups = duplicateRowsDF[duplicateRowsDF['job_type'] == 'Special Projects']\n",
        "itspc5 = sum(spdups['invoice_total'])"
      ],
      "execution_count": 0,
      "outputs": []
    },
    {
      "cell_type": "code",
      "metadata": {
        "id": "lWnrBb3ImpLj",
        "colab_type": "code",
        "colab": {}
      },
      "source": [
        "whdups = duplicateRowsDF[duplicateRowsDF['job_type'] == 'Water Hauling']\n",
        "itwhc5 = sum(whdups['invoice_total'])"
      ],
      "execution_count": 0,
      "outputs": []
    },
    {
      "cell_type": "code",
      "metadata": {
        "id": "yXMJL3dvmzQM",
        "colab_type": "code",
        "colab": {}
      },
      "source": [
        "fbdups = duplicateRowsDF[duplicateRowsDF['job_type'] == 'Flowback']\n",
        "itfbc5 = sum(fbdups['invoice_total'])"
      ],
      "execution_count": 0,
      "outputs": []
    },
    {
      "cell_type": "code",
      "metadata": {
        "id": "tSRQXyIqnhz7",
        "colab_type": "code",
        "colab": {}
      },
      "source": [
        "itc5 = itspc5 + itwhc5 + itfbc5\n",
        "print(f'Customer 4 spending summary: Special Projects {itspc5}, Water Hauling {itwhc5}, Flowback {itfbc5}, Total {itc5}')"
      ],
      "execution_count": 0,
      "outputs": []
    },
    {
      "cell_type": "code",
      "metadata": {
        "id": "ItpbfpR0Aj9t",
        "colab_type": "code",
        "colab": {}
      },
      "source": [
        "# for customer number 10\n",
        "url4 = 'https://raw.githubusercontent.com/nurfnick/Cantrell_Jackson/master/hs_customer_10.csv'\n",
        "df6 = pa.read_csv(url4)\n",
        "df6"
      ],
      "execution_count": 0,
      "outputs": []
    },
    {
      "cell_type": "code",
      "metadata": {
        "id": "o8bSNP72qMJ2",
        "colab_type": "code",
        "colab": {}
      },
      "source": [
        "df6t = np.transpose(df6)\n",
        "df6tl = ()\n",
        "df6tl = df6t[0:1].append(df6t[2:3]).append(df6t[4:6])\n",
        "df6tlt = np.transpose(df6tl)"
      ],
      "execution_count": 0,
      "outputs": []
    },
    {
      "cell_type": "code",
      "metadata": {
        "id": "riTkrT3Yqf0P",
        "colab_type": "code",
        "colab": {}
      },
      "source": [
        "tab6 = pa.DataFrame(df6tlt)\n",
        "tab6n = tab6.dropna()"
      ],
      "execution_count": 0,
      "outputs": []
    },
    {
      "cell_type": "code",
      "metadata": {
        "id": "T2mQg3CHqqM3",
        "colab_type": "code",
        "colab": {}
      },
      "source": [
        "duplicateRowsDF = pa.DataFrame(tab6n[tab6n.duplicated()])\n",
        "print(duplicateRowsDF)"
      ],
      "execution_count": 0,
      "outputs": []
    },
    {
      "cell_type": "code",
      "metadata": {
        "id": "IUbrNR9NqyQR",
        "colab_type": "code",
        "colab": {}
      },
      "source": [
        "spdups = duplicateRowsDF[duplicateRowsDF['job_type'] == 'Special Projects']\n",
        "itspc10 = sum(spdups['invoice_total'])"
      ],
      "execution_count": 0,
      "outputs": []
    },
    {
      "cell_type": "code",
      "metadata": {
        "id": "FI2sw_tJq4VY",
        "colab_type": "code",
        "colab": {}
      },
      "source": [
        "whdups = duplicateRowsDF[duplicateRowsDF['job_type'] == 'Water Hauling']\n",
        "itwhc10 = sum(whdups['invoice_total'])"
      ],
      "execution_count": 0,
      "outputs": []
    },
    {
      "cell_type": "code",
      "metadata": {
        "id": "Cg2oOU2Cq97y",
        "colab_type": "code",
        "colab": {}
      },
      "source": [
        "fbdups = duplicateRowsDF[duplicateRowsDF['job_type'] == 'Flowback']\n",
        "itfbc10 = sum(fbdups['invoice_total'])"
      ],
      "execution_count": 0,
      "outputs": []
    },
    {
      "cell_type": "code",
      "metadata": {
        "id": "WT8Nm5GGrEtB",
        "colab_type": "code",
        "colab": {}
      },
      "source": [
        "itc10 = itspc10 + itwhc10 + itfbc10\n",
        "print(f'Customer 10 spending summary: Special Projects {itspc10}, Water Hauling {itwhc10}, Flowback {itfbc10}, Total {itc10}')"
      ],
      "execution_count": 0,
      "outputs": []
    },
    {
      "cell_type": "code",
      "metadata": {
        "id": "QuI-LIFOBgFh",
        "colab_type": "code",
        "colab": {}
      },
      "source": [
        "# for customer number 15\n",
        "url5 = 'https://raw.githubusercontent.com/nurfnick/Cantrell_Jackson/master/hs_customer_15.csv'\n",
        "df7 = pa.read_csv(url5)"
      ],
      "execution_count": 0,
      "outputs": []
    },
    {
      "cell_type": "code",
      "metadata": {
        "id": "izM_wWVIBq8i",
        "colab_type": "code",
        "colab": {}
      },
      "source": [
        "count = df7['ticket_id'].unique,  df7['job_type'] == 'Special Projects'\n",
        "sum(count[1]*1)"
      ],
      "execution_count": 0,
      "outputs": []
    },
    {
      "cell_type": "code",
      "metadata": {
        "id": "mTvx1J-rBrZk",
        "colab_type": "code",
        "colab": {}
      },
      "source": [
        "count = df7['ticket_id'].unique,  df7['job_type'] == 'Water Hauling'\n",
        "sum(count[1]*1)"
      ],
      "execution_count": 0,
      "outputs": []
    },
    {
      "cell_type": "code",
      "metadata": {
        "id": "ENWUBifcrbb0",
        "colab_type": "code",
        "colab": {}
      },
      "source": [
        "df7t = np.transpose(df7)\n",
        "df7tl = ()\n",
        "df7tl = df7t[0:1].append(df7t[2:3]).append(df7t[4:6])\n",
        "df7tlt = np.transpose(df7tl)\n",
        "tab7 = pa.DataFrame(df7tlt)\n",
        "tab7n = tab7.dropna()\n",
        "duplicateRowsDF = pa.DataFrame(tab7n[tab7n.duplicated()])\n",
        "print(duplicateRowsDF)"
      ],
      "execution_count": 0,
      "outputs": []
    },
    {
      "cell_type": "code",
      "metadata": {
        "id": "DqFBnVqMuDFx",
        "colab_type": "code",
        "colab": {}
      },
      "source": [
        "spdups = duplicateRowsDF[duplicateRowsDF['job_type'] == 'Special Projects']\n",
        "itspc15 = sum(spdups['invoice_total'])\n",
        "whdups = duplicateRowsDF[duplicateRowsDF['job_type'] == 'Water Hauling']\n",
        "itwhc15 = sum(whdups['invoice_total'])\n",
        "fbdups = duplicateRowsDF[duplicateRowsDF['job_type'] == 'Flowback']\n",
        "itfbc15 = sum(fbdups['invoice_total'])"
      ],
      "execution_count": 0,
      "outputs": []
    },
    {
      "cell_type": "code",
      "metadata": {
        "id": "z724T14LuOvT",
        "colab_type": "code",
        "colab": {}
      },
      "source": [
        "itc15 = itspc15 + itwhc15 + itfbc15\n",
        "print(f'Customer 15 spending summary: Special Projects {itspc15}, Water Hauling {itwhc15}, Flowback {itfbc15}, Total {itc15}')"
      ],
      "execution_count": 0,
      "outputs": []
    },
    {
      "cell_type": "markdown",
      "metadata": {
        "id": "R_2dY1AbB0qM",
        "colab_type": "text"
      },
      "source": [
        "#customer 15 has more water hauling tickets"
      ]
    },
    {
      "cell_type": "code",
      "metadata": {
        "id": "3CteucV2B5bj",
        "colab_type": "code",
        "colab": {}
      },
      "source": [
        "# for customer number 23\n",
        "url6 = 'https://raw.githubusercontent.com/nurfnick/Cantrell_Jackson/master/hs_customer_23.csv'\n",
        "df8 = pa.read_csv(url6)\n",
        "df8"
      ],
      "execution_count": 0,
      "outputs": []
    },
    {
      "cell_type": "code",
      "metadata": {
        "id": "qer5rNLBCDMO",
        "colab_type": "code",
        "colab": {}
      },
      "source": [
        "count = df8['ticket_id'].unique,  df8['job_type'] == 'Special Projects'\n",
        "sum(count[1]*1)"
      ],
      "execution_count": 0,
      "outputs": []
    },
    {
      "cell_type": "code",
      "metadata": {
        "id": "oLsTrprnQQD-",
        "colab_type": "code",
        "colab": {}
      },
      "source": [
        "df8t = np.transpose(df8)\n",
        "df8tl = ()\n",
        "df8tl = df8t[0:1].append(df8t[2:3]).append(df8t[4:6])\n",
        "df8tlt = np.transpose(df8tl)\n",
        "tab8 = pa.DataFrame(df8tlt)\n",
        "tab8n = tab8.dropna()\n",
        "duplicateRowsDF = pa.DataFrame(tab8n[tab8n.duplicated()])\n",
        "print(duplicateRowsDF)"
      ],
      "execution_count": 0,
      "outputs": []
    },
    {
      "cell_type": "code",
      "metadata": {
        "id": "8AbCNYslRNX4",
        "colab_type": "code",
        "colab": {}
      },
      "source": [
        "spdups = duplicateRowsDF[duplicateRowsDF['job_type'] == 'Special Projects']\n",
        "itspc23 = sum(spdups['invoice_total'])\n",
        "whdups = duplicateRowsDF[duplicateRowsDF['job_type'] == 'Water Hauling']\n",
        "itwhc23 = sum(whdups['invoice_total'])\n",
        "fbdups = duplicateRowsDF[duplicateRowsDF['job_type'] == 'Flowback']\n",
        "itfbc23 = sum(fbdups['invoice_total'])"
      ],
      "execution_count": 0,
      "outputs": []
    },
    {
      "cell_type": "code",
      "metadata": {
        "id": "nCtoy0AZRaqV",
        "colab_type": "code",
        "colab": {}
      },
      "source": [
        "itc23 = itspc23 + itwhc23 + itfbc23\n",
        "print(f'Customer 15 spending summary: Special Projects {itspc23}, Water Hauling {itwhc23}, Flowback {itfbc23}, Total {itc23}')"
      ],
      "execution_count": 0,
      "outputs": []
    },
    {
      "cell_type": "markdown",
      "metadata": {
        "id": "OX2I2iqvCJik",
        "colab_type": "text"
      },
      "source": [
        "#customer 23 has only special projects job type tickets"
      ]
    },
    {
      "cell_type": "code",
      "metadata": {
        "id": "A1FfZbhFCQWl",
        "colab_type": "code",
        "colab": {}
      },
      "source": [
        "# for customer number 28\n",
        "url7 = 'https://raw.githubusercontent.com/nurfnick/Cantrell_Jackson/master/hs_customer_28.csv'\n",
        "df9 = pa.read_csv(url7)\n",
        "df9"
      ],
      "execution_count": 0,
      "outputs": []
    },
    {
      "cell_type": "code",
      "metadata": {
        "id": "8kAV0mHYCaI1",
        "colab_type": "code",
        "colab": {}
      },
      "source": [
        "count = df9['ticket_id'].unique,  df9['job_type'] == 'Special Projects'\n",
        "sum(count[1]*1)"
      ],
      "execution_count": 0,
      "outputs": []
    },
    {
      "cell_type": "code",
      "metadata": {
        "id": "M3jPDrv7CaTk",
        "colab_type": "code",
        "colab": {}
      },
      "source": [
        "count = df9['ticket_id'].unique,  df9['job_type'] == 'Water Hauling'\n",
        "sum(count[1]*1)"
      ],
      "execution_count": 0,
      "outputs": []
    },
    {
      "cell_type": "code",
      "metadata": {
        "id": "w_AEaQT1Rszv",
        "colab_type": "code",
        "colab": {}
      },
      "source": [
        "df8t = np.transpose(df8)\n",
        "df8tl = ()\n",
        "df8tl = df8t[0:1].append(df8t[2:3]).append(df8t[4:6])\n",
        "df8tlt = np.transpose(df8tl)\n",
        "tab8 = pa.DataFrame(df8tlt)\n",
        "tab8n = tab8.dropna()\n",
        "duplicateRowsDF = pa.DataFrame(tab8n[tab8n.duplicated()])\n",
        "print(duplicateRowsDF)"
      ],
      "execution_count": 0,
      "outputs": []
    },
    {
      "cell_type": "code",
      "metadata": {
        "id": "sgTFeKOEkNbx",
        "colab_type": "code",
        "colab": {}
      },
      "source": [
        "spdups = duplicateRowsDF[duplicateRowsDF['job_type'] == 'Special Projects']\n",
        "itspc28 = sum(spdups['invoice_total'])\n",
        "whdups = duplicateRowsDF[duplicateRowsDF['job_type'] == 'Water Hauling']\n",
        "itwhc28 = sum(whdups['invoice_total'])\n",
        "fbdups = duplicateRowsDF[duplicateRowsDF['job_type'] == 'Flowback']\n",
        "itfbc28 = sum(fbdups['invoice_total'])"
      ],
      "execution_count": 0,
      "outputs": []
    },
    {
      "cell_type": "code",
      "metadata": {
        "id": "-Nvw-qCFkRwz",
        "colab_type": "code",
        "colab": {}
      },
      "source": [
        "itc28 = itspc28 + itwhc28 + itfbc28\n",
        "print(f'Customer 28 spending summary: Special Projects {itspc28}, Water Hauling {itwhc28}, Flowback {itfbc28}, Total {itc28}')"
      ],
      "execution_count": 0,
      "outputs": []
    },
    {
      "cell_type": "markdown",
      "metadata": {
        "id": "uJbhkp7lCkYO",
        "colab_type": "text"
      },
      "source": [
        "#customer 28 has more water hauling job type tickets"
      ]
    },
    {
      "cell_type": "code",
      "metadata": {
        "id": "kajvPzukCrbv",
        "colab_type": "code",
        "colab": {}
      },
      "source": [
        "# for customer number 34\n",
        "url8 = 'https://raw.githubusercontent.com/nurfnick/Cantrell_Jackson/master/hs_customer_34.csv'\n",
        "df10 = pa.read_csv(url8)\n",
        "df10"
      ],
      "execution_count": 0,
      "outputs": []
    },
    {
      "cell_type": "code",
      "metadata": {
        "id": "qtC6imMJC4Mv",
        "colab_type": "code",
        "colab": {}
      },
      "source": [
        "count = df10['ticket_id'].unique,  df10['job_type'] == 'Special Projects'\n",
        "sum(count[1]*1)"
      ],
      "execution_count": 0,
      "outputs": []
    },
    {
      "cell_type": "code",
      "metadata": {
        "id": "tzZzoXCnC4Yn",
        "colab_type": "code",
        "colab": {}
      },
      "source": [
        "count = df10['ticket_id'].unique,  df10['job_type'] == 'Water Hauling'\n",
        "sum(count[1]*1)"
      ],
      "execution_count": 0,
      "outputs": []
    },
    {
      "cell_type": "code",
      "metadata": {
        "id": "E8XYHjEFikHt",
        "colab_type": "code",
        "colab": {}
      },
      "source": [
        "df10t = np.transpose(df10)\n",
        "df10tl = ()\n",
        "df10tl = df10t[0:1].append(df10t[2:3]).append(df10t[4:6])\n",
        "df10tlt = np.transpose(df10tl)\n",
        "tab10 = pa.DataFrame(df10tlt)\n",
        "tab10n = tab10.dropna()\n",
        "duplicateRowsDF = pa.DataFrame(tab10n[tab10n.duplicated()])\n",
        "print(duplicateRowsDF)"
      ],
      "execution_count": 0,
      "outputs": []
    },
    {
      "cell_type": "markdown",
      "metadata": {
        "id": "vF18CmRrDBOw",
        "colab_type": "text"
      },
      "source": [
        "#customer 34 has more water hauling job type tickets\n"
      ]
    },
    {
      "cell_type": "code",
      "metadata": {
        "id": "CLT1bXaIDHVg",
        "colab_type": "code",
        "colab": {}
      },
      "source": [
        "# for customer number 37\n",
        "url9 = 'https://raw.githubusercontent.com/nurfnick/Cantrell_Jackson/master/hs_customer_37.csv'\n",
        "df11 = pa.read_csv(url9)\n",
        "df11"
      ],
      "execution_count": 0,
      "outputs": []
    },
    {
      "cell_type": "code",
      "metadata": {
        "id": "D-rp_s1wDS4B",
        "colab_type": "code",
        "colab": {}
      },
      "source": [
        "count = df11['ticket_id'].unique,  df11['job_type'] == 'Flowback'\n",
        "sum(count[1]*1)"
      ],
      "execution_count": 0,
      "outputs": []
    },
    {
      "cell_type": "code",
      "metadata": {
        "id": "E71RX3hTDTCp",
        "colab_type": "code",
        "colab": {}
      },
      "source": [
        "count = df11['ticket_id'].unique,  df11['job_type'] == 'Special Projects'\n",
        "sum(count[1]*1)"
      ],
      "execution_count": 0,
      "outputs": []
    },
    {
      "cell_type": "code",
      "metadata": {
        "id": "uUVnS6VLDTN5",
        "colab_type": "code",
        "colab": {}
      },
      "source": [
        "count = df11['ticket_id'].unique,  df11['job_type'] == 'Water Hauling'\n",
        "sum(count[1]*1)"
      ],
      "execution_count": 0,
      "outputs": []
    },
    {
      "cell_type": "markdown",
      "metadata": {
        "id": "i0BQ8fiBDkdI",
        "colab_type": "text"
      },
      "source": [
        "#customer 37 has more flowback job type tickets"
      ]
    },
    {
      "cell_type": "code",
      "metadata": {
        "id": "gkK_yizsDqXV",
        "colab_type": "code",
        "colab": {}
      },
      "source": [
        "# for customer number 39\n",
        "url10 = 'https://raw.githubusercontent.com/nurfnick/Cantrell_Jackson/master/hs_customer_39.csv'\n",
        "df12 = pa.read_csv(url10)\n",
        "df12"
      ],
      "execution_count": 0,
      "outputs": []
    },
    {
      "cell_type": "code",
      "metadata": {
        "id": "LwJKKUPJD0ou",
        "colab_type": "code",
        "colab": {}
      },
      "source": [
        "count = df12['ticket_id'].unique,  df12['job_type'] == 'Water Hauling'\n",
        "sum(count[1]*1)"
      ],
      "execution_count": 0,
      "outputs": []
    },
    {
      "cell_type": "markdown",
      "metadata": {
        "id": "Ag9_vkp8D5Xu",
        "colab_type": "text"
      },
      "source": [
        "#customer 39 only has water hauling job type tickets"
      ]
    },
    {
      "cell_type": "code",
      "metadata": {
        "id": "V-oB7rctD93v",
        "colab_type": "code",
        "colab": {}
      },
      "source": [
        "# for customer number 41\n",
        "url11 = 'https://raw.githubusercontent.com/nurfnick/Cantrell_Jackson/master/hs_customer_41.csv'\n",
        "df13 = pa.read_csv(url11)\n",
        "df13"
      ],
      "execution_count": 0,
      "outputs": []
    },
    {
      "cell_type": "code",
      "metadata": {
        "id": "x_uJJG8sEHd4",
        "colab_type": "code",
        "colab": {}
      },
      "source": [
        "count = df13['ticket_id'].unique,  df13['job_type'] == 'Special Projects'\n",
        "sum(count[1]*1)"
      ],
      "execution_count": 0,
      "outputs": []
    },
    {
      "cell_type": "code",
      "metadata": {
        "id": "IlsYkEgBEHnm",
        "colab_type": "code",
        "colab": {}
      },
      "source": [
        "count = df13['ticket_id'].unique,  df13['job_type'] == 'Water Hauling'\n",
        "sum(count[1]*1)"
      ],
      "execution_count": 0,
      "outputs": []
    },
    {
      "cell_type": "markdown",
      "metadata": {
        "id": "lhOEnCuxEUdX",
        "colab_type": "text"
      },
      "source": [
        "#customer 41 has more water hauling job type tickets"
      ]
    },
    {
      "cell_type": "code",
      "metadata": {
        "id": "fnLLxNsuEZL3",
        "colab_type": "code",
        "colab": {}
      },
      "source": [
        "# for customer number 45\n",
        "url12 = 'https://raw.githubusercontent.com/nurfnick/Cantrell_Jackson/master/hs_customer_45.csv'\n",
        "df14 = pa.read_csv(url12)\n",
        "df14"
      ],
      "execution_count": 0,
      "outputs": []
    },
    {
      "cell_type": "code",
      "metadata": {
        "id": "WnOufe7AEj1P",
        "colab_type": "code",
        "colab": {}
      },
      "source": [
        "count = df14['ticket_id'].unique,  df14['job_type'] == 'Special Projects'\n",
        "sum(count[1]*1)"
      ],
      "execution_count": 0,
      "outputs": []
    },
    {
      "cell_type": "markdown",
      "metadata": {
        "id": "dnqRKpR-Eppv",
        "colab_type": "text"
      },
      "source": [
        "#customer 45 only has special projects job type tickets"
      ]
    },
    {
      "cell_type": "code",
      "metadata": {
        "id": "l64hMTiAgK-2",
        "colab_type": "code",
        "colab": {}
      },
      "source": [
        "invid = df3['invoice_id'].unique()"
      ],
      "execution_count": 0,
      "outputs": []
    },
    {
      "cell_type": "markdown",
      "metadata": {
        "id": "RE9noz-MAdil",
        "colab_type": "text"
      },
      "source": [
        ""
      ]
    },
    {
      "cell_type": "code",
      "metadata": {
        "id": "Lc-g1py4gUc-",
        "colab_type": "code",
        "colab": {}
      },
      "source": [
        "invid"
      ],
      "execution_count": 0,
      "outputs": []
    },
    {
      "cell_type": "code",
      "metadata": {
        "id": "cw9U4uAklgCb",
        "colab_type": "code",
        "colab": {}
      },
      "source": [
        ""
      ],
      "execution_count": 0,
      "outputs": []
    },
    {
      "cell_type": "code",
      "metadata": {
        "id": "H6QPbeDDb9YM",
        "colab_type": "code",
        "colab": {}
      },
      "source": [
        "cust4spec = df3[df3['job_type']=='Special Projects'], df3['invoice_id'].unique, df3['ticket_id'].unique #job types that are only 'special projects'"
      ],
      "execution_count": 0,
      "outputs": []
    },
    {
      "cell_type": "code",
      "metadata": {
        "id": "H6egDzzkcZpU",
        "colab_type": "code",
        "colab": {}
      },
      "source": [
        "cust4spec"
      ],
      "execution_count": 0,
      "outputs": []
    },
    {
      "cell_type": "code",
      "metadata": {
        "id": "Avk2XVAXcbgu",
        "colab_type": "code",
        "colab": {}
      },
      "source": [
        "uniques = df3['invoice_id'].unique()\n",
        "data = []\n",
        "\n",
        "for var in uniques:\n",
        "  data.append(df3[(df3['ticket_item_type']== \"job_description\" & df3['invoice_id']== var)]) "
      ],
      "execution_count": 0,
      "outputs": []
    },
    {
      "cell_type": "code",
      "metadata": {
        "id": "Aa4L2TnwjlaD",
        "colab_type": "code",
        "colab": {}
      },
      "source": [
        "data"
      ],
      "execution_count": 0,
      "outputs": []
    },
    {
      "cell_type": "code",
      "metadata": {
        "id": "ATraFWxLjwmu",
        "colab_type": "code",
        "colab": {}
      },
      "source": [
        "uniques"
      ],
      "execution_count": 0,
      "outputs": []
    },
    {
      "cell_type": "code",
      "metadata": {
        "id": "C_RlG3cxkLyF",
        "colab_type": "code",
        "colab": {}
      },
      "source": [
        ""
      ],
      "execution_count": 0,
      "outputs": []
    }
  ]
}