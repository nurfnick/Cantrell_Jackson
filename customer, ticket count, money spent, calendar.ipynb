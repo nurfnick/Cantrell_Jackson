{
  "nbformat": 4,
  "nbformat_minor": 0,
  "metadata": {
    "colab": {
      "name": "Untitled0.ipynb",
      "provenance": [],
      "include_colab_link": true
    },
    "kernelspec": {
      "name": "python3",
      "display_name": "Python 3"
    }
  },
  "cells": [
    {
      "cell_type": "markdown",
      "metadata": {
        "id": "view-in-github",
        "colab_type": "text"
      },
      "source": [
        "<a href=\"https://colab.research.google.com/github/nurfnick/Cantrell_Jackson/blob/master/customer%2C%20ticket%20count%2C%20money%20spent%2C%20calendar.ipynb\" target=\"_parent\"><img src=\"https://colab.research.google.com/assets/colab-badge.svg\" alt=\"Open In Colab\"/></a>"
      ]
    },
    {
      "cell_type": "code",
      "metadata": {
        "id": "5RxGfOnXBZ_Z",
        "colab_type": "code",
        "colab": {}
      },
      "source": [
        "import pandas as pa\n",
        "import numpy as np\n",
        "import datetime as dt\n",
        "import time as tm"
      ],
      "execution_count": 0,
      "outputs": []
    },
    {
      "cell_type": "markdown",
      "metadata": {
        "id": "PTuMkCalrH5U",
        "colab_type": "text"
      },
      "source": [
        "# trucks want unique id (id is unique for each truck) want to grab the customer and the date used \n",
        "#tickets based on job details, multiple tickets/ invoice per and mults 'special projects' different categories etc.\n",
        "#for each unique ticket and invoice, the type and number of job type of each customer.\n",
        "\n"
      ]
    },
    {
      "cell_type": "code",
      "metadata": {
        "id": "Nm8A-mjuCKj0",
        "colab_type": "code",
        "outputId": "60657efe-caec-4c4a-cba0-b8dd8f5d7cb5",
        "colab": {
          "base_uri": "https://localhost:8080/",
          "height": 367
        }
      },
      "source": [
        "#16, 18, 19, 5 are too big- zipped files.\n",
        "\n",
        "# for customers\n",
        "custnums = [4, 10, 15, 23, 28, 34, 37, 39, 41, 45]\n",
        "for n in range(len(custnums)):\n",
        "  print('Customer '+str(custnums[n])+':')\n",
        "  #read files\n",
        "  url = 'https://raw.githubusercontent.com/nurfnick/Cantrell_Jackson/master/hs_customer_'+str(custnums[n])+'.csv'\n",
        "  df = pa.read_csv(url)\n",
        "  #make blanks = 0\n",
        "  values = {'invoice_id': 0, 'hs_customer': 0, 'invoice_total': 0, 'invoice_time': 0, 'ticket_id': 0, 'job_type': 0, 'ticket_date': 0,'ticket_item_type': 0, 'details': 0}\n",
        "  df.fillna(value=values)\n",
        "  dfnoNAN = df.fillna(value=values)\n",
        "  dfnoduplicates = dfnoNAN.drop_duplicates()\n",
        "  #group by ticket item type like their system\n",
        "  dfgroupbbl = dfnoduplicates.groupby('ticket_item_type')\n",
        "  #grab one of the types, here is bill by the barrel\n",
        "  billbbls = dfgroupbbl.get_group('bill_bbls') \n",
        "  #group by the job type\n",
        "  billbbljobtype = billbbls.groupby('job_type')\n",
        "# still need order based on date\n",
        "# what to do for customers that do not have any tickets for flowback?\n",
        "  billbblsp = billbbljobtype.get_group('Special Projects')\n",
        "  customerbblsplen = len(billbblsp)\n",
        "  customerbblspmoney = round(sum(billbblsp['invoice_total']),2)\n",
        "  billbblwh = billbbljobtype.get_group('Water Hauling')\n",
        "  customerbblwhlen = len(billbblwh)\n",
        "  customerbblwhmoney = round(sum(billbblwh['invoice_total']),2)\n",
        "  billbblfb = billbbljobtype.get_group('Flowback')\n",
        "  customerbblfblen = len(billbblfb)\n",
        "  customerbblfbmoney = round(sum(billbblfb['invoice_total']),2)\n",
        "  customerbblslentot = customerbblssplen + customerbblsfblen + customerbblswhlen\n",
        "  customerbblsmoneytot = customerbblsspmoney + customerbblsfbmoney + customerbblswhmoney\n",
        "  print(f'Customer {str(n)} Summary: Special Projects Tickets Count: {customerbblssplen} Cash: {customerbblsspmoney}, Water Hauling Ticket Count {customerbblswhlen} Cash: {customerbblswhmoney}, Flowback Ticket Count {customerbblsfblen} Cash: {customerbblsfbmoney}, Total Customer Ticket Count {customerbblslentot} Cash: {customerbblsmoneytot}')"
      ],
      "execution_count": 75,
      "outputs": [
        {
          "output_type": "stream",
          "text": [
            "Customer 4:\n"
          ],
          "name": "stdout"
        },
        {
          "output_type": "error",
          "ename": "KeyError",
          "evalue": "ignored",
          "traceback": [
            "\u001b[0;31m---------------------------------------------------------------------------\u001b[0m",
            "\u001b[0;31mKeyError\u001b[0m                                  Traceback (most recent call last)",
            "\u001b[0;32m<ipython-input-75-e58828c3f177>\u001b[0m in \u001b[0;36m<module>\u001b[0;34m()\u001b[0m\n\u001b[1;32m     19\u001b[0m   \u001b[0mcustomerbblwhlen\u001b[0m \u001b[0;34m=\u001b[0m \u001b[0mlen\u001b[0m\u001b[0;34m(\u001b[0m\u001b[0mbillbblwh\u001b[0m\u001b[0;34m)\u001b[0m\u001b[0;34m\u001b[0m\u001b[0;34m\u001b[0m\u001b[0m\n\u001b[1;32m     20\u001b[0m   \u001b[0mcustomerbblwhmoney\u001b[0m \u001b[0;34m=\u001b[0m \u001b[0mround\u001b[0m\u001b[0;34m(\u001b[0m\u001b[0msum\u001b[0m\u001b[0;34m(\u001b[0m\u001b[0mbillbblwh\u001b[0m\u001b[0;34m[\u001b[0m\u001b[0;34m'invoice_total'\u001b[0m\u001b[0;34m]\u001b[0m\u001b[0;34m)\u001b[0m\u001b[0;34m,\u001b[0m\u001b[0;36m2\u001b[0m\u001b[0;34m)\u001b[0m\u001b[0;34m\u001b[0m\u001b[0;34m\u001b[0m\u001b[0m\n\u001b[0;32m---> 21\u001b[0;31m   \u001b[0mbillbblfb\u001b[0m \u001b[0;34m=\u001b[0m \u001b[0mbillbbljobtype\u001b[0m\u001b[0;34m.\u001b[0m\u001b[0mget_group\u001b[0m\u001b[0;34m(\u001b[0m\u001b[0;34m'Flowback'\u001b[0m\u001b[0;34m)\u001b[0m\u001b[0;34m\u001b[0m\u001b[0;34m\u001b[0m\u001b[0m\n\u001b[0m\u001b[1;32m     22\u001b[0m   \u001b[0mcustomerbblfblen\u001b[0m \u001b[0;34m=\u001b[0m \u001b[0mlen\u001b[0m\u001b[0;34m(\u001b[0m\u001b[0mbillbblfb\u001b[0m\u001b[0;34m)\u001b[0m\u001b[0;34m\u001b[0m\u001b[0;34m\u001b[0m\u001b[0m\n\u001b[1;32m     23\u001b[0m   \u001b[0mcustomerbblfbmoney\u001b[0m \u001b[0;34m=\u001b[0m \u001b[0mround\u001b[0m\u001b[0;34m(\u001b[0m\u001b[0msum\u001b[0m\u001b[0;34m(\u001b[0m\u001b[0mbillbblfb\u001b[0m\u001b[0;34m[\u001b[0m\u001b[0;34m'invoice_total'\u001b[0m\u001b[0;34m]\u001b[0m\u001b[0;34m)\u001b[0m\u001b[0;34m,\u001b[0m\u001b[0;36m2\u001b[0m\u001b[0;34m)\u001b[0m\u001b[0;34m\u001b[0m\u001b[0;34m\u001b[0m\u001b[0m\n",
            "\u001b[0;32m/usr/local/lib/python3.6/dist-packages/pandas/core/groupby/groupby.py\u001b[0m in \u001b[0;36mget_group\u001b[0;34m(self, name, obj)\u001b[0m\n\u001b[1;32m    678\u001b[0m         \u001b[0minds\u001b[0m \u001b[0;34m=\u001b[0m \u001b[0mself\u001b[0m\u001b[0;34m.\u001b[0m\u001b[0m_get_index\u001b[0m\u001b[0;34m(\u001b[0m\u001b[0mname\u001b[0m\u001b[0;34m)\u001b[0m\u001b[0;34m\u001b[0m\u001b[0;34m\u001b[0m\u001b[0m\n\u001b[1;32m    679\u001b[0m         \u001b[0;32mif\u001b[0m \u001b[0;32mnot\u001b[0m \u001b[0mlen\u001b[0m\u001b[0;34m(\u001b[0m\u001b[0minds\u001b[0m\u001b[0;34m)\u001b[0m\u001b[0;34m:\u001b[0m\u001b[0;34m\u001b[0m\u001b[0;34m\u001b[0m\u001b[0m\n\u001b[0;32m--> 680\u001b[0;31m             \u001b[0;32mraise\u001b[0m \u001b[0mKeyError\u001b[0m\u001b[0;34m(\u001b[0m\u001b[0mname\u001b[0m\u001b[0;34m)\u001b[0m\u001b[0;34m\u001b[0m\u001b[0;34m\u001b[0m\u001b[0m\n\u001b[0m\u001b[1;32m    681\u001b[0m \u001b[0;34m\u001b[0m\u001b[0m\n\u001b[1;32m    682\u001b[0m         \u001b[0;32mreturn\u001b[0m \u001b[0mobj\u001b[0m\u001b[0;34m.\u001b[0m\u001b[0mtake\u001b[0m\u001b[0;34m(\u001b[0m\u001b[0minds\u001b[0m\u001b[0;34m,\u001b[0m \u001b[0maxis\u001b[0m\u001b[0;34m=\u001b[0m\u001b[0mself\u001b[0m\u001b[0;34m.\u001b[0m\u001b[0maxis\u001b[0m\u001b[0;34m)\u001b[0m\u001b[0;34m\u001b[0m\u001b[0;34m\u001b[0m\u001b[0m\n",
            "\u001b[0;31mKeyError\u001b[0m: 'Flowback'"
          ]
        }
      ]
    },
    {
      "cell_type": "code",
      "metadata": {
        "id": "WSQBVynMdvsR",
        "colab_type": "code",
        "outputId": "a104fb6b-0156-4dce-8ad9-d83a65ee16bf",
        "colab": {
          "base_uri": "https://localhost:8080/",
          "height": 194
        }
      },
      "source": [
        "#convert column 'ticket_date' to readable date\n",
        "ts = tm.gmtime()\n",
        "readable =[]\n",
        "for time in billbbls['ticket_date']:\n",
        "  readable.append(tm.ctime(time))\n",
        "readable[0:10]"
      ],
      "execution_count": 0,
      "outputs": [
        {
          "output_type": "execute_result",
          "data": {
            "text/plain": [
              "['Thu Sep 27 20:35:01 2018',\n",
              " 'Mon Oct  1 14:40:12 2018',\n",
              " 'Mon Oct  1 15:45:47 2018',\n",
              " 'Mon Oct  1 18:03:34 2018',\n",
              " 'Mon Oct  1 18:04:41 2018',\n",
              " 'Mon Oct  1 18:12:34 2018',\n",
              " 'Mon Oct  1 19:42:52 2018',\n",
              " 'Mon Oct  1 21:38:51 2018',\n",
              " 'Tue Oct  2 15:21:11 2018',\n",
              " 'Tue Oct  2 15:21:59 2018']"
            ]
          },
          "metadata": {
            "tags": []
          },
          "execution_count": 11
        }
      ]
    },
    {
      "cell_type": "code",
      "metadata": {
        "id": "HePmRFidgQz3",
        "colab_type": "code",
        "outputId": "03ef4e64-e649-46c3-a1cb-ed0adb77faf6",
        "colab": {
          "base_uri": "https://localhost:8080/",
          "height": 132
        }
      },
      "source": [
        "billbbls['ticket_date'] = pa.np.where(readable.str.contains(\"Oct\"), \"Oct\",\n",
        "                   pa.np.where(readable.str.contains(\"Sep\"), \"Sep\",\n",
        "                   pa.np.where(readable.str.contains(\"Nov\"), \"Nov\")"
      ],
      "execution_count": 0,
      "outputs": [
        {
          "output_type": "error",
          "ename": "SyntaxError",
          "evalue": "ignored",
          "traceback": [
            "\u001b[0;36m  File \u001b[0;32m\"<ipython-input-23-8c1308207239>\"\u001b[0;36m, line \u001b[0;32m3\u001b[0m\n\u001b[0;31m    pa.np.where(readable.str.contains(\"Nov\"), \"Nov\")\u001b[0m\n\u001b[0m                                                    ^\u001b[0m\n\u001b[0;31mSyntaxError\u001b[0m\u001b[0;31m:\u001b[0m unexpected EOF while parsing\n"
          ]
        }
      ]
    },
    {
      "cell_type": "code",
      "metadata": {
        "id": "RUjmQpdaeB8B",
        "colab_type": "code",
        "outputId": "a73ab4b1-6746-4f76-bf78-c9d9d42be463",
        "colab": {
          "base_uri": "https://localhost:8080/",
          "height": 221
        }
      },
      "source": [
        "#convert column 'ticket_date' to readable date\n",
        "ts = tm.gmtime()\n",
        "readable =[]\n",
        "for time in billbbls['ticket_date']:\n",
        "  readable.append(tm.ctime(time))\n",
        "billbbls['ticket_date'] = readable"
      ],
      "execution_count": 0,
      "outputs": [
        {
          "output_type": "error",
          "ename": "TypeError",
          "evalue": "ignored",
          "traceback": [
            "\u001b[0;31m---------------------------------------------------------------------------\u001b[0m",
            "\u001b[0;31mTypeError\u001b[0m                                 Traceback (most recent call last)",
            "\u001b[0;32m<ipython-input-18-0796c4905459>\u001b[0m in \u001b[0;36m<module>\u001b[0;34m()\u001b[0m\n\u001b[1;32m      2\u001b[0m \u001b[0mreadable\u001b[0m \u001b[0;34m=\u001b[0m\u001b[0;34m[\u001b[0m\u001b[0;34m]\u001b[0m\u001b[0;34m\u001b[0m\u001b[0;34m\u001b[0m\u001b[0m\n\u001b[1;32m      3\u001b[0m \u001b[0;32mfor\u001b[0m \u001b[0mtime\u001b[0m \u001b[0;32min\u001b[0m \u001b[0mbillbbls\u001b[0m\u001b[0;34m[\u001b[0m\u001b[0;34m'ticket_date'\u001b[0m\u001b[0;34m]\u001b[0m\u001b[0;34m:\u001b[0m\u001b[0;34m\u001b[0m\u001b[0;34m\u001b[0m\u001b[0m\n\u001b[0;32m----> 4\u001b[0;31m   \u001b[0mreadable\u001b[0m\u001b[0;34m.\u001b[0m\u001b[0mappend\u001b[0m\u001b[0;34m(\u001b[0m\u001b[0mtm\u001b[0m\u001b[0;34m.\u001b[0m\u001b[0mctime\u001b[0m\u001b[0;34m(\u001b[0m\u001b[0mtime\u001b[0m\u001b[0;34m)\u001b[0m\u001b[0;34m)\u001b[0m\u001b[0;34m\u001b[0m\u001b[0;34m\u001b[0m\u001b[0m\n\u001b[0m\u001b[1;32m      5\u001b[0m \u001b[0mbillbbls\u001b[0m\u001b[0;34m[\u001b[0m\u001b[0;34m'ticket_date'\u001b[0m\u001b[0;34m]\u001b[0m \u001b[0;34m=\u001b[0m \u001b[0mreadable\u001b[0m\u001b[0;34m\u001b[0m\u001b[0;34m\u001b[0m\u001b[0m\n",
            "\u001b[0;31mTypeError\u001b[0m: an integer is required (got type str)"
          ]
        }
      ]
    }
  ]
}