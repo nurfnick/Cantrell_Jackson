{
  "nbformat": 4,
  "nbformat_minor": 0,
  "metadata": {
    "colab": {
      "name": "Untitled0.ipynb",
      "provenance": [],
      "include_colab_link": true
    },
    "kernelspec": {
      "name": "python3",
      "display_name": "Python 3"
    }
  },
  "cells": [
    {
      "cell_type": "markdown",
      "metadata": {
        "id": "view-in-github",
        "colab_type": "text"
      },
      "source": [
        "<a href=\"https://colab.research.google.com/github/nurfnick/Cantrell_Jackson/blob/master/Tracy%20inv.ipynb\" target=\"_parent\"><img src=\"https://colab.research.google.com/assets/colab-badge.svg\" alt=\"Open In Colab\"/></a>"
      ]
    },
    {
      "cell_type": "code",
      "metadata": {
        "id": "5RxGfOnXBZ_Z",
        "colab_type": "code",
        "colab": {}
      },
      "source": [
        "import pandas as pa\n",
        "import numpy as np"
      ],
      "execution_count": 0,
      "outputs": []
    },
    {
      "cell_type": "code",
      "metadata": {
        "id": "OwnmdMteCOCe",
        "colab_type": "code",
        "colab": {}
      },
      "source": [
        "url = 'https://raw.githubusercontent.com/nurfnick/Cantrell_Jackson/master/Support-Oct18-Sept19.csv'"
      ],
      "execution_count": 0,
      "outputs": []
    },
    {
      "cell_type": "code",
      "metadata": {
        "id": "qbOEjxn0EfVd",
        "colab_type": "code",
        "colab": {}
      },
      "source": [
        "df2 = pa.read_csv(url)"
      ],
      "execution_count": 0,
      "outputs": []
    },
    {
      "cell_type": "code",
      "metadata": {
        "id": "PJXNdrMXE-pG",
        "colab_type": "code",
        "outputId": "bca93e18-f480-4a3a-e782-3688e06c08f0",
        "colab": {
          "base_uri": "https://localhost:8080/",
          "height": 708
        }
      },
      "source": [
        "df2"
      ],
      "execution_count": 4,
      "outputs": [
        {
          "output_type": "execute_result",
          "data": {
            "text/html": [
              "<div>\n",
              "<style scoped>\n",
              "    .dataframe tbody tr th:only-of-type {\n",
              "        vertical-align: middle;\n",
              "    }\n",
              "\n",
              "    .dataframe tbody tr th {\n",
              "        vertical-align: top;\n",
              "    }\n",
              "\n",
              "    .dataframe thead th {\n",
              "        text-align: right;\n",
              "    }\n",
              "</style>\n",
              "<table border=\"1\" class=\"dataframe\">\n",
              "  <thead>\n",
              "    <tr style=\"text-align: right;\">\n",
              "      <th></th>\n",
              "      <th>Ticket ID</th>\n",
              "      <th>HS Customer</th>\n",
              "      <th>Subject</th>\n",
              "      <th>Source</th>\n",
              "      <th>Type</th>\n",
              "      <th>Weight</th>\n",
              "      <th>Created time</th>\n",
              "      <th>Initial response time</th>\n",
              "      <th>Resolved time</th>\n",
              "      <th>First response time (in hrs)</th>\n",
              "      <th>Resolution time (in hrs)</th>\n",
              "      <th>Agent interactions</th>\n",
              "      <th>Customer interactions</th>\n",
              "    </tr>\n",
              "  </thead>\n",
              "  <tbody>\n",
              "    <tr>\n",
              "      <th>0</th>\n",
              "      <td>35</td>\n",
              "      <td>18</td>\n",
              "      <td>Lease name shows up as two different names</td>\n",
              "      <td>Portal</td>\n",
              "      <td>Problem / Issue</td>\n",
              "      <td>3</td>\n",
              "      <td>11/1/2018 16:48</td>\n",
              "      <td>11/2/2018 10:34</td>\n",
              "      <td>11/2/2018 10:39</td>\n",
              "      <td>2:45:09</td>\n",
              "      <td>2:50:17</td>\n",
              "      <td>1</td>\n",
              "      <td>1</td>\n",
              "    </tr>\n",
              "    <tr>\n",
              "      <th>1</th>\n",
              "      <td>36</td>\n",
              "      <td>19</td>\n",
              "      <td>Report Filters</td>\n",
              "      <td>Portal</td>\n",
              "      <td>Feature Request</td>\n",
              "      <td>2</td>\n",
              "      <td>11/5/2018 11:22</td>\n",
              "      <td>11/5/2018 12:11</td>\n",
              "      <td>11/6/2018 7:35</td>\n",
              "      <td>0:48:16</td>\n",
              "      <td>5:12:29</td>\n",
              "      <td>2</td>\n",
              "      <td>1</td>\n",
              "    </tr>\n",
              "    <tr>\n",
              "      <th>2</th>\n",
              "      <td>44</td>\n",
              "      <td>20</td>\n",
              "      <td>area selectiom</td>\n",
              "      <td>Portal</td>\n",
              "      <td>General Question</td>\n",
              "      <td>1</td>\n",
              "      <td>11/15/2018 6:05</td>\n",
              "      <td>11/15/2018 7:51</td>\n",
              "      <td>11/16/2018 12:21</td>\n",
              "      <td>0:51:08</td>\n",
              "      <td>14:21:07</td>\n",
              "      <td>1</td>\n",
              "      <td>1</td>\n",
              "    </tr>\n",
              "    <tr>\n",
              "      <th>3</th>\n",
              "      <td>54</td>\n",
              "      <td>20</td>\n",
              "      <td>report fields</td>\n",
              "      <td>Portal</td>\n",
              "      <td>Feature Request</td>\n",
              "      <td>1</td>\n",
              "      <td>11/18/2018 7:32</td>\n",
              "      <td>11/18/2018 7:42</td>\n",
              "      <td>11/20/2018 7:03</td>\n",
              "      <td>0:00:00</td>\n",
              "      <td>9:03:26</td>\n",
              "      <td>1</td>\n",
              "      <td>1</td>\n",
              "    </tr>\n",
              "    <tr>\n",
              "      <th>4</th>\n",
              "      <td>55</td>\n",
              "      <td>23</td>\n",
              "      <td>Driver Run Report is Duplicating Drivers</td>\n",
              "      <td>Portal</td>\n",
              "      <td>Problem / Issue</td>\n",
              "      <td>2</td>\n",
              "      <td>11/27/2018 10:58</td>\n",
              "      <td>11/27/2018 12:57</td>\n",
              "      <td>11/27/2018 12:57</td>\n",
              "      <td>1:59:15</td>\n",
              "      <td>1:59:18</td>\n",
              "      <td>1</td>\n",
              "      <td>1</td>\n",
              "    </tr>\n",
              "    <tr>\n",
              "      <th>...</th>\n",
              "      <td>...</td>\n",
              "      <td>...</td>\n",
              "      <td>...</td>\n",
              "      <td>...</td>\n",
              "      <td>...</td>\n",
              "      <td>...</td>\n",
              "      <td>...</td>\n",
              "      <td>...</td>\n",
              "      <td>...</td>\n",
              "      <td>...</td>\n",
              "      <td>...</td>\n",
              "      <td>...</td>\n",
              "      <td>...</td>\n",
              "    </tr>\n",
              "    <tr>\n",
              "      <th>279</th>\n",
              "      <td>1009</td>\n",
              "      <td>18</td>\n",
              "      <td>Incorrect default of name/email</td>\n",
              "      <td>Portal</td>\n",
              "      <td>Software Problem / Issue</td>\n",
              "      <td>4</td>\n",
              "      <td>9/24/2019 13:28</td>\n",
              "      <td>9/24/2019 13:47</td>\n",
              "      <td>9/24/2019 14:34</td>\n",
              "      <td>0:19:06</td>\n",
              "      <td>1:06:22</td>\n",
              "      <td>1</td>\n",
              "      <td>1</td>\n",
              "    </tr>\n",
              "    <tr>\n",
              "      <th>280</th>\n",
              "      <td>1012</td>\n",
              "      <td>18</td>\n",
              "      <td>Fw: Hauling issue</td>\n",
              "      <td>Email</td>\n",
              "      <td>Software Problem / Issue</td>\n",
              "      <td>4</td>\n",
              "      <td>9/25/2019 7:54</td>\n",
              "      <td>9/25/2019 9:01</td>\n",
              "      <td>NaN</td>\n",
              "      <td>1:01:53</td>\n",
              "      <td>0:00:00</td>\n",
              "      <td>1</td>\n",
              "      <td>3</td>\n",
              "    </tr>\n",
              "    <tr>\n",
              "      <th>281</th>\n",
              "      <td>1014</td>\n",
              "      <td>18</td>\n",
              "      <td>Tickets is Limbo</td>\n",
              "      <td>Email</td>\n",
              "      <td>Software Problem / Issue</td>\n",
              "      <td>4</td>\n",
              "      <td>9/27/2019 8:35</td>\n",
              "      <td>9/27/2019 8:46</td>\n",
              "      <td>9/27/2019 11:39</td>\n",
              "      <td>0:11:34</td>\n",
              "      <td>3:04:17</td>\n",
              "      <td>2</td>\n",
              "      <td>3</td>\n",
              "    </tr>\n",
              "    <tr>\n",
              "      <th>282</th>\n",
              "      <td>1016</td>\n",
              "      <td>18</td>\n",
              "      <td>Company showing in red as if it's past due, bu...</td>\n",
              "      <td>Portal</td>\n",
              "      <td>Software Problem / Issue</td>\n",
              "      <td>3</td>\n",
              "      <td>9/30/2019 10:37</td>\n",
              "      <td>9/30/2019 11:25</td>\n",
              "      <td>10/1/2019 16:06</td>\n",
              "      <td>0:48:33</td>\n",
              "      <td>14:29:49</td>\n",
              "      <td>1</td>\n",
              "      <td>2</td>\n",
              "    </tr>\n",
              "    <tr>\n",
              "      <th>283</th>\n",
              "      <td>1017</td>\n",
              "      <td>18</td>\n",
              "      <td>Fw: Wrong info in Hauling Software</td>\n",
              "      <td>Email</td>\n",
              "      <td>Software Problem / Issue</td>\n",
              "      <td>4</td>\n",
              "      <td>9/30/2019 15:00</td>\n",
              "      <td>NaN</td>\n",
              "      <td>NaN</td>\n",
              "      <td>0:00:00</td>\n",
              "      <td>0:00:00</td>\n",
              "      <td>0</td>\n",
              "      <td>3</td>\n",
              "    </tr>\n",
              "  </tbody>\n",
              "</table>\n",
              "<p>284 rows × 13 columns</p>\n",
              "</div>"
            ],
            "text/plain": [
              "     Ticket ID  HS Customer  ... Agent interactions Customer interactions\n",
              "0           35           18  ...                  1                     1\n",
              "1           36           19  ...                  2                     1\n",
              "2           44           20  ...                  1                     1\n",
              "3           54           20  ...                  1                     1\n",
              "4           55           23  ...                  1                     1\n",
              "..         ...          ...  ...                ...                   ...\n",
              "279       1009           18  ...                  1                     1\n",
              "280       1012           18  ...                  1                     3\n",
              "281       1014           18  ...                  2                     3\n",
              "282       1016           18  ...                  1                     2\n",
              "283       1017           18  ...                  0                     3\n",
              "\n",
              "[284 rows x 13 columns]"
            ]
          },
          "metadata": {
            "tags": []
          },
          "execution_count": 4
        }
      ]
    },
    {
      "cell_type": "code",
      "metadata": {
        "id": "q3VEw4weFDr9",
        "colab_type": "code",
        "colab": {}
      },
      "source": [
        "cust18 = df2[df2['HS Customer']==18] #only ids that are 18"
      ],
      "execution_count": 0,
      "outputs": []
    },
    {
      "cell_type": "code",
      "metadata": {
        "id": "HpjYJDxPFPft",
        "colab_type": "code",
        "outputId": "f4e40140-054c-49d2-c5ca-75513bf243c2",
        "colab": {
          "base_uri": "https://localhost:8080/",
          "height": 742
        }
      },
      "source": [
        "cust18"
      ],
      "execution_count": 6,
      "outputs": [
        {
          "output_type": "execute_result",
          "data": {
            "text/html": [
              "<div>\n",
              "<style scoped>\n",
              "    .dataframe tbody tr th:only-of-type {\n",
              "        vertical-align: middle;\n",
              "    }\n",
              "\n",
              "    .dataframe tbody tr th {\n",
              "        vertical-align: top;\n",
              "    }\n",
              "\n",
              "    .dataframe thead th {\n",
              "        text-align: right;\n",
              "    }\n",
              "</style>\n",
              "<table border=\"1\" class=\"dataframe\">\n",
              "  <thead>\n",
              "    <tr style=\"text-align: right;\">\n",
              "      <th></th>\n",
              "      <th>Ticket ID</th>\n",
              "      <th>HS Customer</th>\n",
              "      <th>Subject</th>\n",
              "      <th>Source</th>\n",
              "      <th>Type</th>\n",
              "      <th>Weight</th>\n",
              "      <th>Created time</th>\n",
              "      <th>Initial response time</th>\n",
              "      <th>Resolved time</th>\n",
              "      <th>First response time (in hrs)</th>\n",
              "      <th>Resolution time (in hrs)</th>\n",
              "      <th>Agent interactions</th>\n",
              "      <th>Customer interactions</th>\n",
              "    </tr>\n",
              "  </thead>\n",
              "  <tbody>\n",
              "    <tr>\n",
              "      <th>0</th>\n",
              "      <td>35</td>\n",
              "      <td>18</td>\n",
              "      <td>Lease name shows up as two different names</td>\n",
              "      <td>Portal</td>\n",
              "      <td>Problem / Issue</td>\n",
              "      <td>3</td>\n",
              "      <td>11/1/2018 16:48</td>\n",
              "      <td>11/2/2018 10:34</td>\n",
              "      <td>11/2/2018 10:39</td>\n",
              "      <td>2:45:09</td>\n",
              "      <td>2:50:17</td>\n",
              "      <td>1</td>\n",
              "      <td>1</td>\n",
              "    </tr>\n",
              "    <tr>\n",
              "      <th>5</th>\n",
              "      <td>65</td>\n",
              "      <td>18</td>\n",
              "      <td>How do I delete &amp; replace a supplemental ticke...</td>\n",
              "      <td>Portal</td>\n",
              "      <td>Problem / Issue</td>\n",
              "      <td>2</td>\n",
              "      <td>12/6/2018 10:21</td>\n",
              "      <td>12/6/2018 10:47</td>\n",
              "      <td>12/6/2018 14:24</td>\n",
              "      <td>0:26:16</td>\n",
              "      <td>4:03:19</td>\n",
              "      <td>1</td>\n",
              "      <td>1</td>\n",
              "    </tr>\n",
              "    <tr>\n",
              "      <th>6</th>\n",
              "      <td>71</td>\n",
              "      <td>18</td>\n",
              "      <td>Attaching a scan after the fact</td>\n",
              "      <td>Portal</td>\n",
              "      <td>General Question</td>\n",
              "      <td>2</td>\n",
              "      <td>12/7/2018 14:09</td>\n",
              "      <td>12/8/2018 15:26</td>\n",
              "      <td>12/7/2018 15:47</td>\n",
              "      <td>0:00:00</td>\n",
              "      <td>1:38:19</td>\n",
              "      <td>0</td>\n",
              "      <td>1</td>\n",
              "    </tr>\n",
              "    <tr>\n",
              "      <th>7</th>\n",
              "      <td>73</td>\n",
              "      <td>18</td>\n",
              "      <td>Date Range Report</td>\n",
              "      <td>Portal</td>\n",
              "      <td>Software Problem / Issue</td>\n",
              "      <td>1</td>\n",
              "      <td>12/12/2018 9:31</td>\n",
              "      <td>12/12/2018 10:41</td>\n",
              "      <td>12/12/2018 11:04</td>\n",
              "      <td>1:09:50</td>\n",
              "      <td>1:33:08</td>\n",
              "      <td>1</td>\n",
              "      <td>1</td>\n",
              "    </tr>\n",
              "    <tr>\n",
              "      <th>8</th>\n",
              "      <td>75</td>\n",
              "      <td>18</td>\n",
              "      <td>PO/AFE Number Not on MT</td>\n",
              "      <td>Portal</td>\n",
              "      <td>Software Problem / Issue</td>\n",
              "      <td>1</td>\n",
              "      <td>12/14/2018 8:17</td>\n",
              "      <td>12/14/2018 8:22</td>\n",
              "      <td>12/20/2018 13:43</td>\n",
              "      <td>0:04:55</td>\n",
              "      <td>41:25:58</td>\n",
              "      <td>1</td>\n",
              "      <td>1</td>\n",
              "    </tr>\n",
              "    <tr>\n",
              "      <th>...</th>\n",
              "      <td>...</td>\n",
              "      <td>...</td>\n",
              "      <td>...</td>\n",
              "      <td>...</td>\n",
              "      <td>...</td>\n",
              "      <td>...</td>\n",
              "      <td>...</td>\n",
              "      <td>...</td>\n",
              "      <td>...</td>\n",
              "      <td>...</td>\n",
              "      <td>...</td>\n",
              "      <td>...</td>\n",
              "      <td>...</td>\n",
              "    </tr>\n",
              "    <tr>\n",
              "      <th>279</th>\n",
              "      <td>1009</td>\n",
              "      <td>18</td>\n",
              "      <td>Incorrect default of name/email</td>\n",
              "      <td>Portal</td>\n",
              "      <td>Software Problem / Issue</td>\n",
              "      <td>4</td>\n",
              "      <td>9/24/2019 13:28</td>\n",
              "      <td>9/24/2019 13:47</td>\n",
              "      <td>9/24/2019 14:34</td>\n",
              "      <td>0:19:06</td>\n",
              "      <td>1:06:22</td>\n",
              "      <td>1</td>\n",
              "      <td>1</td>\n",
              "    </tr>\n",
              "    <tr>\n",
              "      <th>280</th>\n",
              "      <td>1012</td>\n",
              "      <td>18</td>\n",
              "      <td>Fw: Hauling issue</td>\n",
              "      <td>Email</td>\n",
              "      <td>Software Problem / Issue</td>\n",
              "      <td>4</td>\n",
              "      <td>9/25/2019 7:54</td>\n",
              "      <td>9/25/2019 9:01</td>\n",
              "      <td>NaN</td>\n",
              "      <td>1:01:53</td>\n",
              "      <td>0:00:00</td>\n",
              "      <td>1</td>\n",
              "      <td>3</td>\n",
              "    </tr>\n",
              "    <tr>\n",
              "      <th>281</th>\n",
              "      <td>1014</td>\n",
              "      <td>18</td>\n",
              "      <td>Tickets is Limbo</td>\n",
              "      <td>Email</td>\n",
              "      <td>Software Problem / Issue</td>\n",
              "      <td>4</td>\n",
              "      <td>9/27/2019 8:35</td>\n",
              "      <td>9/27/2019 8:46</td>\n",
              "      <td>9/27/2019 11:39</td>\n",
              "      <td>0:11:34</td>\n",
              "      <td>3:04:17</td>\n",
              "      <td>2</td>\n",
              "      <td>3</td>\n",
              "    </tr>\n",
              "    <tr>\n",
              "      <th>282</th>\n",
              "      <td>1016</td>\n",
              "      <td>18</td>\n",
              "      <td>Company showing in red as if it's past due, bu...</td>\n",
              "      <td>Portal</td>\n",
              "      <td>Software Problem / Issue</td>\n",
              "      <td>3</td>\n",
              "      <td>9/30/2019 10:37</td>\n",
              "      <td>9/30/2019 11:25</td>\n",
              "      <td>10/1/2019 16:06</td>\n",
              "      <td>0:48:33</td>\n",
              "      <td>14:29:49</td>\n",
              "      <td>1</td>\n",
              "      <td>2</td>\n",
              "    </tr>\n",
              "    <tr>\n",
              "      <th>283</th>\n",
              "      <td>1017</td>\n",
              "      <td>18</td>\n",
              "      <td>Fw: Wrong info in Hauling Software</td>\n",
              "      <td>Email</td>\n",
              "      <td>Software Problem / Issue</td>\n",
              "      <td>4</td>\n",
              "      <td>9/30/2019 15:00</td>\n",
              "      <td>NaN</td>\n",
              "      <td>NaN</td>\n",
              "      <td>0:00:00</td>\n",
              "      <td>0:00:00</td>\n",
              "      <td>0</td>\n",
              "      <td>3</td>\n",
              "    </tr>\n",
              "  </tbody>\n",
              "</table>\n",
              "<p>121 rows × 13 columns</p>\n",
              "</div>"
            ],
            "text/plain": [
              "     Ticket ID  HS Customer  ... Agent interactions Customer interactions\n",
              "0           35           18  ...                  1                     1\n",
              "5           65           18  ...                  1                     1\n",
              "6           71           18  ...                  0                     1\n",
              "7           73           18  ...                  1                     1\n",
              "8           75           18  ...                  1                     1\n",
              "..         ...          ...  ...                ...                   ...\n",
              "279       1009           18  ...                  1                     1\n",
              "280       1012           18  ...                  1                     3\n",
              "281       1014           18  ...                  2                     3\n",
              "282       1016           18  ...                  1                     2\n",
              "283       1017           18  ...                  0                     3\n",
              "\n",
              "[121 rows x 13 columns]"
            ]
          },
          "metadata": {
            "tags": []
          },
          "execution_count": 6
        }
      ]
    },
    {
      "cell_type": "code",
      "metadata": {
        "id": "Tt5GMoWAP9I6",
        "colab_type": "code",
        "outputId": "db14fbd9-e4b5-4ea3-b1aa-c3b0d241d57d",
        "colab": {
          "base_uri": "https://localhost:8080/",
          "height": 799
        }
      },
      "source": [
        "custs = 46\n",
        "for c in range(custs):\n",
        "  print('cust ', str(c), ' = ', str(len(df2[df2['HS Customer']== c])))"
      ],
      "execution_count": 7,
      "outputs": [
        {
          "output_type": "stream",
          "text": [
            "cust  0  =  0\n",
            "cust  1  =  0\n",
            "cust  2  =  0\n",
            "cust  3  =  0\n",
            "cust  4  =  3\n",
            "cust  5  =  13\n",
            "cust  6  =  0\n",
            "cust  7  =  0\n",
            "cust  8  =  0\n",
            "cust  9  =  0\n",
            "cust  10  =  12\n",
            "cust  11  =  0\n",
            "cust  12  =  0\n",
            "cust  13  =  0\n",
            "cust  14  =  0\n",
            "cust  15  =  19\n",
            "cust  16  =  5\n",
            "cust  17  =  0\n",
            "cust  18  =  121\n",
            "cust  19  =  10\n",
            "cust  20  =  14\n",
            "cust  21  =  6\n",
            "cust  22  =  0\n",
            "cust  23  =  1\n",
            "cust  24  =  7\n",
            "cust  25  =  15\n",
            "cust  26  =  10\n",
            "cust  27  =  0\n",
            "cust  28  =  13\n",
            "cust  29  =  0\n",
            "cust  30  =  0\n",
            "cust  31  =  0\n",
            "cust  32  =  0\n",
            "cust  33  =  0\n",
            "cust  34  =  3\n",
            "cust  35  =  0\n",
            "cust  36  =  0\n",
            "cust  37  =  11\n",
            "cust  38  =  0\n",
            "cust  39  =  1\n",
            "cust  40  =  1\n",
            "cust  41  =  13\n",
            "cust  42  =  0\n",
            "cust  43  =  0\n",
            "cust  44  =  0\n",
            "cust  45  =  6\n"
          ],
          "name": "stdout"
        }
      ]
    },
    {
      "cell_type": "code",
      "metadata": {
        "id": "xhEGapLrR6iM",
        "colab_type": "code",
        "colab": {}
      },
      "source": [
        "def my_function(duplicateRowsDF):\n",
        "  print(duplicaterows + \" Refsnes\")"
      ],
      "execution_count": 0,
      "outputs": []
    },
    {
      "cell_type": "code",
      "metadata": {
        "id": "H1ICYf3NUJ5o",
        "colab_type": "code",
        "colab": {}
      },
      "source": [
        "#transpose dataframe\n",
        "def tpose(df):\n",
        "    np.transpose(df)"
      ],
      "execution_count": 0,
      "outputs": []
    },
    {
      "cell_type": "code",
      "metadata": {
        "id": "EuE8-zvHchCx",
        "colab_type": "code",
        "colab": {
          "base_uri": "https://localhost:8080/",
          "height": 238
        },
        "outputId": "0df88f6c-c3f5-471c-a82b-bc5d562a9ea7"
      },
      "source": [
        "def rows(tpose)"
      ],
      "execution_count": 111,
      "outputs": [
        {
          "output_type": "stream",
          "text": [
            "                                 0  ...           187567\n",
            "invoice_id                  179988  ...           223546\n",
            "hs_customer                      4  ...                4\n",
            "invoice_total                 1703  ...           2167.5\n",
            "invoice_time            1538430074  ...       1547582637\n",
            "ticket_id                   921385  ...          1254418\n",
            "job_type          Special Projects  ...    Water Hauling\n",
            "ticket_date             1538071304  ...       1547549375\n",
            "ticket_item_type   job_description  ...  job_description\n",
            "details                       1281  ...              NaN\n",
            "Total                  3.07761e+09  ...      3.09661e+09\n",
            "\n",
            "[10 rows x 187568 columns]\n"
          ],
          "name": "stdout"
        }
      ]
    },
    {
      "cell_type": "code",
      "metadata": {
        "id": "kq0VF_cFUpMK",
        "colab_type": "code",
        "colab": {
          "base_uri": "https://localhost:8080/",
          "height": 374
        },
        "outputId": "cb84b209-9d2a-4ba6-ba47-70b515b42bcf"
      },
      "source": [
        "\n",
        "\n",
        "\n",
        "\n",
        "\n",
        "rows = tpose(df3[[\"invoice_id\"],[\"invoice_total\"],[\"ticket_id\"],[\"job_type\"]])"
      ],
      "execution_count": 110,
      "outputs": [
        {
          "output_type": "error",
          "ename": "TypeError",
          "evalue": "ignored",
          "traceback": [
            "\u001b[0;31m---------------------------------------------------------------------------\u001b[0m",
            "\u001b[0;31mTypeError\u001b[0m                                 Traceback (most recent call last)",
            "\u001b[0;32m<ipython-input-110-fb7e01dbe40d>\u001b[0m in \u001b[0;36m<module>\u001b[0;34m()\u001b[0m\n\u001b[0;32m----> 1\u001b[0;31m \u001b[0mrows\u001b[0m \u001b[0;34m=\u001b[0m \u001b[0mtpose\u001b[0m\u001b[0;34m(\u001b[0m\u001b[0mdf3\u001b[0m\u001b[0;34m[\u001b[0m\u001b[0;34m[\u001b[0m\u001b[0;34m\"invoice_id\"\u001b[0m\u001b[0;34m]\u001b[0m\u001b[0;34m,\u001b[0m\u001b[0;34m[\u001b[0m\u001b[0;34m\"invoice_total\"\u001b[0m\u001b[0;34m]\u001b[0m\u001b[0;34m,\u001b[0m\u001b[0;34m[\u001b[0m\u001b[0;34m\"ticket_id\"\u001b[0m\u001b[0;34m]\u001b[0m\u001b[0;34m,\u001b[0m\u001b[0;34m[\u001b[0m\u001b[0;34m\"job_type\"\u001b[0m\u001b[0;34m]\u001b[0m\u001b[0;34m]\u001b[0m\u001b[0;34m)\u001b[0m\u001b[0;34m\u001b[0m\u001b[0;34m\u001b[0m\u001b[0m\n\u001b[0m",
            "\u001b[0;32m/usr/local/lib/python3.6/dist-packages/pandas/core/frame.py\u001b[0m in \u001b[0;36m__getitem__\u001b[0;34m(self, key)\u001b[0m\n\u001b[1;32m   2993\u001b[0m             \u001b[0;32mif\u001b[0m \u001b[0mself\u001b[0m\u001b[0;34m.\u001b[0m\u001b[0mcolumns\u001b[0m\u001b[0;34m.\u001b[0m\u001b[0mnlevels\u001b[0m \u001b[0;34m>\u001b[0m \u001b[0;36m1\u001b[0m\u001b[0;34m:\u001b[0m\u001b[0;34m\u001b[0m\u001b[0;34m\u001b[0m\u001b[0m\n\u001b[1;32m   2994\u001b[0m                 \u001b[0;32mreturn\u001b[0m \u001b[0mself\u001b[0m\u001b[0;34m.\u001b[0m\u001b[0m_getitem_multilevel\u001b[0m\u001b[0;34m(\u001b[0m\u001b[0mkey\u001b[0m\u001b[0;34m)\u001b[0m\u001b[0;34m\u001b[0m\u001b[0;34m\u001b[0m\u001b[0m\n\u001b[0;32m-> 2995\u001b[0;31m             \u001b[0mindexer\u001b[0m \u001b[0;34m=\u001b[0m \u001b[0mself\u001b[0m\u001b[0;34m.\u001b[0m\u001b[0mcolumns\u001b[0m\u001b[0;34m.\u001b[0m\u001b[0mget_loc\u001b[0m\u001b[0;34m(\u001b[0m\u001b[0mkey\u001b[0m\u001b[0;34m)\u001b[0m\u001b[0;34m\u001b[0m\u001b[0;34m\u001b[0m\u001b[0m\n\u001b[0m\u001b[1;32m   2996\u001b[0m             \u001b[0;32mif\u001b[0m \u001b[0mis_integer\u001b[0m\u001b[0;34m(\u001b[0m\u001b[0mindexer\u001b[0m\u001b[0;34m)\u001b[0m\u001b[0;34m:\u001b[0m\u001b[0;34m\u001b[0m\u001b[0;34m\u001b[0m\u001b[0m\n\u001b[1;32m   2997\u001b[0m                 \u001b[0mindexer\u001b[0m \u001b[0;34m=\u001b[0m \u001b[0;34m[\u001b[0m\u001b[0mindexer\u001b[0m\u001b[0;34m]\u001b[0m\u001b[0;34m\u001b[0m\u001b[0;34m\u001b[0m\u001b[0m\n",
            "\u001b[0;32m/usr/local/lib/python3.6/dist-packages/pandas/core/indexes/base.py\u001b[0m in \u001b[0;36mget_loc\u001b[0;34m(self, key, method, tolerance)\u001b[0m\n\u001b[1;32m   2895\u001b[0m                 )\n\u001b[1;32m   2896\u001b[0m             \u001b[0;32mtry\u001b[0m\u001b[0;34m:\u001b[0m\u001b[0;34m\u001b[0m\u001b[0;34m\u001b[0m\u001b[0m\n\u001b[0;32m-> 2897\u001b[0;31m                 \u001b[0;32mreturn\u001b[0m \u001b[0mself\u001b[0m\u001b[0;34m.\u001b[0m\u001b[0m_engine\u001b[0m\u001b[0;34m.\u001b[0m\u001b[0mget_loc\u001b[0m\u001b[0;34m(\u001b[0m\u001b[0mkey\u001b[0m\u001b[0;34m)\u001b[0m\u001b[0;34m\u001b[0m\u001b[0;34m\u001b[0m\u001b[0m\n\u001b[0m\u001b[1;32m   2898\u001b[0m             \u001b[0;32mexcept\u001b[0m \u001b[0mKeyError\u001b[0m\u001b[0;34m:\u001b[0m\u001b[0;34m\u001b[0m\u001b[0;34m\u001b[0m\u001b[0m\n\u001b[1;32m   2899\u001b[0m                 \u001b[0;32mreturn\u001b[0m \u001b[0mself\u001b[0m\u001b[0;34m.\u001b[0m\u001b[0m_engine\u001b[0m\u001b[0;34m.\u001b[0m\u001b[0mget_loc\u001b[0m\u001b[0;34m(\u001b[0m\u001b[0mself\u001b[0m\u001b[0;34m.\u001b[0m\u001b[0m_maybe_cast_indexer\u001b[0m\u001b[0;34m(\u001b[0m\u001b[0mkey\u001b[0m\u001b[0;34m)\u001b[0m\u001b[0;34m)\u001b[0m\u001b[0;34m\u001b[0m\u001b[0;34m\u001b[0m\u001b[0m\n",
            "\u001b[0;32mpandas/_libs/index.pyx\u001b[0m in \u001b[0;36mpandas._libs.index.IndexEngine.get_loc\u001b[0;34m()\u001b[0m\n",
            "\u001b[0;32mpandas/_libs/index.pyx\u001b[0m in \u001b[0;36mpandas._libs.index.IndexEngine.get_loc\u001b[0;34m()\u001b[0m\n",
            "\u001b[0;31mTypeError\u001b[0m: '(['invoice_id'], ['invoice_total'], ['ticket_id'], ['job_type'])' is an invalid key"
          ]
        }
      ]
    },
    {
      "cell_type": "code",
      "metadata": {
        "id": "mhrklfWrXoSi",
        "colab_type": "code",
        "colab": {}
      },
      "source": [
        "#define which rows i want\n",
        "def rows(df):\n",
        "  print(tpose[0:1].append(tpose[2:3]).append(tspose[4:6]))"
      ],
      "execution_count": 0,
      "outputs": []
    },
    {
      "cell_type": "code",
      "metadata": {
        "id": "YpAtPc_JaawJ",
        "colab_type": "code",
        "colab": {
          "base_uri": "https://localhost:8080/",
          "height": 231
        },
        "outputId": "fe32c2d8-aa60-4794-aac5-14ba88f008db"
      },
      "source": [
        "rows(df3)"
      ],
      "execution_count": 95,
      "outputs": [
        {
          "output_type": "error",
          "ename": "TypeError",
          "evalue": "ignored",
          "traceback": [
            "\u001b[0;31m---------------------------------------------------------------------------\u001b[0m",
            "\u001b[0;31mTypeError\u001b[0m                                 Traceback (most recent call last)",
            "\u001b[0;32m<ipython-input-95-dac9857ca029>\u001b[0m in \u001b[0;36m<module>\u001b[0;34m()\u001b[0m\n\u001b[0;32m----> 1\u001b[0;31m \u001b[0mrows\u001b[0m\u001b[0;34m(\u001b[0m\u001b[0mdf3\u001b[0m\u001b[0;34m)\u001b[0m\u001b[0;34m\u001b[0m\u001b[0;34m\u001b[0m\u001b[0m\n\u001b[0m",
            "\u001b[0;32m<ipython-input-94-11b29ecd02ed>\u001b[0m in \u001b[0;36mrows\u001b[0;34m(df)\u001b[0m\n\u001b[1;32m      1\u001b[0m \u001b[0;32mdef\u001b[0m \u001b[0mrows\u001b[0m\u001b[0;34m(\u001b[0m\u001b[0mdf\u001b[0m\u001b[0;34m)\u001b[0m\u001b[0;34m:\u001b[0m\u001b[0;34m\u001b[0m\u001b[0;34m\u001b[0m\u001b[0m\n\u001b[0;32m----> 2\u001b[0;31m   \u001b[0mprint\u001b[0m\u001b[0;34m(\u001b[0m\u001b[0mtpose\u001b[0m\u001b[0;34m[\u001b[0m\u001b[0;36m0\u001b[0m\u001b[0;34m:\u001b[0m\u001b[0;36m1\u001b[0m\u001b[0;34m]\u001b[0m\u001b[0;34m.\u001b[0m\u001b[0mappend\u001b[0m\u001b[0;34m(\u001b[0m\u001b[0mtpose\u001b[0m\u001b[0;34m[\u001b[0m\u001b[0;36m2\u001b[0m\u001b[0;34m:\u001b[0m\u001b[0;36m3\u001b[0m\u001b[0;34m]\u001b[0m\u001b[0;34m)\u001b[0m\u001b[0;34m.\u001b[0m\u001b[0mappend\u001b[0m\u001b[0;34m(\u001b[0m\u001b[0mtspose\u001b[0m\u001b[0;34m[\u001b[0m\u001b[0;36m4\u001b[0m\u001b[0;34m:\u001b[0m\u001b[0;36m6\u001b[0m\u001b[0;34m]\u001b[0m\u001b[0;34m)\u001b[0m\u001b[0;34m)\u001b[0m\u001b[0;34m\u001b[0m\u001b[0;34m\u001b[0m\u001b[0m\n\u001b[0m",
            "\u001b[0;31mTypeError\u001b[0m: 'function' object is not subscriptable"
          ]
        }
      ]
    },
    {
      "cell_type": "code",
      "metadata": {
        "id": "PJzQv4BIYMh7",
        "colab_type": "code",
        "colab": {
          "base_uri": "https://localhost:8080/",
          "height": 231
        },
        "outputId": "b5672b23-2511-4a6a-cae6-967cc4e58413"
      },
      "source": [
        "rows(tpose(df3))"
      ],
      "execution_count": 102,
      "outputs": [
        {
          "output_type": "error",
          "ename": "TypeError",
          "evalue": "ignored",
          "traceback": [
            "\u001b[0;31m---------------------------------------------------------------------------\u001b[0m",
            "\u001b[0;31mTypeError\u001b[0m                                 Traceback (most recent call last)",
            "\u001b[0;32m<ipython-input-102-eb3f7f464291>\u001b[0m in \u001b[0;36m<module>\u001b[0;34m()\u001b[0m\n\u001b[0;32m----> 1\u001b[0;31m \u001b[0mrows\u001b[0m\u001b[0;34m(\u001b[0m\u001b[0mtpose\u001b[0m\u001b[0;34m(\u001b[0m\u001b[0mdf3\u001b[0m\u001b[0;34m)\u001b[0m\u001b[0;34m)\u001b[0m\u001b[0;34m\u001b[0m\u001b[0;34m\u001b[0m\u001b[0m\n\u001b[0m",
            "\u001b[0;32m<ipython-input-94-11b29ecd02ed>\u001b[0m in \u001b[0;36mrows\u001b[0;34m(df)\u001b[0m\n\u001b[1;32m      1\u001b[0m \u001b[0;32mdef\u001b[0m \u001b[0mrows\u001b[0m\u001b[0;34m(\u001b[0m\u001b[0mdf\u001b[0m\u001b[0;34m)\u001b[0m\u001b[0;34m:\u001b[0m\u001b[0;34m\u001b[0m\u001b[0;34m\u001b[0m\u001b[0m\n\u001b[0;32m----> 2\u001b[0;31m   \u001b[0mprint\u001b[0m\u001b[0;34m(\u001b[0m\u001b[0mtpose\u001b[0m\u001b[0;34m[\u001b[0m\u001b[0;36m0\u001b[0m\u001b[0;34m:\u001b[0m\u001b[0;36m1\u001b[0m\u001b[0;34m]\u001b[0m\u001b[0;34m.\u001b[0m\u001b[0mappend\u001b[0m\u001b[0;34m(\u001b[0m\u001b[0mtpose\u001b[0m\u001b[0;34m[\u001b[0m\u001b[0;36m2\u001b[0m\u001b[0;34m:\u001b[0m\u001b[0;36m3\u001b[0m\u001b[0;34m]\u001b[0m\u001b[0;34m)\u001b[0m\u001b[0;34m.\u001b[0m\u001b[0mappend\u001b[0m\u001b[0;34m(\u001b[0m\u001b[0mtspose\u001b[0m\u001b[0;34m[\u001b[0m\u001b[0;36m4\u001b[0m\u001b[0;34m:\u001b[0m\u001b[0;36m6\u001b[0m\u001b[0;34m]\u001b[0m\u001b[0;34m)\u001b[0m\u001b[0;34m)\u001b[0m\u001b[0;34m\u001b[0m\u001b[0;34m\u001b[0m\u001b[0m\n\u001b[0m",
            "\u001b[0;31mTypeError\u001b[0m: 'function' object is not subscriptable"
          ]
        }
      ]
    },
    {
      "cell_type": "code",
      "metadata": {
        "id": "RAZRETIfW8SW",
        "colab_type": "code",
        "colab": {}
      },
      "source": [
        "def grab(tpose, rows):\n",
        "  print(tpose + \" \" + rows)"
      ],
      "execution_count": 0,
      "outputs": []
    },
    {
      "cell_type": "code",
      "metadata": {
        "id": "Fb94rq_mXSQu",
        "colab_type": "code",
        "colab": {
          "base_uri": "https://localhost:8080/",
          "height": 384
        },
        "outputId": "1f3a2361-4d65-4015-afb5-e0a8923ba105"
      },
      "source": [
        "grab(transpose(df3))"
      ],
      "execution_count": 82,
      "outputs": [
        {
          "output_type": "stream",
          "text": [
            "                                 0  ...           187567\n",
            "invoice_id                  179988  ...           223546\n",
            "hs_customer                      4  ...                4\n",
            "invoice_total                 1703  ...           2167.5\n",
            "invoice_time            1538430074  ...       1547582637\n",
            "ticket_id                   921385  ...          1254418\n",
            "job_type          Special Projects  ...    Water Hauling\n",
            "ticket_date             1538071304  ...       1547549375\n",
            "ticket_item_type   job_description  ...  job_description\n",
            "details                       1281  ...              NaN\n",
            "Total                  3.07761e+09  ...      3.09661e+09\n",
            "\n",
            "[10 rows x 187568 columns]\n"
          ],
          "name": "stdout"
        },
        {
          "output_type": "error",
          "ename": "TypeError",
          "evalue": "ignored",
          "traceback": [
            "\u001b[0;31m---------------------------------------------------------------------------\u001b[0m",
            "\u001b[0;31mTypeError\u001b[0m                                 Traceback (most recent call last)",
            "\u001b[0;32m<ipython-input-82-db731d69232b>\u001b[0m in \u001b[0;36m<module>\u001b[0;34m()\u001b[0m\n\u001b[0;32m----> 1\u001b[0;31m \u001b[0mgrab\u001b[0m\u001b[0;34m(\u001b[0m\u001b[0mtranspose\u001b[0m\u001b[0;34m(\u001b[0m\u001b[0mdf3\u001b[0m\u001b[0;34m)\u001b[0m\u001b[0;34m)\u001b[0m\u001b[0;34m\u001b[0m\u001b[0;34m\u001b[0m\u001b[0m\n\u001b[0m",
            "\u001b[0;31mTypeError\u001b[0m: grab() missing 1 required positional argument: 'rows'"
          ]
        }
      ]
    },
    {
      "cell_type": "code",
      "metadata": {
        "id": "WqIUfEP1U2SP",
        "colab_type": "code",
        "colab": {
          "base_uri": "https://localhost:8080/",
          "height": 129
        },
        "outputId": "06648128-a1cd-41c7-d329-696d91f6776f"
      },
      "source": [
        "def grab(x, y, z):\n",
        "    print(grab(transpose[0:1].append(transpose[2:3].append)(transpose[4:6].append))"
      ],
      "execution_count": 79,
      "outputs": [
        {
          "output_type": "error",
          "ename": "SyntaxError",
          "evalue": "ignored",
          "traceback": [
            "\u001b[0;36m  File \u001b[0;32m\"<ipython-input-79-11b42a513858>\"\u001b[0;36m, line \u001b[0;32m2\u001b[0m\n\u001b[0;31m    print(grab(transpose[0:1].append(transpose[2:3].append)(transpose[4:6].append))\u001b[0m\n\u001b[0m                                                                                   ^\u001b[0m\n\u001b[0;31mSyntaxError\u001b[0m\u001b[0;31m:\u001b[0m unexpected EOF while parsing\n"
          ]
        }
      ]
    },
    {
      "cell_type": "code",
      "metadata": {
        "id": "PSz16hTFSzzo",
        "colab_type": "code",
        "colab": {}
      },
      "source": [
        "def (duplicateRowsDF, y):\n",
        "...     \"\"\"Return x plus y\"\"\"\n",
        "...     return dft  y"
      ],
      "execution_count": 0,
      "outputs": []
    },
    {
      "cell_type": "code",
      "metadata": {
        "id": "G66JNUGyT0pc",
        "colab_type": "code",
        "colab": {}
      },
      "source": [
        "duplicateRowsDF = pa.DataFrame(tab4n[tab4n.duplicated()])\n",
        "print(duplicateRowsDF)"
      ],
      "execution_count": 0,
      "outputs": []
    },
    {
      "cell_type": "markdown",
      "metadata": {
        "id": "Z6Nu6oY8MPBn",
        "colab_type": "text"
      },
      "source": [
        "#for each unique ticket and invoice, the type and number of job type of each customer."
      ]
    },
    {
      "cell_type": "code",
      "metadata": {
        "id": "csuF8gAJbZQ3",
        "colab_type": "code",
        "outputId": "990eed8b-3e57-4524-9bba-301f1adaae45",
        "colab": {
          "base_uri": "https://localhost:8080/",
          "height": 419
        }
      },
      "source": [
        "# for customer number 4\n",
        "url2 = 'https://raw.githubusercontent.com/nurfnick/Cantrell_Jackson/master/hs_customer_4.csv'\n",
        "df3 = pa.read_csv(url2)\n",
        "df3"
      ],
      "execution_count": 8,
      "outputs": [
        {
          "output_type": "execute_result",
          "data": {
            "text/html": [
              "<div>\n",
              "<style scoped>\n",
              "    .dataframe tbody tr th:only-of-type {\n",
              "        vertical-align: middle;\n",
              "    }\n",
              "\n",
              "    .dataframe tbody tr th {\n",
              "        vertical-align: top;\n",
              "    }\n",
              "\n",
              "    .dataframe thead th {\n",
              "        text-align: right;\n",
              "    }\n",
              "</style>\n",
              "<table border=\"1\" class=\"dataframe\">\n",
              "  <thead>\n",
              "    <tr style=\"text-align: right;\">\n",
              "      <th></th>\n",
              "      <th>invoice_id</th>\n",
              "      <th>hs_customer</th>\n",
              "      <th>invoice_total</th>\n",
              "      <th>invoice_time</th>\n",
              "      <th>ticket_id</th>\n",
              "      <th>job_type</th>\n",
              "      <th>ticket_date</th>\n",
              "      <th>ticket_item_type</th>\n",
              "      <th>details</th>\n",
              "    </tr>\n",
              "  </thead>\n",
              "  <tbody>\n",
              "    <tr>\n",
              "      <th>0</th>\n",
              "      <td>179988</td>\n",
              "      <td>4</td>\n",
              "      <td>1703.00</td>\n",
              "      <td>1538430074</td>\n",
              "      <td>921385</td>\n",
              "      <td>Special Projects</td>\n",
              "      <td>1538071304</td>\n",
              "      <td>job_description</td>\n",
              "      <td>1281.0</td>\n",
              "    </tr>\n",
              "    <tr>\n",
              "      <th>1</th>\n",
              "      <td>179987</td>\n",
              "      <td>4</td>\n",
              "      <td>1401.05</td>\n",
              "      <td>1538430070</td>\n",
              "      <td>921730</td>\n",
              "      <td>Special Projects</td>\n",
              "      <td>1538075754</td>\n",
              "      <td>job_description</td>\n",
              "      <td>1281.0</td>\n",
              "    </tr>\n",
              "    <tr>\n",
              "      <th>2</th>\n",
              "      <td>179995</td>\n",
              "      <td>4</td>\n",
              "      <td>533.14</td>\n",
              "      <td>1538430097</td>\n",
              "      <td>922145</td>\n",
              "      <td>Special Projects</td>\n",
              "      <td>1538079932</td>\n",
              "      <td>job_description</td>\n",
              "      <td>1281.0</td>\n",
              "    </tr>\n",
              "    <tr>\n",
              "      <th>3</th>\n",
              "      <td>179978</td>\n",
              "      <td>4</td>\n",
              "      <td>15870.00</td>\n",
              "      <td>1538430035</td>\n",
              "      <td>922198</td>\n",
              "      <td>Special Projects</td>\n",
              "      <td>1538080501</td>\n",
              "      <td>job_description</td>\n",
              "      <td>1281.0</td>\n",
              "    </tr>\n",
              "    <tr>\n",
              "      <th>4</th>\n",
              "      <td>180011</td>\n",
              "      <td>4</td>\n",
              "      <td>2170.00</td>\n",
              "      <td>1538430143</td>\n",
              "      <td>926946</td>\n",
              "      <td>Special Projects</td>\n",
              "      <td>1538404812</td>\n",
              "      <td>job_description</td>\n",
              "      <td>1281.0</td>\n",
              "    </tr>\n",
              "    <tr>\n",
              "      <th>...</th>\n",
              "      <td>...</td>\n",
              "      <td>...</td>\n",
              "      <td>...</td>\n",
              "      <td>...</td>\n",
              "      <td>...</td>\n",
              "      <td>...</td>\n",
              "      <td>...</td>\n",
              "      <td>...</td>\n",
              "      <td>...</td>\n",
              "    </tr>\n",
              "    <tr>\n",
              "      <th>187563</th>\n",
              "      <td>223637</td>\n",
              "      <td>4</td>\n",
              "      <td>5890.50</td>\n",
              "      <td>1547584453</td>\n",
              "      <td>1254414</td>\n",
              "      <td>Water Hauling</td>\n",
              "      <td>1547549304</td>\n",
              "      <td>job_description</td>\n",
              "      <td>NaN</td>\n",
              "    </tr>\n",
              "    <tr>\n",
              "      <th>187564</th>\n",
              "      <td>223548</td>\n",
              "      <td>4</td>\n",
              "      <td>5446.80</td>\n",
              "      <td>1547582644</td>\n",
              "      <td>1254603</td>\n",
              "      <td>Water Hauling</td>\n",
              "      <td>1547553284</td>\n",
              "      <td>job_description</td>\n",
              "      <td>NaN</td>\n",
              "    </tr>\n",
              "    <tr>\n",
              "      <th>187565</th>\n",
              "      <td>223544</td>\n",
              "      <td>4</td>\n",
              "      <td>1682.00</td>\n",
              "      <td>1547582630</td>\n",
              "      <td>1254411</td>\n",
              "      <td>Water Hauling</td>\n",
              "      <td>1547549232</td>\n",
              "      <td>job_description</td>\n",
              "      <td>NaN</td>\n",
              "    </tr>\n",
              "    <tr>\n",
              "      <th>187566</th>\n",
              "      <td>223547</td>\n",
              "      <td>4</td>\n",
              "      <td>2144.20</td>\n",
              "      <td>1547582641</td>\n",
              "      <td>1254609</td>\n",
              "      <td>Water Hauling</td>\n",
              "      <td>1547553354</td>\n",
              "      <td>job_description</td>\n",
              "      <td>NaN</td>\n",
              "    </tr>\n",
              "    <tr>\n",
              "      <th>187567</th>\n",
              "      <td>223546</td>\n",
              "      <td>4</td>\n",
              "      <td>2167.50</td>\n",
              "      <td>1547582637</td>\n",
              "      <td>1254418</td>\n",
              "      <td>Water Hauling</td>\n",
              "      <td>1547549375</td>\n",
              "      <td>job_description</td>\n",
              "      <td>NaN</td>\n",
              "    </tr>\n",
              "  </tbody>\n",
              "</table>\n",
              "<p>187568 rows × 9 columns</p>\n",
              "</div>"
            ],
            "text/plain": [
              "        invoice_id  hs_customer  ...  ticket_item_type  details\n",
              "0           179988            4  ...   job_description   1281.0\n",
              "1           179987            4  ...   job_description   1281.0\n",
              "2           179995            4  ...   job_description   1281.0\n",
              "3           179978            4  ...   job_description   1281.0\n",
              "4           180011            4  ...   job_description   1281.0\n",
              "...            ...          ...  ...               ...      ...\n",
              "187563      223637            4  ...   job_description      NaN\n",
              "187564      223548            4  ...   job_description      NaN\n",
              "187565      223544            4  ...   job_description      NaN\n",
              "187566      223547            4  ...   job_description      NaN\n",
              "187567      223546            4  ...   job_description      NaN\n",
              "\n",
              "[187568 rows x 9 columns]"
            ]
          },
          "metadata": {
            "tags": []
          },
          "execution_count": 8
        }
      ]
    },
    {
      "cell_type": "code",
      "metadata": {
        "id": "Hm8qo4MrYgko",
        "colab_type": "code",
        "colab": {}
      },
      "source": [
        "#Total sum per row: \n",
        "dude = df3.loc[:,'Total'] = df3.sum(axis=1)\n",
        "dudes = pa.DataFrame(dude)\n"
      ],
      "execution_count": 0,
      "outputs": []
    },
    {
      "cell_type": "code",
      "metadata": {
        "id": "iUpriK0lYP6j",
        "colab_type": "code",
        "colab": {}
      },
      "source": [
        "#df3 transposed\n",
        "df3t = np.transpose(df3)"
      ],
      "execution_count": 0,
      "outputs": []
    },
    {
      "cell_type": "code",
      "metadata": {
        "id": "4-DVgmdzoLzN",
        "colab_type": "code",
        "colab": {}
      },
      "source": [
        "#df3 transposed separate rows we want\n",
        "df3tl = ()\n",
        "df3tl = df3t[0:1].append(df3t[2:3]).append(df3t[4:6])"
      ],
      "execution_count": 0,
      "outputs": []
    },
    {
      "cell_type": "code",
      "metadata": {
        "id": "r_5uuVCTqsLr",
        "colab_type": "code",
        "colab": {}
      },
      "source": [
        "#transpose again\n",
        "df3tlt = np.transpose(df3tl)"
      ],
      "execution_count": 0,
      "outputs": []
    },
    {
      "cell_type": "code",
      "metadata": {
        "id": "AfwjgqN3nRJ1",
        "colab_type": "code",
        "colab": {}
      },
      "source": [
        "#dataframe with nan values (nanas)\n",
        "tab4 = pa.DataFrame(df3tlt)"
      ],
      "execution_count": 0,
      "outputs": []
    },
    {
      "cell_type": "code",
      "metadata": {
        "id": "MyNBOf5cfK5J",
        "colab_type": "code",
        "colab": {}
      },
      "source": [
        "#drop nanas\n",
        "tab4n = tab4.dropna()"
      ],
      "execution_count": 0,
      "outputs": []
    },
    {
      "cell_type": "code",
      "metadata": {
        "id": "2LEBVewYm6pz",
        "colab_type": "code",
        "outputId": "ec45d422-6c4a-4858-8407-8b795563da3e",
        "colab": {
          "base_uri": "https://localhost:8080/",
          "height": 255
        }
      },
      "source": [
        "# shows duplicate rows (one instance of each)\n",
        "duplicateRowsDF = pa.DataFrame(tab4n[tab4n.duplicated()])\n",
        "print(duplicateRowsDF)"
      ],
      "execution_count": 15,
      "outputs": [
        {
          "output_type": "stream",
          "text": [
            "       invoice_id invoice_total ticket_id          job_type\n",
            "1441       199546          1118   1060989  Special Projects\n",
            "1442       199489        1168.4   1061138  Special Projects\n",
            "1443       203162         637.6   1085710  Special Projects\n",
            "1444       203167           316   1096096  Special Projects\n",
            "1445       203994           324   1100343  Special Projects\n",
            "...           ...           ...       ...               ...\n",
            "187563     223637        5890.5   1254414     Water Hauling\n",
            "187564     223548        5446.8   1254603     Water Hauling\n",
            "187565     223544          1682   1254411     Water Hauling\n",
            "187566     223547        2144.2   1254609     Water Hauling\n",
            "187567     223546        2167.5   1254418     Water Hauling\n",
            "\n",
            "[160093 rows x 4 columns]\n"
          ],
          "name": "stdout"
        }
      ]
    },
    {
      "cell_type": "code",
      "metadata": {
        "id": "wpNeVGuxoTJY",
        "colab_type": "code",
        "colab": {}
      },
      "source": [
        "#restrict dataframe to only show special projects\n",
        "spdups = duplicateRowsDF[duplicateRowsDF['job_type'] == 'Special Projects']"
      ],
      "execution_count": 0,
      "outputs": []
    },
    {
      "cell_type": "code",
      "metadata": {
        "id": "7mMQUXg0qoqa",
        "colab_type": "code",
        "colab": {}
      },
      "source": [
        "#invoice total for job type special projects for customer 4\n",
        "itspc4 = sum(spdups['invoice_total'])"
      ],
      "execution_count": 0,
      "outputs": []
    },
    {
      "cell_type": "code",
      "metadata": {
        "id": "H51jh8JHrivk",
        "colab_type": "code",
        "colab": {}
      },
      "source": [
        "whdups = duplicateRowsDF[duplicateRowsDF['job_type'] == 'Water Hauling']"
      ],
      "execution_count": 0,
      "outputs": []
    },
    {
      "cell_type": "code",
      "metadata": {
        "id": "2Hwp0cTcfYgE",
        "colab_type": "code",
        "colab": {}
      },
      "source": [
        "itwhc4 = sum(whdups['invoice_total'])"
      ],
      "execution_count": 0,
      "outputs": []
    },
    {
      "cell_type": "code",
      "metadata": {
        "id": "Kkmlv58SnIBm",
        "colab_type": "code",
        "colab": {}
      },
      "source": [
        "fbdups = duplicateRowsDF[duplicateRowsDF['job_type'] == 'Flowback']\n",
        "itfbc4 = sum(fbdups['invoice_total'])"
      ],
      "execution_count": 0,
      "outputs": []
    },
    {
      "cell_type": "code",
      "metadata": {
        "id": "ytOOiIyPg9jB",
        "colab_type": "code",
        "outputId": "8e22b610-e543-43c0-ad9c-1ec2ff47288f",
        "colab": {
          "base_uri": "https://localhost:8080/",
          "height": 34
        }
      },
      "source": [
        "itc4 = itspc4 + itwhc4 + itfbc4\n",
        "print(f'Customer 4 spending summary: Special Projects {itspc4}, Water Hauling {itwhc4}, Flowback {itfbc4}, Total {itc4}')"
      ],
      "execution_count": 21,
      "outputs": [
        {
          "output_type": "stream",
          "text": [
            "Customer 4 spending summary: Special Projects 12674431.019999983, Water Hauling 1073078364.6200781, Flowback 0, Total 1085752795.640078\n"
          ],
          "name": "stdout"
        }
      ]
    },
    {
      "cell_type": "code",
      "metadata": {
        "id": "Ox295NCy_l2g",
        "colab_type": "code",
        "outputId": "625e61b5-0dde-4166-feef-b0d044560a24",
        "colab": {
          "base_uri": "https://localhost:8080/",
          "height": 419
        }
      },
      "source": [
        "# for customer number 5\n",
        "url3 = 'https://raw.githubusercontent.com/nurfnick/Cantrell_Jackson/master/hs_customer_5_p1.csv'\n",
        "df5 = pa.read_csv(url3)\n",
        "df5"
      ],
      "execution_count": 22,
      "outputs": [
        {
          "output_type": "execute_result",
          "data": {
            "text/html": [
              "<div>\n",
              "<style scoped>\n",
              "    .dataframe tbody tr th:only-of-type {\n",
              "        vertical-align: middle;\n",
              "    }\n",
              "\n",
              "    .dataframe tbody tr th {\n",
              "        vertical-align: top;\n",
              "    }\n",
              "\n",
              "    .dataframe thead th {\n",
              "        text-align: right;\n",
              "    }\n",
              "</style>\n",
              "<table border=\"1\" class=\"dataframe\">\n",
              "  <thead>\n",
              "    <tr style=\"text-align: right;\">\n",
              "      <th></th>\n",
              "      <th>invoice_id</th>\n",
              "      <th>hs_customer</th>\n",
              "      <th>invoice_total</th>\n",
              "      <th>invoice_time</th>\n",
              "      <th>ticket_id</th>\n",
              "      <th>job_type</th>\n",
              "      <th>ticket_date</th>\n",
              "      <th>ticket_item_type</th>\n",
              "      <th>details</th>\n",
              "    </tr>\n",
              "  </thead>\n",
              "  <tbody>\n",
              "    <tr>\n",
              "      <th>0</th>\n",
              "      <td>195540</td>\n",
              "      <td>5</td>\n",
              "      <td>366.6</td>\n",
              "      <td>1541778530</td>\n",
              "      <td>744114</td>\n",
              "      <td>Water Hauling</td>\n",
              "      <td>1532979850</td>\n",
              "      <td>job_description</td>\n",
              "      <td>NaN</td>\n",
              "    </tr>\n",
              "    <tr>\n",
              "      <th>1</th>\n",
              "      <td>195540</td>\n",
              "      <td>5</td>\n",
              "      <td>366.6</td>\n",
              "      <td>1541778530</td>\n",
              "      <td>744131</td>\n",
              "      <td>Water Hauling</td>\n",
              "      <td>1532979966</td>\n",
              "      <td>job_description</td>\n",
              "      <td>NaN</td>\n",
              "    </tr>\n",
              "    <tr>\n",
              "      <th>2</th>\n",
              "      <td>180959</td>\n",
              "      <td>5</td>\n",
              "      <td>1735.3</td>\n",
              "      <td>1538595659</td>\n",
              "      <td>850995</td>\n",
              "      <td>Water Hauling</td>\n",
              "      <td>1536136547</td>\n",
              "      <td>job_description</td>\n",
              "      <td>NaN</td>\n",
              "    </tr>\n",
              "    <tr>\n",
              "      <th>3</th>\n",
              "      <td>180959</td>\n",
              "      <td>5</td>\n",
              "      <td>1735.3</td>\n",
              "      <td>1538595659</td>\n",
              "      <td>851414</td>\n",
              "      <td>Water Hauling</td>\n",
              "      <td>1536154229</td>\n",
              "      <td>job_description</td>\n",
              "      <td>NaN</td>\n",
              "    </tr>\n",
              "    <tr>\n",
              "      <th>4</th>\n",
              "      <td>180967</td>\n",
              "      <td>5</td>\n",
              "      <td>526.5</td>\n",
              "      <td>1538595659</td>\n",
              "      <td>850928</td>\n",
              "      <td>Water Hauling</td>\n",
              "      <td>1536135518</td>\n",
              "      <td>job_description</td>\n",
              "      <td>NaN</td>\n",
              "    </tr>\n",
              "    <tr>\n",
              "      <th>...</th>\n",
              "      <td>...</td>\n",
              "      <td>...</td>\n",
              "      <td>...</td>\n",
              "      <td>...</td>\n",
              "      <td>...</td>\n",
              "      <td>...</td>\n",
              "      <td>...</td>\n",
              "      <td>...</td>\n",
              "      <td>...</td>\n",
              "    </tr>\n",
              "    <tr>\n",
              "      <th>270885</th>\n",
              "      <td>240746</td>\n",
              "      <td>5</td>\n",
              "      <td>19323.0</td>\n",
              "      <td>1550619198</td>\n",
              "      <td>1361138</td>\n",
              "      <td>Flowback</td>\n",
              "      <td>1550566216</td>\n",
              "      <td>price_per_hour</td>\n",
              "      <td>1.2</td>\n",
              "    </tr>\n",
              "    <tr>\n",
              "      <th>270886</th>\n",
              "      <td>240746</td>\n",
              "      <td>5</td>\n",
              "      <td>19323.0</td>\n",
              "      <td>1550619198</td>\n",
              "      <td>1361132</td>\n",
              "      <td>Flowback</td>\n",
              "      <td>1550566080</td>\n",
              "      <td>price_per_hour</td>\n",
              "      <td>1.2</td>\n",
              "    </tr>\n",
              "    <tr>\n",
              "      <th>270887</th>\n",
              "      <td>240746</td>\n",
              "      <td>5</td>\n",
              "      <td>19323.0</td>\n",
              "      <td>1550619198</td>\n",
              "      <td>1351417</td>\n",
              "      <td>Flowback</td>\n",
              "      <td>1550175059</td>\n",
              "      <td>price_per_hour</td>\n",
              "      <td>1.2</td>\n",
              "    </tr>\n",
              "    <tr>\n",
              "      <th>270888</th>\n",
              "      <td>240746</td>\n",
              "      <td>5</td>\n",
              "      <td>19323.0</td>\n",
              "      <td>1550619198</td>\n",
              "      <td>1351439</td>\n",
              "      <td>Flowback</td>\n",
              "      <td>1550175256</td>\n",
              "      <td>price_per_hour</td>\n",
              "      <td>1.2</td>\n",
              "    </tr>\n",
              "    <tr>\n",
              "      <th>270889</th>\n",
              "      <td>240746</td>\n",
              "      <td>5</td>\n",
              "      <td>19323.0</td>\n",
              "      <td>1550619198</td>\n",
              "      <td>1351467</td>\n",
              "      <td>Flowback</td>\n",
              "      <td>1550175454</td>\n",
              "      <td>price_per_hour</td>\n",
              "      <td>1.2</td>\n",
              "    </tr>\n",
              "  </tbody>\n",
              "</table>\n",
              "<p>270890 rows × 9 columns</p>\n",
              "</div>"
            ],
            "text/plain": [
              "        invoice_id  hs_customer  ...  ticket_item_type  details\n",
              "0           195540            5  ...   job_description      NaN\n",
              "1           195540            5  ...   job_description      NaN\n",
              "2           180959            5  ...   job_description      NaN\n",
              "3           180959            5  ...   job_description      NaN\n",
              "4           180967            5  ...   job_description      NaN\n",
              "...            ...          ...  ...               ...      ...\n",
              "270885      240746            5  ...    price_per_hour      1.2\n",
              "270886      240746            5  ...    price_per_hour      1.2\n",
              "270887      240746            5  ...    price_per_hour      1.2\n",
              "270888      240746            5  ...    price_per_hour      1.2\n",
              "270889      240746            5  ...    price_per_hour      1.2\n",
              "\n",
              "[270890 rows x 9 columns]"
            ]
          },
          "metadata": {
            "tags": []
          },
          "execution_count": 22
        }
      ]
    },
    {
      "cell_type": "code",
      "metadata": {
        "id": "D9OAa_5mALFE",
        "colab_type": "code",
        "colab": {}
      },
      "source": [
        "df5t = np.transpose(df5)"
      ],
      "execution_count": 0,
      "outputs": []
    },
    {
      "cell_type": "code",
      "metadata": {
        "id": "L8BPtjsMlAQs",
        "colab_type": "code",
        "colab": {}
      },
      "source": [
        "df5tl = ()\n",
        "df5tl = df3t[0:1].append(df5t[2:3]).append(df5t[4:6])"
      ],
      "execution_count": 0,
      "outputs": []
    },
    {
      "cell_type": "code",
      "metadata": {
        "id": "UMT-CVt-lK85",
        "colab_type": "code",
        "colab": {}
      },
      "source": [
        "df5tlt = np.transpose(df5tl)"
      ],
      "execution_count": 0,
      "outputs": []
    },
    {
      "cell_type": "code",
      "metadata": {
        "id": "jJuMhFHPl31w",
        "colab_type": "code",
        "colab": {}
      },
      "source": [
        "tab5 = pa.DataFrame(df5tlt)\n",
        "tab5n = tab5.dropna()"
      ],
      "execution_count": 0,
      "outputs": []
    },
    {
      "cell_type": "code",
      "metadata": {
        "id": "4RHYPKswmFMG",
        "colab_type": "code",
        "outputId": "5e736802-5402-4169-dbc9-8114a0cdd139",
        "colab": {
          "base_uri": "https://localhost:8080/",
          "height": 255
        }
      },
      "source": [
        "duplicateRowsDF = pa.DataFrame(tab5n[tab5n.duplicated()])\n",
        "print(duplicateRowsDF)"
      ],
      "execution_count": 27,
      "outputs": [
        {
          "output_type": "stream",
          "text": [
            "       invoice_id invoice_total ticket_id       job_type\n",
            "34318      193177          5460   1166078  Water Hauling\n",
            "35493      199407        9690.5   1177934  Water Hauling\n",
            "37516      212367           949   1206290  Water Hauling\n",
            "38680      217267         221.5   1213313  Water Hauling\n",
            "38716      217270           975   1230468  Water Hauling\n",
            "...           ...           ...       ...            ...\n",
            "185402     217954           164    943695  Water Hauling\n",
            "185414     217954           164    943807  Water Hauling\n",
            "185424     217954           318    944054  Water Hauling\n",
            "185679     219030        6672.5    954955  Water Hauling\n",
            "187556     223550            40   1015462  Water Hauling\n",
            "\n",
            "[276 rows x 4 columns]\n"
          ],
          "name": "stdout"
        }
      ]
    },
    {
      "cell_type": "code",
      "metadata": {
        "id": "U-42AK5bmXha",
        "colab_type": "code",
        "colab": {}
      },
      "source": [
        "spdups = duplicateRowsDF[duplicateRowsDF['job_type'] == 'Special Projects']\n",
        "itspc5 = sum(spdups['invoice_total'])"
      ],
      "execution_count": 0,
      "outputs": []
    },
    {
      "cell_type": "code",
      "metadata": {
        "id": "lWnrBb3ImpLj",
        "colab_type": "code",
        "colab": {}
      },
      "source": [
        "whdups = duplicateRowsDF[duplicateRowsDF['job_type'] == 'Water Hauling']\n",
        "itwhc5 = sum(whdups['invoice_total'])"
      ],
      "execution_count": 0,
      "outputs": []
    },
    {
      "cell_type": "code",
      "metadata": {
        "id": "yXMJL3dvmzQM",
        "colab_type": "code",
        "colab": {}
      },
      "source": [
        "fbdups = duplicateRowsDF[duplicateRowsDF['job_type'] == 'Flowback']\n",
        "itfbc5 = sum(fbdups['invoice_total'])"
      ],
      "execution_count": 0,
      "outputs": []
    },
    {
      "cell_type": "code",
      "metadata": {
        "id": "tSRQXyIqnhz7",
        "colab_type": "code",
        "outputId": "3d244b37-8bab-495f-c41a-ed48724d2006",
        "colab": {
          "base_uri": "https://localhost:8080/",
          "height": 34
        }
      },
      "source": [
        "itc5 = itspc5 + itwhc5 + itfbc5\n",
        "print(f'Customer 4 spending summary: Special Projects {itspc5}, Water Hauling {itwhc5}, Flowback {itfbc5}, Total {itc5}')"
      ],
      "execution_count": 31,
      "outputs": [
        {
          "output_type": "stream",
          "text": [
            "Customer 4 spending summary: Special Projects 232792.0, Water Hauling 1880567.45, Flowback 451259.5, Total 2564618.95\n"
          ],
          "name": "stdout"
        }
      ]
    },
    {
      "cell_type": "code",
      "metadata": {
        "id": "ItpbfpR0Aj9t",
        "colab_type": "code",
        "outputId": "16e8d4a8-fad7-4df1-d904-8ad3f6ee55de",
        "colab": {
          "base_uri": "https://localhost:8080/",
          "height": 419
        }
      },
      "source": [
        "# for customer number 10\n",
        "url4 = 'https://raw.githubusercontent.com/nurfnick/Cantrell_Jackson/master/hs_customer_10.csv'\n",
        "df6 = pa.read_csv(url4)\n",
        "df6"
      ],
      "execution_count": 32,
      "outputs": [
        {
          "output_type": "execute_result",
          "data": {
            "text/html": [
              "<div>\n",
              "<style scoped>\n",
              "    .dataframe tbody tr th:only-of-type {\n",
              "        vertical-align: middle;\n",
              "    }\n",
              "\n",
              "    .dataframe tbody tr th {\n",
              "        vertical-align: top;\n",
              "    }\n",
              "\n",
              "    .dataframe thead th {\n",
              "        text-align: right;\n",
              "    }\n",
              "</style>\n",
              "<table border=\"1\" class=\"dataframe\">\n",
              "  <thead>\n",
              "    <tr style=\"text-align: right;\">\n",
              "      <th></th>\n",
              "      <th>invoice_id</th>\n",
              "      <th>hs_customer</th>\n",
              "      <th>invoice_total</th>\n",
              "      <th>invoice_time</th>\n",
              "      <th>ticket_id</th>\n",
              "      <th>job_type</th>\n",
              "      <th>ticket_date</th>\n",
              "      <th>ticket_item_type</th>\n",
              "      <th>details</th>\n",
              "    </tr>\n",
              "  </thead>\n",
              "  <tbody>\n",
              "    <tr>\n",
              "      <th>0</th>\n",
              "      <td>184447</td>\n",
              "      <td>10</td>\n",
              "      <td>96.0</td>\n",
              "      <td>1539290096</td>\n",
              "      <td>788626</td>\n",
              "      <td>Water Hauling</td>\n",
              "      <td>1534354903</td>\n",
              "      <td>job_description</td>\n",
              "      <td>NaN</td>\n",
              "    </tr>\n",
              "    <tr>\n",
              "      <th>1</th>\n",
              "      <td>184442</td>\n",
              "      <td>10</td>\n",
              "      <td>259.0</td>\n",
              "      <td>1539289246</td>\n",
              "      <td>769183</td>\n",
              "      <td>Water Hauling</td>\n",
              "      <td>1533747432</td>\n",
              "      <td>job_description</td>\n",
              "      <td>NaN</td>\n",
              "    </tr>\n",
              "    <tr>\n",
              "      <th>2</th>\n",
              "      <td>184444</td>\n",
              "      <td>10</td>\n",
              "      <td>246.0</td>\n",
              "      <td>1539289647</td>\n",
              "      <td>779153</td>\n",
              "      <td>Water Hauling</td>\n",
              "      <td>1534171602</td>\n",
              "      <td>job_description</td>\n",
              "      <td>NaN</td>\n",
              "    </tr>\n",
              "    <tr>\n",
              "      <th>3</th>\n",
              "      <td>181448</td>\n",
              "      <td>10</td>\n",
              "      <td>121.5</td>\n",
              "      <td>1538678876</td>\n",
              "      <td>906526</td>\n",
              "      <td>Water Hauling</td>\n",
              "      <td>1537781498</td>\n",
              "      <td>job_description</td>\n",
              "      <td>NaN</td>\n",
              "    </tr>\n",
              "    <tr>\n",
              "      <th>4</th>\n",
              "      <td>181466</td>\n",
              "      <td>10</td>\n",
              "      <td>285.0</td>\n",
              "      <td>1538679350</td>\n",
              "      <td>906504</td>\n",
              "      <td>Water Hauling</td>\n",
              "      <td>1537781092</td>\n",
              "      <td>job_description</td>\n",
              "      <td>NaN</td>\n",
              "    </tr>\n",
              "    <tr>\n",
              "      <th>...</th>\n",
              "      <td>...</td>\n",
              "      <td>...</td>\n",
              "      <td>...</td>\n",
              "      <td>...</td>\n",
              "      <td>...</td>\n",
              "      <td>...</td>\n",
              "      <td>...</td>\n",
              "      <td>...</td>\n",
              "      <td>...</td>\n",
              "    </tr>\n",
              "    <tr>\n",
              "      <th>103330</th>\n",
              "      <td>336696</td>\n",
              "      <td>10</td>\n",
              "      <td>432.5</td>\n",
              "      <td>1569615491</td>\n",
              "      <td>1916066</td>\n",
              "      <td>Special Projects</td>\n",
              "      <td>1569253190</td>\n",
              "      <td>bill_loads</td>\n",
              "      <td>1.0</td>\n",
              "    </tr>\n",
              "    <tr>\n",
              "      <th>103331</th>\n",
              "      <td>336699</td>\n",
              "      <td>10</td>\n",
              "      <td>239.0</td>\n",
              "      <td>1569615491</td>\n",
              "      <td>1916074</td>\n",
              "      <td>Special Projects</td>\n",
              "      <td>1569253260</td>\n",
              "      <td>bill_loads</td>\n",
              "      <td>1.0</td>\n",
              "    </tr>\n",
              "    <tr>\n",
              "      <th>103332</th>\n",
              "      <td>336691</td>\n",
              "      <td>10</td>\n",
              "      <td>993.7</td>\n",
              "      <td>1569615491</td>\n",
              "      <td>1916356</td>\n",
              "      <td>Special Projects</td>\n",
              "      <td>1569254673</td>\n",
              "      <td>bill_loads</td>\n",
              "      <td>1.0</td>\n",
              "    </tr>\n",
              "    <tr>\n",
              "      <th>103333</th>\n",
              "      <td>336697</td>\n",
              "      <td>10</td>\n",
              "      <td>431.5</td>\n",
              "      <td>1569615491</td>\n",
              "      <td>1916374</td>\n",
              "      <td>Special Projects</td>\n",
              "      <td>1569254755</td>\n",
              "      <td>bill_loads</td>\n",
              "      <td>1.0</td>\n",
              "    </tr>\n",
              "    <tr>\n",
              "      <th>103334</th>\n",
              "      <td>336690</td>\n",
              "      <td>10</td>\n",
              "      <td>2369.0</td>\n",
              "      <td>1569615491</td>\n",
              "      <td>1916380</td>\n",
              "      <td>Special Projects</td>\n",
              "      <td>1569254796</td>\n",
              "      <td>bill_loads</td>\n",
              "      <td>1.0</td>\n",
              "    </tr>\n",
              "  </tbody>\n",
              "</table>\n",
              "<p>103335 rows × 9 columns</p>\n",
              "</div>"
            ],
            "text/plain": [
              "        invoice_id  hs_customer  ...  ticket_item_type  details\n",
              "0           184447           10  ...   job_description      NaN\n",
              "1           184442           10  ...   job_description      NaN\n",
              "2           184444           10  ...   job_description      NaN\n",
              "3           181448           10  ...   job_description      NaN\n",
              "4           181466           10  ...   job_description      NaN\n",
              "...            ...          ...  ...               ...      ...\n",
              "103330      336696           10  ...        bill_loads      1.0\n",
              "103331      336699           10  ...        bill_loads      1.0\n",
              "103332      336691           10  ...        bill_loads      1.0\n",
              "103333      336697           10  ...        bill_loads      1.0\n",
              "103334      336690           10  ...        bill_loads      1.0\n",
              "\n",
              "[103335 rows x 9 columns]"
            ]
          },
          "metadata": {
            "tags": []
          },
          "execution_count": 32
        }
      ]
    },
    {
      "cell_type": "code",
      "metadata": {
        "id": "o8bSNP72qMJ2",
        "colab_type": "code",
        "colab": {}
      },
      "source": [
        "df6t = np.transpose(df6)\n",
        "df6tl = ()\n",
        "df6tl = df6t[0:1].append(df6t[2:3]).append(df6t[4:6])\n",
        "df6tlt = np.transpose(df6tl)"
      ],
      "execution_count": 0,
      "outputs": []
    },
    {
      "cell_type": "code",
      "metadata": {
        "id": "riTkrT3Yqf0P",
        "colab_type": "code",
        "colab": {}
      },
      "source": [
        "tab6 = pa.DataFrame(df6tlt)\n",
        "tab6n = tab6.dropna()"
      ],
      "execution_count": 0,
      "outputs": []
    },
    {
      "cell_type": "code",
      "metadata": {
        "id": "T2mQg3CHqqM3",
        "colab_type": "code",
        "outputId": "0f59da8b-7326-4165-bcd6-1ec595aaeef7",
        "colab": {
          "base_uri": "https://localhost:8080/",
          "height": 255
        }
      },
      "source": [
        "duplicateRowsDF = pa.DataFrame(tab6n[tab6n.duplicated()])\n",
        "print(duplicateRowsDF)"
      ],
      "execution_count": 35,
      "outputs": [
        {
          "output_type": "stream",
          "text": [
            "       invoice_id invoice_total ticket_id          job_type\n",
            "6713       184410         11942    947271     Water Hauling\n",
            "6714       184410         11942    947275     Water Hauling\n",
            "6715       184409         16745    947278     Water Hauling\n",
            "6716       184409         16745    947280     Water Hauling\n",
            "6717       184410         11942    947283     Water Hauling\n",
            "...           ...           ...       ...               ...\n",
            "103330     336696         432.5   1916066  Special Projects\n",
            "103331     336699           239   1916074  Special Projects\n",
            "103332     336691         993.7   1916356  Special Projects\n",
            "103333     336697         431.5   1916374  Special Projects\n",
            "103334     336690          2369   1916380  Special Projects\n",
            "\n",
            "[75940 rows x 4 columns]\n"
          ],
          "name": "stdout"
        }
      ]
    },
    {
      "cell_type": "code",
      "metadata": {
        "id": "IUbrNR9NqyQR",
        "colab_type": "code",
        "colab": {}
      },
      "source": [
        "spdups = duplicateRowsDF[duplicateRowsDF['job_type'] == 'Special Projects']\n",
        "itspc10 = sum(spdups['invoice_total'])"
      ],
      "execution_count": 0,
      "outputs": []
    },
    {
      "cell_type": "code",
      "metadata": {
        "id": "FI2sw_tJq4VY",
        "colab_type": "code",
        "colab": {}
      },
      "source": [
        "whdups = duplicateRowsDF[duplicateRowsDF['job_type'] == 'Water Hauling']\n",
        "itwhc10 = sum(whdups['invoice_total'])"
      ],
      "execution_count": 0,
      "outputs": []
    },
    {
      "cell_type": "code",
      "metadata": {
        "id": "Cg2oOU2Cq97y",
        "colab_type": "code",
        "colab": {}
      },
      "source": [
        "fbdups = duplicateRowsDF[duplicateRowsDF['job_type'] == 'Flowback']\n",
        "itfbc10 = sum(fbdups['invoice_total'])"
      ],
      "execution_count": 0,
      "outputs": []
    },
    {
      "cell_type": "code",
      "metadata": {
        "id": "WT8Nm5GGrEtB",
        "colab_type": "code",
        "outputId": "6003080b-60ca-45ee-f606-7040e2e69ec1",
        "colab": {
          "base_uri": "https://localhost:8080/",
          "height": 34
        }
      },
      "source": [
        "itc10 = itspc10 + itwhc10 + itfbc10\n",
        "print(f'Customer 10 spending summary: Special Projects {itspc10}, Water Hauling {itwhc10}, Flowback {itfbc10}, Total {itc10}')"
      ],
      "execution_count": 39,
      "outputs": [
        {
          "output_type": "stream",
          "text": [
            "Customer 10 spending summary: Special Projects 5525745.799999991, Water Hauling 417569702.1700188, Flowback 0, Total 423095447.9700188\n"
          ],
          "name": "stdout"
        }
      ]
    },
    {
      "cell_type": "code",
      "metadata": {
        "id": "QuI-LIFOBgFh",
        "colab_type": "code",
        "colab": {}
      },
      "source": [
        "# for customer number 15\n",
        "url5 = 'https://raw.githubusercontent.com/nurfnick/Cantrell_Jackson/master/hs_customer_15.csv'\n",
        "df7 = pa.read_csv(url5)"
      ],
      "execution_count": 0,
      "outputs": []
    },
    {
      "cell_type": "code",
      "metadata": {
        "id": "izM_wWVIBq8i",
        "colab_type": "code",
        "outputId": "1e3fc0fc-fd2d-43fb-8d2d-97d584926f1d",
        "colab": {
          "base_uri": "https://localhost:8080/",
          "height": 34
        }
      },
      "source": [
        "count = df7['ticket_id'].unique,  df7['job_type'] == 'Special Projects'\n",
        "sum(count[1]*1)"
      ],
      "execution_count": 41,
      "outputs": [
        {
          "output_type": "execute_result",
          "data": {
            "text/plain": [
              "28363"
            ]
          },
          "metadata": {
            "tags": []
          },
          "execution_count": 41
        }
      ]
    },
    {
      "cell_type": "code",
      "metadata": {
        "id": "mTvx1J-rBrZk",
        "colab_type": "code",
        "outputId": "a07ee9d7-147d-474e-dca6-a9cb042665a8",
        "colab": {
          "base_uri": "https://localhost:8080/",
          "height": 34
        }
      },
      "source": [
        "count = df7['ticket_id'].unique,  df7['job_type'] == 'Water Hauling'\n",
        "sum(count[1]*1)"
      ],
      "execution_count": 42,
      "outputs": [
        {
          "output_type": "execute_result",
          "data": {
            "text/plain": [
              "94426"
            ]
          },
          "metadata": {
            "tags": []
          },
          "execution_count": 42
        }
      ]
    },
    {
      "cell_type": "code",
      "metadata": {
        "id": "ENWUBifcrbb0",
        "colab_type": "code",
        "outputId": "af57dc5b-8e2b-44fd-dfd3-fcac14e093be",
        "colab": {
          "base_uri": "https://localhost:8080/",
          "height": 255
        }
      },
      "source": [
        "df7t = np.transpose(df7)\n",
        "df7tl = ()\n",
        "df7tl = df7t[0:1].append(df7t[2:3]).append(df7t[4:6])\n",
        "df7tlt = np.transpose(df7tl)\n",
        "tab7 = pa.DataFrame(df7tlt)\n",
        "tab7n = tab7.dropna()\n",
        "duplicateRowsDF = pa.DataFrame(tab7n[tab7n.duplicated()])\n",
        "print(duplicateRowsDF)"
      ],
      "execution_count": 43,
      "outputs": [
        {
          "output_type": "stream",
          "text": [
            "       invoice_id invoice_total ticket_id          job_type\n",
            "853        182184          1276    872658     Water Hauling\n",
            "854        182184          1276    872661     Water Hauling\n",
            "915        185575         24099    947345     Water Hauling\n",
            "919        185564           560    947394     Water Hauling\n",
            "958        195672        1272.5    966255     Water Hauling\n",
            "...           ...           ...       ...               ...\n",
            "122784     338055       10979.1   1938037  Special Projects\n",
            "122785     338055       10979.1   1938038  Special Projects\n",
            "122786     338055       10979.1   1938040  Special Projects\n",
            "122787     338055       10979.1   1938042  Special Projects\n",
            "122788     338055       10979.1   1938213  Special Projects\n",
            "\n",
            "[92037 rows x 4 columns]\n"
          ],
          "name": "stdout"
        }
      ]
    },
    {
      "cell_type": "code",
      "metadata": {
        "id": "DqFBnVqMuDFx",
        "colab_type": "code",
        "colab": {}
      },
      "source": [
        "spdups = duplicateRowsDF[duplicateRowsDF['job_type'] == 'Special Projects']\n",
        "itspc15 = sum(spdups['invoice_total'])\n",
        "whdups = duplicateRowsDF[duplicateRowsDF['job_type'] == 'Water Hauling']\n",
        "itwhc15 = sum(whdups['invoice_total'])\n",
        "fbdups = duplicateRowsDF[duplicateRowsDF['job_type'] == 'Flowback']\n",
        "itfbc15 = sum(fbdups['invoice_total'])"
      ],
      "execution_count": 0,
      "outputs": []
    },
    {
      "cell_type": "code",
      "metadata": {
        "id": "z724T14LuOvT",
        "colab_type": "code",
        "outputId": "514740e1-4617-498d-82d0-c3284040a96f",
        "colab": {
          "base_uri": "https://localhost:8080/",
          "height": 34
        }
      },
      "source": [
        "itc15 = itspc15 + itwhc15 + itfbc15\n",
        "print(f'Customer 15 spending summary: Special Projects {itspc15}, Water Hauling {itwhc15}, Flowback {itfbc15}, Total {itc15}')"
      ],
      "execution_count": 45,
      "outputs": [
        {
          "output_type": "stream",
          "text": [
            "Customer 15 spending summary: Special Projects 109584889.61000091, Water Hauling 360205165.6700272, Flowback 0, Total 469790055.2800281\n"
          ],
          "name": "stdout"
        }
      ]
    },
    {
      "cell_type": "markdown",
      "metadata": {
        "id": "R_2dY1AbB0qM",
        "colab_type": "text"
      },
      "source": [
        "#customer 15 has more water hauling tickets"
      ]
    },
    {
      "cell_type": "code",
      "metadata": {
        "id": "3CteucV2B5bj",
        "colab_type": "code",
        "outputId": "6096992c-97bb-42dc-babd-b7857939b9fc",
        "colab": {
          "base_uri": "https://localhost:8080/",
          "height": 419
        }
      },
      "source": [
        "# for customer number 23\n",
        "url6 = 'https://raw.githubusercontent.com/nurfnick/Cantrell_Jackson/master/hs_customer_23.csv'\n",
        "df8 = pa.read_csv(url6)\n",
        "df8"
      ],
      "execution_count": 46,
      "outputs": [
        {
          "output_type": "execute_result",
          "data": {
            "text/html": [
              "<div>\n",
              "<style scoped>\n",
              "    .dataframe tbody tr th:only-of-type {\n",
              "        vertical-align: middle;\n",
              "    }\n",
              "\n",
              "    .dataframe tbody tr th {\n",
              "        vertical-align: top;\n",
              "    }\n",
              "\n",
              "    .dataframe thead th {\n",
              "        text-align: right;\n",
              "    }\n",
              "</style>\n",
              "<table border=\"1\" class=\"dataframe\">\n",
              "  <thead>\n",
              "    <tr style=\"text-align: right;\">\n",
              "      <th></th>\n",
              "      <th>invoice_id</th>\n",
              "      <th>hs_customer</th>\n",
              "      <th>invoice_total</th>\n",
              "      <th>invoice_time</th>\n",
              "      <th>ticket_id</th>\n",
              "      <th>job_type</th>\n",
              "      <th>ticket_date</th>\n",
              "      <th>Ticket_Item_Type</th>\n",
              "      <th>details</th>\n",
              "    </tr>\n",
              "  </thead>\n",
              "  <tbody>\n",
              "    <tr>\n",
              "      <th>0</th>\n",
              "      <td>270159</td>\n",
              "      <td>23</td>\n",
              "      <td>233.75</td>\n",
              "      <td>1556656742</td>\n",
              "      <td>1548495</td>\n",
              "      <td>Special Projects</td>\n",
              "      <td>1.556470e+09</td>\n",
              "      <td>job_description</td>\n",
              "      <td>485.0</td>\n",
              "    </tr>\n",
              "    <tr>\n",
              "      <th>1</th>\n",
              "      <td>270159</td>\n",
              "      <td>23</td>\n",
              "      <td>233.75</td>\n",
              "      <td>1556656742</td>\n",
              "      <td>1548495</td>\n",
              "      <td>Special Projects</td>\n",
              "      <td>1.556470e+09</td>\n",
              "      <td>truck</td>\n",
              "      <td>838.0</td>\n",
              "    </tr>\n",
              "    <tr>\n",
              "      <th>2</th>\n",
              "      <td>270159</td>\n",
              "      <td>23</td>\n",
              "      <td>233.75</td>\n",
              "      <td>1556656742</td>\n",
              "      <td>1548495</td>\n",
              "      <td>Special Projects</td>\n",
              "      <td>1.556470e+09</td>\n",
              "      <td>bill_bbls</td>\n",
              "      <td>15.0</td>\n",
              "    </tr>\n",
              "    <tr>\n",
              "      <th>3</th>\n",
              "      <td>270159</td>\n",
              "      <td>23</td>\n",
              "      <td>233.75</td>\n",
              "      <td>1556656742</td>\n",
              "      <td>1548495</td>\n",
              "      <td>Special Projects</td>\n",
              "      <td>1.556470e+09</td>\n",
              "      <td>bill_hours</td>\n",
              "      <td>2.0</td>\n",
              "    </tr>\n",
              "    <tr>\n",
              "      <th>4</th>\n",
              "      <td>270159</td>\n",
              "      <td>23</td>\n",
              "      <td>233.75</td>\n",
              "      <td>1556656742</td>\n",
              "      <td>1548495</td>\n",
              "      <td>Special Projects</td>\n",
              "      <td>1.556470e+09</td>\n",
              "      <td>bill_type</td>\n",
              "      <td>2.0</td>\n",
              "    </tr>\n",
              "    <tr>\n",
              "      <th>...</th>\n",
              "      <td>...</td>\n",
              "      <td>...</td>\n",
              "      <td>...</td>\n",
              "      <td>...</td>\n",
              "      <td>...</td>\n",
              "      <td>...</td>\n",
              "      <td>...</td>\n",
              "      <td>...</td>\n",
              "      <td>...</td>\n",
              "    </tr>\n",
              "    <tr>\n",
              "      <th>187480</th>\n",
              "      <td>270409</td>\n",
              "      <td>23</td>\n",
              "      <td>NaN</td>\n",
              "      <td>1556720787</td>\n",
              "      <td>1551777</td>\n",
              "      <td>Special Projects</td>\n",
              "      <td>1.556571e+09</td>\n",
              "      <td>bill_type</td>\n",
              "      <td>1.0</td>\n",
              "    </tr>\n",
              "    <tr>\n",
              "      <th>187481</th>\n",
              "      <td>270409</td>\n",
              "      <td>23</td>\n",
              "      <td>NaN</td>\n",
              "      <td>1556720787</td>\n",
              "      <td>1551777</td>\n",
              "      <td>Special Projects</td>\n",
              "      <td>1.556571e+09</td>\n",
              "      <td>job_description</td>\n",
              "      <td>469.0</td>\n",
              "    </tr>\n",
              "    <tr>\n",
              "      <th>187482</th>\n",
              "      <td>270409</td>\n",
              "      <td>23</td>\n",
              "      <td>NaN</td>\n",
              "      <td>1556720787</td>\n",
              "      <td>1551777</td>\n",
              "      <td>Special Projects</td>\n",
              "      <td>1.556571e+09</td>\n",
              "      <td>truck</td>\n",
              "      <td>1108.0</td>\n",
              "    </tr>\n",
              "    <tr>\n",
              "      <th>187483</th>\n",
              "      <td>270409</td>\n",
              "      <td>23</td>\n",
              "      <td>NaN</td>\n",
              "      <td>1556720787</td>\n",
              "      <td>1551777</td>\n",
              "      <td>Special Projects</td>\n",
              "      <td>1.556571e+09</td>\n",
              "      <td>price_per_bbl</td>\n",
              "      <td>0.0</td>\n",
              "    </tr>\n",
              "    <tr>\n",
              "      <th>187484</th>\n",
              "      <td>270409</td>\n",
              "      <td>23</td>\n",
              "      <td>NaN</td>\n",
              "      <td>1556720787</td>\n",
              "      <td>1551777</td>\n",
              "      <td>Special Projects</td>\n",
              "      <td>1.556571e+09</td>\n",
              "      <td>price_per_hour</td>\n",
              "      <td>0.0</td>\n",
              "    </tr>\n",
              "  </tbody>\n",
              "</table>\n",
              "<p>187485 rows × 9 columns</p>\n",
              "</div>"
            ],
            "text/plain": [
              "        invoice_id  hs_customer  ...  Ticket_Item_Type  details\n",
              "0           270159           23  ...   job_description    485.0\n",
              "1           270159           23  ...             truck    838.0\n",
              "2           270159           23  ...         bill_bbls     15.0\n",
              "3           270159           23  ...        bill_hours      2.0\n",
              "4           270159           23  ...         bill_type      2.0\n",
              "...            ...          ...  ...               ...      ...\n",
              "187480      270409           23  ...         bill_type      1.0\n",
              "187481      270409           23  ...   job_description    469.0\n",
              "187482      270409           23  ...             truck   1108.0\n",
              "187483      270409           23  ...     price_per_bbl      0.0\n",
              "187484      270409           23  ...    price_per_hour      0.0\n",
              "\n",
              "[187485 rows x 9 columns]"
            ]
          },
          "metadata": {
            "tags": []
          },
          "execution_count": 46
        }
      ]
    },
    {
      "cell_type": "code",
      "metadata": {
        "id": "qer5rNLBCDMO",
        "colab_type": "code",
        "outputId": "1aaef271-020c-4827-e74a-d0bd7aa7a230",
        "colab": {
          "base_uri": "https://localhost:8080/",
          "height": 34
        }
      },
      "source": [
        "count = df8['ticket_id'].unique,  df8['job_type'] == 'Special Projects'\n",
        "sum(count[1]*1)"
      ],
      "execution_count": 47,
      "outputs": [
        {
          "output_type": "execute_result",
          "data": {
            "text/plain": [
              "75939"
            ]
          },
          "metadata": {
            "tags": []
          },
          "execution_count": 47
        }
      ]
    },
    {
      "cell_type": "code",
      "metadata": {
        "id": "oLsTrprnQQD-",
        "colab_type": "code",
        "colab": {
          "base_uri": "https://localhost:8080/",
          "height": 255
        },
        "outputId": "307aeeb6-1599-4156-95cd-b900f881f848"
      },
      "source": [
        "df8t = np.transpose(df8)\n",
        "df8tl = ()\n",
        "df8tl = df8t[0:1].append(df8t[2:3]).append(df8t[4:6])\n",
        "df8tlt = np.transpose(df8tl)\n",
        "tab8 = pa.DataFrame(df8tlt)\n",
        "tab8n = tab8.dropna()\n",
        "duplicateRowsDF = pa.DataFrame(tab8n[tab8n.duplicated()])\n",
        "print(duplicateRowsDF)"
      ],
      "execution_count": 48,
      "outputs": [
        {
          "output_type": "stream",
          "text": [
            "       invoice_id invoice_total ticket_id          job_type\n",
            "1          270159        233.75   1548495  Special Projects\n",
            "2          270159        233.75   1548495  Special Projects\n",
            "3          270159        233.75   1548495  Special Projects\n",
            "4          270159        233.75   1548495  Special Projects\n",
            "5          270159        233.75   1548495  Special Projects\n",
            "...           ...           ...       ...               ...\n",
            "187417     270480        302.75   1548905  Special Projects\n",
            "187418     270480        302.75   1548905  Special Projects\n",
            "187419     270480        302.75   1548905  Special Projects\n",
            "187420     270480        302.75   1548905  Special Projects\n",
            "187421     270480        302.75   1548905  Special Projects\n",
            "\n",
            "[137222 rows x 4 columns]\n"
          ],
          "name": "stdout"
        }
      ]
    },
    {
      "cell_type": "code",
      "metadata": {
        "id": "8AbCNYslRNX4",
        "colab_type": "code",
        "colab": {}
      },
      "source": [
        "spdups = duplicateRowsDF[duplicateRowsDF['job_type'] == 'Special Projects']\n",
        "itspc23 = sum(spdups['invoice_total'])\n",
        "whdups = duplicateRowsDF[duplicateRowsDF['job_type'] == 'Water Hauling']\n",
        "itwhc23 = sum(whdups['invoice_total'])\n",
        "fbdups = duplicateRowsDF[duplicateRowsDF['job_type'] == 'Flowback']\n",
        "itfbc23 = sum(fbdups['invoice_total'])"
      ],
      "execution_count": 0,
      "outputs": []
    },
    {
      "cell_type": "code",
      "metadata": {
        "id": "nCtoy0AZRaqV",
        "colab_type": "code",
        "colab": {
          "base_uri": "https://localhost:8080/",
          "height": 34
        },
        "outputId": "5a27130a-11f6-4cb4-f489-8edbaef7da83"
      },
      "source": [
        "itc23 = itspc23 + itwhc23 + itfbc23\n",
        "print(f'Customer 15 spending summary: Special Projects {itspc23}, Water Hauling {itwhc23}, Flowback {itfbc23}, Total {itc23}')"
      ],
      "execution_count": 72,
      "outputs": [
        {
          "output_type": "stream",
          "text": [
            "Customer 15 spending summary: Special Projects 84282439.47999942, Water Hauling 103144151.50000253, Flowback 210061064.31998804, Total 397487655.29999\n"
          ],
          "name": "stdout"
        }
      ]
    },
    {
      "cell_type": "markdown",
      "metadata": {
        "id": "OX2I2iqvCJik",
        "colab_type": "text"
      },
      "source": [
        "#customer 23 has only special projects job type tickets"
      ]
    },
    {
      "cell_type": "code",
      "metadata": {
        "id": "A1FfZbhFCQWl",
        "colab_type": "code",
        "outputId": "14a56607-f267-4cae-dc84-34a4cf072f2c",
        "colab": {
          "base_uri": "https://localhost:8080/",
          "height": 419
        }
      },
      "source": [
        "# for customer number 28\n",
        "url7 = 'https://raw.githubusercontent.com/nurfnick/Cantrell_Jackson/master/hs_customer_28.csv'\n",
        "df9 = pa.read_csv(url7)\n",
        "df9"
      ],
      "execution_count": 49,
      "outputs": [
        {
          "output_type": "execute_result",
          "data": {
            "text/html": [
              "<div>\n",
              "<style scoped>\n",
              "    .dataframe tbody tr th:only-of-type {\n",
              "        vertical-align: middle;\n",
              "    }\n",
              "\n",
              "    .dataframe tbody tr th {\n",
              "        vertical-align: top;\n",
              "    }\n",
              "\n",
              "    .dataframe thead th {\n",
              "        text-align: right;\n",
              "    }\n",
              "</style>\n",
              "<table border=\"1\" class=\"dataframe\">\n",
              "  <thead>\n",
              "    <tr style=\"text-align: right;\">\n",
              "      <th></th>\n",
              "      <th>invoice_id</th>\n",
              "      <th>hs_customer</th>\n",
              "      <th>invoice_total</th>\n",
              "      <th>invoice_time</th>\n",
              "      <th>ticket_id</th>\n",
              "      <th>job_type</th>\n",
              "      <th>ticket_date</th>\n",
              "      <th>ticket_item_type</th>\n",
              "      <th>details</th>\n",
              "    </tr>\n",
              "  </thead>\n",
              "  <tbody>\n",
              "    <tr>\n",
              "      <th>0</th>\n",
              "      <td>179889</td>\n",
              "      <td>28</td>\n",
              "      <td>3998.50</td>\n",
              "      <td>1538424554</td>\n",
              "      <td>905402</td>\n",
              "      <td>Water Hauling</td>\n",
              "      <td>1.537623e+09</td>\n",
              "      <td>job_description</td>\n",
              "      <td>NaN</td>\n",
              "    </tr>\n",
              "    <tr>\n",
              "      <th>1</th>\n",
              "      <td>179904</td>\n",
              "      <td>28</td>\n",
              "      <td>2070.00</td>\n",
              "      <td>1538424554</td>\n",
              "      <td>905754</td>\n",
              "      <td>Water Hauling</td>\n",
              "      <td>1.537691e+09</td>\n",
              "      <td>job_description</td>\n",
              "      <td>NaN</td>\n",
              "    </tr>\n",
              "    <tr>\n",
              "      <th>2</th>\n",
              "      <td>179889</td>\n",
              "      <td>28</td>\n",
              "      <td>3998.50</td>\n",
              "      <td>1538424554</td>\n",
              "      <td>905756</td>\n",
              "      <td>Water Hauling</td>\n",
              "      <td>1.537691e+09</td>\n",
              "      <td>job_description</td>\n",
              "      <td>NaN</td>\n",
              "    </tr>\n",
              "    <tr>\n",
              "      <th>3</th>\n",
              "      <td>179892</td>\n",
              "      <td>28</td>\n",
              "      <td>3507.50</td>\n",
              "      <td>1538424554</td>\n",
              "      <td>905758</td>\n",
              "      <td>Water Hauling</td>\n",
              "      <td>1.537691e+09</td>\n",
              "      <td>job_description</td>\n",
              "      <td>NaN</td>\n",
              "    </tr>\n",
              "    <tr>\n",
              "      <th>4</th>\n",
              "      <td>179918</td>\n",
              "      <td>28</td>\n",
              "      <td>1152.00</td>\n",
              "      <td>1538424554</td>\n",
              "      <td>905774</td>\n",
              "      <td>Water Hauling</td>\n",
              "      <td>1.537693e+09</td>\n",
              "      <td>job_description</td>\n",
              "      <td>NaN</td>\n",
              "    </tr>\n",
              "    <tr>\n",
              "      <th>...</th>\n",
              "      <td>...</td>\n",
              "      <td>...</td>\n",
              "      <td>...</td>\n",
              "      <td>...</td>\n",
              "      <td>...</td>\n",
              "      <td>...</td>\n",
              "      <td>...</td>\n",
              "      <td>...</td>\n",
              "      <td>...</td>\n",
              "    </tr>\n",
              "    <tr>\n",
              "      <th>240618</th>\n",
              "      <td>337944</td>\n",
              "      <td>28</td>\n",
              "      <td>18268.00</td>\n",
              "      <td>1569948654</td>\n",
              "      <td>1936165</td>\n",
              "      <td>Special Projects</td>\n",
              "      <td>1.569940e+09</td>\n",
              "      <td>bill_loads</td>\n",
              "      <td>1.0</td>\n",
              "    </tr>\n",
              "    <tr>\n",
              "      <th>240619</th>\n",
              "      <td>337944</td>\n",
              "      <td>28</td>\n",
              "      <td>18268.00</td>\n",
              "      <td>1569948654</td>\n",
              "      <td>1936166</td>\n",
              "      <td>Special Projects</td>\n",
              "      <td>1.569940e+09</td>\n",
              "      <td>bill_loads</td>\n",
              "      <td>1.0</td>\n",
              "    </tr>\n",
              "    <tr>\n",
              "      <th>240620</th>\n",
              "      <td>337945</td>\n",
              "      <td>28</td>\n",
              "      <td>10467.25</td>\n",
              "      <td>1569948654</td>\n",
              "      <td>1936291</td>\n",
              "      <td>Special Projects</td>\n",
              "      <td>1.569941e+09</td>\n",
              "      <td>bill_loads</td>\n",
              "      <td>1.0</td>\n",
              "    </tr>\n",
              "    <tr>\n",
              "      <th>240621</th>\n",
              "      <td>337945</td>\n",
              "      <td>28</td>\n",
              "      <td>10467.25</td>\n",
              "      <td>1569948654</td>\n",
              "      <td>1936315</td>\n",
              "      <td>Special Projects</td>\n",
              "      <td>1.569942e+09</td>\n",
              "      <td>bill_loads</td>\n",
              "      <td>1.0</td>\n",
              "    </tr>\n",
              "    <tr>\n",
              "      <th>240622</th>\n",
              "      <td>337945</td>\n",
              "      <td>28</td>\n",
              "      <td>10467.25</td>\n",
              "      <td>1569948654</td>\n",
              "      <td>1936685</td>\n",
              "      <td>Special Projects</td>\n",
              "      <td>1.569944e+09</td>\n",
              "      <td>bill_loads</td>\n",
              "      <td>1.0</td>\n",
              "    </tr>\n",
              "  </tbody>\n",
              "</table>\n",
              "<p>240623 rows × 9 columns</p>\n",
              "</div>"
            ],
            "text/plain": [
              "        invoice_id  hs_customer  ...  ticket_item_type  details\n",
              "0           179889           28  ...   job_description      NaN\n",
              "1           179904           28  ...   job_description      NaN\n",
              "2           179889           28  ...   job_description      NaN\n",
              "3           179892           28  ...   job_description      NaN\n",
              "4           179918           28  ...   job_description      NaN\n",
              "...            ...          ...  ...               ...      ...\n",
              "240618      337944           28  ...        bill_loads      1.0\n",
              "240619      337944           28  ...        bill_loads      1.0\n",
              "240620      337945           28  ...        bill_loads      1.0\n",
              "240621      337945           28  ...        bill_loads      1.0\n",
              "240622      337945           28  ...        bill_loads      1.0\n",
              "\n",
              "[240623 rows x 9 columns]"
            ]
          },
          "metadata": {
            "tags": []
          },
          "execution_count": 49
        }
      ]
    },
    {
      "cell_type": "code",
      "metadata": {
        "id": "8kAV0mHYCaI1",
        "colab_type": "code",
        "outputId": "19fdfb91-1530-4c43-ac02-8c0fe7eed3d2",
        "colab": {
          "base_uri": "https://localhost:8080/",
          "height": 34
        }
      },
      "source": [
        "count = df9['ticket_id'].unique,  df9['job_type'] == 'Special Projects'\n",
        "sum(count[1]*1)"
      ],
      "execution_count": 50,
      "outputs": [
        {
          "output_type": "execute_result",
          "data": {
            "text/plain": [
              "12666"
            ]
          },
          "metadata": {
            "tags": []
          },
          "execution_count": 50
        }
      ]
    },
    {
      "cell_type": "code",
      "metadata": {
        "id": "M3jPDrv7CaTk",
        "colab_type": "code",
        "outputId": "8adfa986-b567-4036-a108-e35c9b5b4231",
        "colab": {
          "base_uri": "https://localhost:8080/",
          "height": 34
        }
      },
      "source": [
        "count = df9['ticket_id'].unique,  df9['job_type'] == 'Water Hauling'\n",
        "sum(count[1]*1)"
      ],
      "execution_count": 51,
      "outputs": [
        {
          "output_type": "execute_result",
          "data": {
            "text/plain": [
              "227957"
            ]
          },
          "metadata": {
            "tags": []
          },
          "execution_count": 51
        }
      ]
    },
    {
      "cell_type": "code",
      "metadata": {
        "id": "w_AEaQT1Rszv",
        "colab_type": "code",
        "colab": {}
      },
      "source": [
        "df8t = np.transpose(df8)\n",
        "df8tl = ()\n",
        "df8tl = df8t[0:1].append(df8t[2:3]).append(df8t[4:6])\n",
        "df8tlt = np.transpose(df8tl)\n",
        "tab8 = pa.DataFrame(df8tlt)\n",
        "tab8n = tab8.dropna()\n",
        "duplicateRowsDF = pa.DataFrame(tab8n[tab8n.duplicated()])\n",
        "print(duplicateRowsDF)"
      ],
      "execution_count": 0,
      "outputs": []
    },
    {
      "cell_type": "markdown",
      "metadata": {
        "id": "uJbhkp7lCkYO",
        "colab_type": "text"
      },
      "source": [
        "#customer 28 has more water hauling job type tickets"
      ]
    },
    {
      "cell_type": "code",
      "metadata": {
        "id": "kajvPzukCrbv",
        "colab_type": "code",
        "outputId": "41b49c1f-5e91-47d0-813d-1c29e731b7dd",
        "colab": {
          "base_uri": "https://localhost:8080/",
          "height": 0
        }
      },
      "source": [
        "# for customer number 34\n",
        "url8 = 'https://raw.githubusercontent.com/nurfnick/Cantrell_Jackson/master/hs_customer_34.csv'\n",
        "df10 = pa.read_csv(url8)\n",
        "df10"
      ],
      "execution_count": 52,
      "outputs": [
        {
          "output_type": "execute_result",
          "data": {
            "text/html": [
              "<div>\n",
              "<style scoped>\n",
              "    .dataframe tbody tr th:only-of-type {\n",
              "        vertical-align: middle;\n",
              "    }\n",
              "\n",
              "    .dataframe tbody tr th {\n",
              "        vertical-align: top;\n",
              "    }\n",
              "\n",
              "    .dataframe thead th {\n",
              "        text-align: right;\n",
              "    }\n",
              "</style>\n",
              "<table border=\"1\" class=\"dataframe\">\n",
              "  <thead>\n",
              "    <tr style=\"text-align: right;\">\n",
              "      <th></th>\n",
              "      <th>invoice_id</th>\n",
              "      <th>hs_customer</th>\n",
              "      <th>invoice_total</th>\n",
              "      <th>invoice_time</th>\n",
              "      <th>ticket_id</th>\n",
              "      <th>job_type</th>\n",
              "      <th>ticket_date</th>\n",
              "      <th>Ticket_Item_Type</th>\n",
              "      <th>details</th>\n",
              "    </tr>\n",
              "  </thead>\n",
              "  <tbody>\n",
              "    <tr>\n",
              "      <th>0</th>\n",
              "      <td>269968</td>\n",
              "      <td>34</td>\n",
              "      <td>210.0</td>\n",
              "      <td>1556600400</td>\n",
              "      <td>1552709</td>\n",
              "      <td>Special Projects</td>\n",
              "      <td>1556575346</td>\n",
              "      <td>job_description</td>\n",
              "      <td>1383.0</td>\n",
              "    </tr>\n",
              "    <tr>\n",
              "      <th>1</th>\n",
              "      <td>269968</td>\n",
              "      <td>34</td>\n",
              "      <td>210.0</td>\n",
              "      <td>1556600400</td>\n",
              "      <td>1552709</td>\n",
              "      <td>Special Projects</td>\n",
              "      <td>1556575346</td>\n",
              "      <td>truck</td>\n",
              "      <td>2340.0</td>\n",
              "    </tr>\n",
              "    <tr>\n",
              "      <th>2</th>\n",
              "      <td>269968</td>\n",
              "      <td>34</td>\n",
              "      <td>210.0</td>\n",
              "      <td>1556600400</td>\n",
              "      <td>1552709</td>\n",
              "      <td>Special Projects</td>\n",
              "      <td>1556575346</td>\n",
              "      <td>bill_bbls</td>\n",
              "      <td>0.0</td>\n",
              "    </tr>\n",
              "    <tr>\n",
              "      <th>3</th>\n",
              "      <td>269968</td>\n",
              "      <td>34</td>\n",
              "      <td>210.0</td>\n",
              "      <td>1556600400</td>\n",
              "      <td>1552709</td>\n",
              "      <td>Special Projects</td>\n",
              "      <td>1556575346</td>\n",
              "      <td>bill_hours</td>\n",
              "      <td>2.0</td>\n",
              "    </tr>\n",
              "    <tr>\n",
              "      <th>4</th>\n",
              "      <td>269968</td>\n",
              "      <td>34</td>\n",
              "      <td>210.0</td>\n",
              "      <td>1556600400</td>\n",
              "      <td>1552709</td>\n",
              "      <td>Special Projects</td>\n",
              "      <td>1556575346</td>\n",
              "      <td>bill_type</td>\n",
              "      <td>2.0</td>\n",
              "    </tr>\n",
              "    <tr>\n",
              "      <th>...</th>\n",
              "      <td>...</td>\n",
              "      <td>...</td>\n",
              "      <td>...</td>\n",
              "      <td>...</td>\n",
              "      <td>...</td>\n",
              "      <td>...</td>\n",
              "      <td>...</td>\n",
              "      <td>...</td>\n",
              "      <td>...</td>\n",
              "    </tr>\n",
              "    <tr>\n",
              "      <th>120552</th>\n",
              "      <td>270966</td>\n",
              "      <td>34</td>\n",
              "      <td>4284.0</td>\n",
              "      <td>1556686800</td>\n",
              "      <td>1550390</td>\n",
              "      <td>Water Hauling</td>\n",
              "      <td>1556559081</td>\n",
              "      <td>bill_bbls</td>\n",
              "      <td>140.0</td>\n",
              "    </tr>\n",
              "    <tr>\n",
              "      <th>120553</th>\n",
              "      <td>270966</td>\n",
              "      <td>34</td>\n",
              "      <td>4284.0</td>\n",
              "      <td>1556686800</td>\n",
              "      <td>1550417</td>\n",
              "      <td>Water Hauling</td>\n",
              "      <td>1556559192</td>\n",
              "      <td>bill_bbls</td>\n",
              "      <td>140.0</td>\n",
              "    </tr>\n",
              "    <tr>\n",
              "      <th>120554</th>\n",
              "      <td>270966</td>\n",
              "      <td>34</td>\n",
              "      <td>4284.0</td>\n",
              "      <td>1556686800</td>\n",
              "      <td>1556015</td>\n",
              "      <td>Water Hauling</td>\n",
              "      <td>1556660422</td>\n",
              "      <td>bill_bbls</td>\n",
              "      <td>140.0</td>\n",
              "    </tr>\n",
              "    <tr>\n",
              "      <th>120555</th>\n",
              "      <td>270966</td>\n",
              "      <td>34</td>\n",
              "      <td>4284.0</td>\n",
              "      <td>1556686800</td>\n",
              "      <td>1556066</td>\n",
              "      <td>Water Hauling</td>\n",
              "      <td>1556661111</td>\n",
              "      <td>bill_bbls</td>\n",
              "      <td>140.0</td>\n",
              "    </tr>\n",
              "    <tr>\n",
              "      <th>120556</th>\n",
              "      <td>270966</td>\n",
              "      <td>34</td>\n",
              "      <td>4284.0</td>\n",
              "      <td>1556686800</td>\n",
              "      <td>1557170</td>\n",
              "      <td>Water Hauling</td>\n",
              "      <td>1556719299</td>\n",
              "      <td>bill_bbls</td>\n",
              "      <td>140.0</td>\n",
              "    </tr>\n",
              "  </tbody>\n",
              "</table>\n",
              "<p>120557 rows × 9 columns</p>\n",
              "</div>"
            ],
            "text/plain": [
              "        invoice_id  hs_customer  ...  Ticket_Item_Type  details\n",
              "0           269968           34  ...   job_description   1383.0\n",
              "1           269968           34  ...             truck   2340.0\n",
              "2           269968           34  ...         bill_bbls      0.0\n",
              "3           269968           34  ...        bill_hours      2.0\n",
              "4           269968           34  ...         bill_type      2.0\n",
              "...            ...          ...  ...               ...      ...\n",
              "120552      270966           34  ...         bill_bbls    140.0\n",
              "120553      270966           34  ...         bill_bbls    140.0\n",
              "120554      270966           34  ...         bill_bbls    140.0\n",
              "120555      270966           34  ...         bill_bbls    140.0\n",
              "120556      270966           34  ...         bill_bbls    140.0\n",
              "\n",
              "[120557 rows x 9 columns]"
            ]
          },
          "metadata": {
            "tags": []
          },
          "execution_count": 52
        }
      ]
    },
    {
      "cell_type": "code",
      "metadata": {
        "id": "qtC6imMJC4Mv",
        "colab_type": "code",
        "outputId": "966065c1-c9eb-4ffa-9fc0-67b44e396dc3",
        "colab": {
          "base_uri": "https://localhost:8080/",
          "height": 0
        }
      },
      "source": [
        "count = df10['ticket_id'].unique,  df10['job_type'] == 'Special Projects'\n",
        "sum(count[1]*1)"
      ],
      "execution_count": 53,
      "outputs": [
        {
          "output_type": "execute_result",
          "data": {
            "text/plain": [
              "9616"
            ]
          },
          "metadata": {
            "tags": []
          },
          "execution_count": 53
        }
      ]
    },
    {
      "cell_type": "code",
      "metadata": {
        "id": "tzZzoXCnC4Yn",
        "colab_type": "code",
        "outputId": "5b964e78-f1f7-436f-9116-257e3bf2c18d",
        "colab": {
          "base_uri": "https://localhost:8080/",
          "height": 0
        }
      },
      "source": [
        "count = df10['ticket_id'].unique,  df10['job_type'] == 'Water Hauling'\n",
        "sum(count[1]*1)"
      ],
      "execution_count": 54,
      "outputs": [
        {
          "output_type": "execute_result",
          "data": {
            "text/plain": [
              "80936"
            ]
          },
          "metadata": {
            "tags": []
          },
          "execution_count": 54
        }
      ]
    },
    {
      "cell_type": "markdown",
      "metadata": {
        "id": "vF18CmRrDBOw",
        "colab_type": "text"
      },
      "source": [
        "#customer 34 has more water hauling job type tickets\n"
      ]
    },
    {
      "cell_type": "code",
      "metadata": {
        "id": "CLT1bXaIDHVg",
        "colab_type": "code",
        "outputId": "60126ec3-3182-433a-f074-f62511157c96",
        "colab": {
          "base_uri": "https://localhost:8080/",
          "height": 0
        }
      },
      "source": [
        "# for customer number 37\n",
        "url9 = 'https://raw.githubusercontent.com/nurfnick/Cantrell_Jackson/master/hs_customer_37.csv'\n",
        "df11 = pa.read_csv(url9)\n",
        "df11"
      ],
      "execution_count": 55,
      "outputs": [
        {
          "output_type": "execute_result",
          "data": {
            "text/html": [
              "<div>\n",
              "<style scoped>\n",
              "    .dataframe tbody tr th:only-of-type {\n",
              "        vertical-align: middle;\n",
              "    }\n",
              "\n",
              "    .dataframe tbody tr th {\n",
              "        vertical-align: top;\n",
              "    }\n",
              "\n",
              "    .dataframe thead th {\n",
              "        text-align: right;\n",
              "    }\n",
              "</style>\n",
              "<table border=\"1\" class=\"dataframe\">\n",
              "  <thead>\n",
              "    <tr style=\"text-align: right;\">\n",
              "      <th></th>\n",
              "      <th>invoice_id</th>\n",
              "      <th>hs_customer</th>\n",
              "      <th>invoice_total</th>\n",
              "      <th>invoice_time</th>\n",
              "      <th>ticket_id</th>\n",
              "      <th>job_type</th>\n",
              "      <th>ticket_date</th>\n",
              "      <th>Ticket_Item_Type</th>\n",
              "      <th>details</th>\n",
              "    </tr>\n",
              "  </thead>\n",
              "  <tbody>\n",
              "    <tr>\n",
              "      <th>0</th>\n",
              "      <td>269512</td>\n",
              "      <td>37</td>\n",
              "      <td>574.00</td>\n",
              "      <td>1556552544</td>\n",
              "      <td>1531590</td>\n",
              "      <td>Flowback</td>\n",
              "      <td>1555958780</td>\n",
              "      <td>bill_type</td>\n",
              "      <td>1.0</td>\n",
              "    </tr>\n",
              "    <tr>\n",
              "      <th>1</th>\n",
              "      <td>269512</td>\n",
              "      <td>37</td>\n",
              "      <td>574.00</td>\n",
              "      <td>1556552544</td>\n",
              "      <td>1531590</td>\n",
              "      <td>Flowback</td>\n",
              "      <td>1555958780</td>\n",
              "      <td>bill_bbls</td>\n",
              "      <td>140.0</td>\n",
              "    </tr>\n",
              "    <tr>\n",
              "      <th>2</th>\n",
              "      <td>269512</td>\n",
              "      <td>37</td>\n",
              "      <td>574.00</td>\n",
              "      <td>1556552544</td>\n",
              "      <td>1504058</td>\n",
              "      <td>Flowback</td>\n",
              "      <td>1554922445</td>\n",
              "      <td>job_description</td>\n",
              "      <td>1772.0</td>\n",
              "    </tr>\n",
              "    <tr>\n",
              "      <th>3</th>\n",
              "      <td>269512</td>\n",
              "      <td>37</td>\n",
              "      <td>574.00</td>\n",
              "      <td>1556552544</td>\n",
              "      <td>1504058</td>\n",
              "      <td>Flowback</td>\n",
              "      <td>1554922445</td>\n",
              "      <td>bill_type</td>\n",
              "      <td>1.0</td>\n",
              "    </tr>\n",
              "    <tr>\n",
              "      <th>4</th>\n",
              "      <td>269512</td>\n",
              "      <td>37</td>\n",
              "      <td>574.00</td>\n",
              "      <td>1556552544</td>\n",
              "      <td>1504058</td>\n",
              "      <td>Flowback</td>\n",
              "      <td>1554922445</td>\n",
              "      <td>bill_bbls</td>\n",
              "      <td>140.0</td>\n",
              "    </tr>\n",
              "    <tr>\n",
              "      <th>...</th>\n",
              "      <td>...</td>\n",
              "      <td>...</td>\n",
              "      <td>...</td>\n",
              "      <td>...</td>\n",
              "      <td>...</td>\n",
              "      <td>...</td>\n",
              "      <td>...</td>\n",
              "      <td>...</td>\n",
              "      <td>...</td>\n",
              "    </tr>\n",
              "    <tr>\n",
              "      <th>39237</th>\n",
              "      <td>270649</td>\n",
              "      <td>37</td>\n",
              "      <td>16905.67</td>\n",
              "      <td>1556726702</td>\n",
              "      <td>1525383</td>\n",
              "      <td>Special Projects</td>\n",
              "      <td>1555621864</td>\n",
              "      <td>bill_hours</td>\n",
              "      <td>0.0</td>\n",
              "    </tr>\n",
              "    <tr>\n",
              "      <th>39238</th>\n",
              "      <td>270649</td>\n",
              "      <td>37</td>\n",
              "      <td>16905.67</td>\n",
              "      <td>1556726702</td>\n",
              "      <td>1541080</td>\n",
              "      <td>Water Hauling</td>\n",
              "      <td>1556132258</td>\n",
              "      <td>job_description</td>\n",
              "      <td>NaN</td>\n",
              "    </tr>\n",
              "    <tr>\n",
              "      <th>39239</th>\n",
              "      <td>270649</td>\n",
              "      <td>37</td>\n",
              "      <td>16905.67</td>\n",
              "      <td>1556726702</td>\n",
              "      <td>1529470</td>\n",
              "      <td>Special Projects</td>\n",
              "      <td>1555936730</td>\n",
              "      <td>bill_hours</td>\n",
              "      <td>3.5</td>\n",
              "    </tr>\n",
              "    <tr>\n",
              "      <th>39240</th>\n",
              "      <td>270649</td>\n",
              "      <td>37</td>\n",
              "      <td>16905.67</td>\n",
              "      <td>1556726702</td>\n",
              "      <td>1540274</td>\n",
              "      <td>Special Projects</td>\n",
              "      <td>1556126854</td>\n",
              "      <td>bill_type</td>\n",
              "      <td>2.0</td>\n",
              "    </tr>\n",
              "    <tr>\n",
              "      <th>39241</th>\n",
              "      <td>270649</td>\n",
              "      <td>37</td>\n",
              "      <td>16905.67</td>\n",
              "      <td>1556726702</td>\n",
              "      <td>1555661</td>\n",
              "      <td>Special Projects</td>\n",
              "      <td>1556652390</td>\n",
              "      <td>job_description</td>\n",
              "      <td>1866.0</td>\n",
              "    </tr>\n",
              "  </tbody>\n",
              "</table>\n",
              "<p>39242 rows × 9 columns</p>\n",
              "</div>"
            ],
            "text/plain": [
              "       invoice_id  hs_customer  ...  Ticket_Item_Type  details\n",
              "0          269512           37  ...         bill_type      1.0\n",
              "1          269512           37  ...         bill_bbls    140.0\n",
              "2          269512           37  ...   job_description   1772.0\n",
              "3          269512           37  ...         bill_type      1.0\n",
              "4          269512           37  ...         bill_bbls    140.0\n",
              "...           ...          ...  ...               ...      ...\n",
              "39237      270649           37  ...        bill_hours      0.0\n",
              "39238      270649           37  ...   job_description      NaN\n",
              "39239      270649           37  ...        bill_hours      3.5\n",
              "39240      270649           37  ...         bill_type      2.0\n",
              "39241      270649           37  ...   job_description   1866.0\n",
              "\n",
              "[39242 rows x 9 columns]"
            ]
          },
          "metadata": {
            "tags": []
          },
          "execution_count": 55
        }
      ]
    },
    {
      "cell_type": "code",
      "metadata": {
        "id": "D-rp_s1wDS4B",
        "colab_type": "code",
        "outputId": "96964d0f-9a40-4db2-884f-9d7e22b8ceb6",
        "colab": {
          "base_uri": "https://localhost:8080/",
          "height": 0
        }
      },
      "source": [
        "count = df11['ticket_id'].unique,  df11['job_type'] == 'Flowback'\n",
        "sum(count[1]*1)"
      ],
      "execution_count": 56,
      "outputs": [
        {
          "output_type": "execute_result",
          "data": {
            "text/plain": [
              "17323"
            ]
          },
          "metadata": {
            "tags": []
          },
          "execution_count": 56
        }
      ]
    },
    {
      "cell_type": "code",
      "metadata": {
        "id": "E71RX3hTDTCp",
        "colab_type": "code",
        "outputId": "922984de-6344-4011-c2db-ff3f3e65732e",
        "colab": {
          "base_uri": "https://localhost:8080/",
          "height": 0
        }
      },
      "source": [
        "count = df11['ticket_id'].unique,  df11['job_type'] == 'Special Projects'\n",
        "sum(count[1]*1)"
      ],
      "execution_count": 57,
      "outputs": [
        {
          "output_type": "execute_result",
          "data": {
            "text/plain": [
              "5873"
            ]
          },
          "metadata": {
            "tags": []
          },
          "execution_count": 57
        }
      ]
    },
    {
      "cell_type": "code",
      "metadata": {
        "id": "uUVnS6VLDTN5",
        "colab_type": "code",
        "outputId": "4e338ed6-b419-4711-810f-20c1c0732148",
        "colab": {
          "base_uri": "https://localhost:8080/",
          "height": 0
        }
      },
      "source": [
        "count = df11['ticket_id'].unique,  df11['job_type'] == 'Water Hauling'\n",
        "sum(count[1]*1)"
      ],
      "execution_count": 58,
      "outputs": [
        {
          "output_type": "execute_result",
          "data": {
            "text/plain": [
              "16046"
            ]
          },
          "metadata": {
            "tags": []
          },
          "execution_count": 58
        }
      ]
    },
    {
      "cell_type": "markdown",
      "metadata": {
        "id": "i0BQ8fiBDkdI",
        "colab_type": "text"
      },
      "source": [
        "#customer 37 has more flowback job type tickets"
      ]
    },
    {
      "cell_type": "code",
      "metadata": {
        "id": "gkK_yizsDqXV",
        "colab_type": "code",
        "outputId": "812abb40-24c9-4fcc-cb04-b5883a123d60",
        "colab": {
          "base_uri": "https://localhost:8080/",
          "height": 0
        }
      },
      "source": [
        "# for customer number 39\n",
        "url10 = 'https://raw.githubusercontent.com/nurfnick/Cantrell_Jackson/master/hs_customer_39.csv'\n",
        "df12 = pa.read_csv(url10)\n",
        "df12"
      ],
      "execution_count": 59,
      "outputs": [
        {
          "output_type": "execute_result",
          "data": {
            "text/html": [
              "<div>\n",
              "<style scoped>\n",
              "    .dataframe tbody tr th:only-of-type {\n",
              "        vertical-align: middle;\n",
              "    }\n",
              "\n",
              "    .dataframe tbody tr th {\n",
              "        vertical-align: top;\n",
              "    }\n",
              "\n",
              "    .dataframe thead th {\n",
              "        text-align: right;\n",
              "    }\n",
              "</style>\n",
              "<table border=\"1\" class=\"dataframe\">\n",
              "  <thead>\n",
              "    <tr style=\"text-align: right;\">\n",
              "      <th></th>\n",
              "      <th>invoice_id</th>\n",
              "      <th>hs_customer</th>\n",
              "      <th>invoice_total</th>\n",
              "      <th>invoice_time</th>\n",
              "      <th>ticket_id</th>\n",
              "      <th>job_type</th>\n",
              "      <th>ticket_date</th>\n",
              "      <th>Ticket_Item_Type</th>\n",
              "      <th>details</th>\n",
              "    </tr>\n",
              "  </thead>\n",
              "  <tbody>\n",
              "    <tr>\n",
              "      <th>0</th>\n",
              "      <td>270138</td>\n",
              "      <td>39</td>\n",
              "      <td>584.50</td>\n",
              "      <td>1556600400</td>\n",
              "      <td>1555676</td>\n",
              "      <td>Water Hauling</td>\n",
              "      <td>1556653477</td>\n",
              "      <td>bill_bbls</td>\n",
              "      <td>130.00</td>\n",
              "    </tr>\n",
              "    <tr>\n",
              "      <th>1</th>\n",
              "      <td>270138</td>\n",
              "      <td>39</td>\n",
              "      <td>584.50</td>\n",
              "      <td>1556600400</td>\n",
              "      <td>1542518</td>\n",
              "      <td>Water Hauling</td>\n",
              "      <td>1556199408</td>\n",
              "      <td>price_per_bbl</td>\n",
              "      <td>1.00</td>\n",
              "    </tr>\n",
              "    <tr>\n",
              "      <th>2</th>\n",
              "      <td>270138</td>\n",
              "      <td>39</td>\n",
              "      <td>584.50</td>\n",
              "      <td>1556600400</td>\n",
              "      <td>1555676</td>\n",
              "      <td>Water Hauling</td>\n",
              "      <td>1556653477</td>\n",
              "      <td>price_per_bbl</td>\n",
              "      <td>1.15</td>\n",
              "    </tr>\n",
              "    <tr>\n",
              "      <th>3</th>\n",
              "      <td>270138</td>\n",
              "      <td>39</td>\n",
              "      <td>584.50</td>\n",
              "      <td>1556600400</td>\n",
              "      <td>1542512</td>\n",
              "      <td>Water Hauling</td>\n",
              "      <td>1556199122</td>\n",
              "      <td>bill_type</td>\n",
              "      <td>1.00</td>\n",
              "    </tr>\n",
              "    <tr>\n",
              "      <th>4</th>\n",
              "      <td>270138</td>\n",
              "      <td>39</td>\n",
              "      <td>584.50</td>\n",
              "      <td>1556600400</td>\n",
              "      <td>1555676</td>\n",
              "      <td>Water Hauling</td>\n",
              "      <td>1556653477</td>\n",
              "      <td>truck</td>\n",
              "      <td>3325.00</td>\n",
              "    </tr>\n",
              "    <tr>\n",
              "      <th>...</th>\n",
              "      <td>...</td>\n",
              "      <td>...</td>\n",
              "      <td>...</td>\n",
              "      <td>...</td>\n",
              "      <td>...</td>\n",
              "      <td>...</td>\n",
              "      <td>...</td>\n",
              "      <td>...</td>\n",
              "      <td>...</td>\n",
              "    </tr>\n",
              "    <tr>\n",
              "      <th>25440</th>\n",
              "      <td>270661</td>\n",
              "      <td>39</td>\n",
              "      <td>536.25</td>\n",
              "      <td>1556686800</td>\n",
              "      <td>1542542</td>\n",
              "      <td>Water Hauling</td>\n",
              "      <td>1556200389</td>\n",
              "      <td>bill_type</td>\n",
              "      <td>2.00</td>\n",
              "    </tr>\n",
              "    <tr>\n",
              "      <th>25441</th>\n",
              "      <td>270661</td>\n",
              "      <td>39</td>\n",
              "      <td>536.25</td>\n",
              "      <td>1556686800</td>\n",
              "      <td>1541143</td>\n",
              "      <td>Water Hauling</td>\n",
              "      <td>1556132895</td>\n",
              "      <td>bill_bbls</td>\n",
              "      <td>130.00</td>\n",
              "    </tr>\n",
              "    <tr>\n",
              "      <th>25442</th>\n",
              "      <td>270661</td>\n",
              "      <td>39</td>\n",
              "      <td>536.25</td>\n",
              "      <td>1556686800</td>\n",
              "      <td>1542563</td>\n",
              "      <td>Water Hauling</td>\n",
              "      <td>1556201228</td>\n",
              "      <td>price_per_bbl</td>\n",
              "      <td>65.00</td>\n",
              "    </tr>\n",
              "    <tr>\n",
              "      <th>25443</th>\n",
              "      <td>270661</td>\n",
              "      <td>39</td>\n",
              "      <td>536.25</td>\n",
              "      <td>1556686800</td>\n",
              "      <td>1542542</td>\n",
              "      <td>Water Hauling</td>\n",
              "      <td>1556200389</td>\n",
              "      <td>price_per_bbl</td>\n",
              "      <td>65.00</td>\n",
              "    </tr>\n",
              "    <tr>\n",
              "      <th>25444</th>\n",
              "      <td>270661</td>\n",
              "      <td>39</td>\n",
              "      <td>536.25</td>\n",
              "      <td>1556686800</td>\n",
              "      <td>1542542</td>\n",
              "      <td>Water Hauling</td>\n",
              "      <td>1556200389</td>\n",
              "      <td>truck</td>\n",
              "      <td>3333.00</td>\n",
              "    </tr>\n",
              "  </tbody>\n",
              "</table>\n",
              "<p>25445 rows × 9 columns</p>\n",
              "</div>"
            ],
            "text/plain": [
              "       invoice_id  hs_customer  ...  Ticket_Item_Type  details\n",
              "0          270138           39  ...         bill_bbls   130.00\n",
              "1          270138           39  ...     price_per_bbl     1.00\n",
              "2          270138           39  ...     price_per_bbl     1.15\n",
              "3          270138           39  ...         bill_type     1.00\n",
              "4          270138           39  ...             truck  3325.00\n",
              "...           ...          ...  ...               ...      ...\n",
              "25440      270661           39  ...         bill_type     2.00\n",
              "25441      270661           39  ...         bill_bbls   130.00\n",
              "25442      270661           39  ...     price_per_bbl    65.00\n",
              "25443      270661           39  ...     price_per_bbl    65.00\n",
              "25444      270661           39  ...             truck  3333.00\n",
              "\n",
              "[25445 rows x 9 columns]"
            ]
          },
          "metadata": {
            "tags": []
          },
          "execution_count": 59
        }
      ]
    },
    {
      "cell_type": "code",
      "metadata": {
        "id": "LwJKKUPJD0ou",
        "colab_type": "code",
        "outputId": "4597c57b-427c-4e00-cb45-430a23101578",
        "colab": {
          "base_uri": "https://localhost:8080/",
          "height": 0
        }
      },
      "source": [
        "count = df12['ticket_id'].unique,  df12['job_type'] == 'Water Hauling'\n",
        "sum(count[1]*1)"
      ],
      "execution_count": 60,
      "outputs": [
        {
          "output_type": "execute_result",
          "data": {
            "text/plain": [
              "24169"
            ]
          },
          "metadata": {
            "tags": []
          },
          "execution_count": 60
        }
      ]
    },
    {
      "cell_type": "markdown",
      "metadata": {
        "id": "Ag9_vkp8D5Xu",
        "colab_type": "text"
      },
      "source": [
        "#customer 39 only has water hauling job type tickets"
      ]
    },
    {
      "cell_type": "code",
      "metadata": {
        "id": "V-oB7rctD93v",
        "colab_type": "code",
        "outputId": "5d1d3978-6164-4a83-b67a-d8bfd6790ecc",
        "colab": {
          "base_uri": "https://localhost:8080/",
          "height": 0
        }
      },
      "source": [
        "# for customer number 41\n",
        "url11 = 'https://raw.githubusercontent.com/nurfnick/Cantrell_Jackson/master/hs_customer_41.csv'\n",
        "df13 = pa.read_csv(url11)\n",
        "df13"
      ],
      "execution_count": 61,
      "outputs": [
        {
          "output_type": "execute_result",
          "data": {
            "text/html": [
              "<div>\n",
              "<style scoped>\n",
              "    .dataframe tbody tr th:only-of-type {\n",
              "        vertical-align: middle;\n",
              "    }\n",
              "\n",
              "    .dataframe tbody tr th {\n",
              "        vertical-align: top;\n",
              "    }\n",
              "\n",
              "    .dataframe thead th {\n",
              "        text-align: right;\n",
              "    }\n",
              "</style>\n",
              "<table border=\"1\" class=\"dataframe\">\n",
              "  <thead>\n",
              "    <tr style=\"text-align: right;\">\n",
              "      <th></th>\n",
              "      <th>invoice_id</th>\n",
              "      <th>hs_customer</th>\n",
              "      <th>invoice_total</th>\n",
              "      <th>invoice_time</th>\n",
              "      <th>ticket_id</th>\n",
              "      <th>job_type</th>\n",
              "      <th>ticket_date</th>\n",
              "      <th>Ticket_Item_Type</th>\n",
              "      <th>details</th>\n",
              "    </tr>\n",
              "  </thead>\n",
              "  <tbody>\n",
              "    <tr>\n",
              "      <th>0</th>\n",
              "      <td>337858</td>\n",
              "      <td>41</td>\n",
              "      <td>17642.75</td>\n",
              "      <td>1569934512</td>\n",
              "      <td>1912944</td>\n",
              "      <td>Special Projects</td>\n",
              "      <td>1569015097</td>\n",
              "      <td>job_description</td>\n",
              "      <td>1888.0</td>\n",
              "    </tr>\n",
              "    <tr>\n",
              "      <th>1</th>\n",
              "      <td>337858</td>\n",
              "      <td>41</td>\n",
              "      <td>17642.75</td>\n",
              "      <td>1569934512</td>\n",
              "      <td>1912949</td>\n",
              "      <td>Special Projects</td>\n",
              "      <td>1569015177</td>\n",
              "      <td>job_description</td>\n",
              "      <td>1888.0</td>\n",
              "    </tr>\n",
              "    <tr>\n",
              "      <th>2</th>\n",
              "      <td>337858</td>\n",
              "      <td>41</td>\n",
              "      <td>17642.75</td>\n",
              "      <td>1569934512</td>\n",
              "      <td>1912979</td>\n",
              "      <td>Special Projects</td>\n",
              "      <td>1569015999</td>\n",
              "      <td>job_description</td>\n",
              "      <td>1888.0</td>\n",
              "    </tr>\n",
              "    <tr>\n",
              "      <th>3</th>\n",
              "      <td>337858</td>\n",
              "      <td>41</td>\n",
              "      <td>17642.75</td>\n",
              "      <td>1569934512</td>\n",
              "      <td>1921159</td>\n",
              "      <td>Special Projects</td>\n",
              "      <td>1569360699</td>\n",
              "      <td>job_description</td>\n",
              "      <td>1888.0</td>\n",
              "    </tr>\n",
              "    <tr>\n",
              "      <th>4</th>\n",
              "      <td>337858</td>\n",
              "      <td>41</td>\n",
              "      <td>17642.75</td>\n",
              "      <td>1569934512</td>\n",
              "      <td>1921174</td>\n",
              "      <td>Special Projects</td>\n",
              "      <td>1569360787</td>\n",
              "      <td>job_description</td>\n",
              "      <td>1888.0</td>\n",
              "    </tr>\n",
              "    <tr>\n",
              "      <th>...</th>\n",
              "      <td>...</td>\n",
              "      <td>...</td>\n",
              "      <td>...</td>\n",
              "      <td>...</td>\n",
              "      <td>...</td>\n",
              "      <td>...</td>\n",
              "      <td>...</td>\n",
              "      <td>...</td>\n",
              "      <td>...</td>\n",
              "    </tr>\n",
              "    <tr>\n",
              "      <th>156971</th>\n",
              "      <td>280103</td>\n",
              "      <td>41</td>\n",
              "      <td>17036.50</td>\n",
              "      <td>1558554863</td>\n",
              "      <td>1600201</td>\n",
              "      <td>Water Hauling</td>\n",
              "      <td>1558121404</td>\n",
              "      <td>job_description</td>\n",
              "      <td>NaN</td>\n",
              "    </tr>\n",
              "    <tr>\n",
              "      <th>156972</th>\n",
              "      <td>280103</td>\n",
              "      <td>41</td>\n",
              "      <td>17036.50</td>\n",
              "      <td>1558554863</td>\n",
              "      <td>1600233</td>\n",
              "      <td>Water Hauling</td>\n",
              "      <td>1558121808</td>\n",
              "      <td>job_description</td>\n",
              "      <td>NaN</td>\n",
              "    </tr>\n",
              "    <tr>\n",
              "      <th>156973</th>\n",
              "      <td>280103</td>\n",
              "      <td>41</td>\n",
              "      <td>17036.50</td>\n",
              "      <td>1558554863</td>\n",
              "      <td>1600209</td>\n",
              "      <td>Water Hauling</td>\n",
              "      <td>1558121480</td>\n",
              "      <td>job_description</td>\n",
              "      <td>NaN</td>\n",
              "    </tr>\n",
              "    <tr>\n",
              "      <th>156974</th>\n",
              "      <td>280103</td>\n",
              "      <td>41</td>\n",
              "      <td>17036.50</td>\n",
              "      <td>1558554863</td>\n",
              "      <td>1600238</td>\n",
              "      <td>Water Hauling</td>\n",
              "      <td>1558121909</td>\n",
              "      <td>job_description</td>\n",
              "      <td>NaN</td>\n",
              "    </tr>\n",
              "    <tr>\n",
              "      <th>156975</th>\n",
              "      <td>280103</td>\n",
              "      <td>41</td>\n",
              "      <td>17036.50</td>\n",
              "      <td>1558554863</td>\n",
              "      <td>1603214</td>\n",
              "      <td>Water Hauling</td>\n",
              "      <td>1558369807</td>\n",
              "      <td>job_description</td>\n",
              "      <td>NaN</td>\n",
              "    </tr>\n",
              "  </tbody>\n",
              "</table>\n",
              "<p>156976 rows × 9 columns</p>\n",
              "</div>"
            ],
            "text/plain": [
              "        invoice_id  hs_customer  ...  Ticket_Item_Type  details\n",
              "0           337858           41  ...   job_description   1888.0\n",
              "1           337858           41  ...   job_description   1888.0\n",
              "2           337858           41  ...   job_description   1888.0\n",
              "3           337858           41  ...   job_description   1888.0\n",
              "4           337858           41  ...   job_description   1888.0\n",
              "...            ...          ...  ...               ...      ...\n",
              "156971      280103           41  ...   job_description      NaN\n",
              "156972      280103           41  ...   job_description      NaN\n",
              "156973      280103           41  ...   job_description      NaN\n",
              "156974      280103           41  ...   job_description      NaN\n",
              "156975      280103           41  ...   job_description      NaN\n",
              "\n",
              "[156976 rows x 9 columns]"
            ]
          },
          "metadata": {
            "tags": []
          },
          "execution_count": 61
        }
      ]
    },
    {
      "cell_type": "code",
      "metadata": {
        "id": "x_uJJG8sEHd4",
        "colab_type": "code",
        "outputId": "3a75f4ef-2b05-4c1f-cc0a-0198b01395dc",
        "colab": {
          "base_uri": "https://localhost:8080/",
          "height": 0
        }
      },
      "source": [
        "count = df13['ticket_id'].unique,  df13['job_type'] == 'Special Projects'\n",
        "sum(count[1]*1)"
      ],
      "execution_count": 62,
      "outputs": [
        {
          "output_type": "execute_result",
          "data": {
            "text/plain": [
              "11926"
            ]
          },
          "metadata": {
            "tags": []
          },
          "execution_count": 62
        }
      ]
    },
    {
      "cell_type": "code",
      "metadata": {
        "id": "IlsYkEgBEHnm",
        "colab_type": "code",
        "outputId": "d759eb20-1edb-495e-d057-720e8ee79cf6",
        "colab": {
          "base_uri": "https://localhost:8080/",
          "height": 0
        }
      },
      "source": [
        "count = df13['ticket_id'].unique,  df13['job_type'] == 'Water Hauling'\n",
        "sum(count[1]*1)"
      ],
      "execution_count": 63,
      "outputs": [
        {
          "output_type": "execute_result",
          "data": {
            "text/plain": [
              "143380"
            ]
          },
          "metadata": {
            "tags": []
          },
          "execution_count": 63
        }
      ]
    },
    {
      "cell_type": "markdown",
      "metadata": {
        "id": "lhOEnCuxEUdX",
        "colab_type": "text"
      },
      "source": [
        "#customer 41 has more water hauling job type tickets"
      ]
    },
    {
      "cell_type": "code",
      "metadata": {
        "id": "fnLLxNsuEZL3",
        "colab_type": "code",
        "outputId": "383f5e8c-956d-4701-d3ed-1bba7085f101",
        "colab": {
          "base_uri": "https://localhost:8080/",
          "height": 0
        }
      },
      "source": [
        "# for customer number 45\n",
        "url12 = 'https://raw.githubusercontent.com/nurfnick/Cantrell_Jackson/master/hs_customer_45.csv'\n",
        "df14 = pa.read_csv(url12)\n",
        "df14"
      ],
      "execution_count": 64,
      "outputs": [
        {
          "output_type": "execute_result",
          "data": {
            "text/html": [
              "<div>\n",
              "<style scoped>\n",
              "    .dataframe tbody tr th:only-of-type {\n",
              "        vertical-align: middle;\n",
              "    }\n",
              "\n",
              "    .dataframe tbody tr th {\n",
              "        vertical-align: top;\n",
              "    }\n",
              "\n",
              "    .dataframe thead th {\n",
              "        text-align: right;\n",
              "    }\n",
              "</style>\n",
              "<table border=\"1\" class=\"dataframe\">\n",
              "  <thead>\n",
              "    <tr style=\"text-align: right;\">\n",
              "      <th></th>\n",
              "      <th>invoice_id</th>\n",
              "      <th>hs_customer</th>\n",
              "      <th>invoice_total</th>\n",
              "      <th>invoice_time</th>\n",
              "      <th>ticket_id</th>\n",
              "      <th>job_type</th>\n",
              "      <th>ticket_date</th>\n",
              "      <th>Ticket_Item_Type</th>\n",
              "      <th>details</th>\n",
              "    </tr>\n",
              "  </thead>\n",
              "  <tbody>\n",
              "    <tr>\n",
              "      <th>0</th>\n",
              "      <td>337854</td>\n",
              "      <td>45</td>\n",
              "      <td>28500.0</td>\n",
              "      <td>1569891038</td>\n",
              "      <td>1916816</td>\n",
              "      <td>Special Projects</td>\n",
              "      <td>1569257433</td>\n",
              "      <td>job_description</td>\n",
              "      <td>2011.0</td>\n",
              "    </tr>\n",
              "    <tr>\n",
              "      <th>1</th>\n",
              "      <td>337854</td>\n",
              "      <td>45</td>\n",
              "      <td>28500.0</td>\n",
              "      <td>1569891038</td>\n",
              "      <td>1916804</td>\n",
              "      <td>Special Projects</td>\n",
              "      <td>1569257353</td>\n",
              "      <td>job_description</td>\n",
              "      <td>2010.0</td>\n",
              "    </tr>\n",
              "    <tr>\n",
              "      <th>2</th>\n",
              "      <td>337854</td>\n",
              "      <td>45</td>\n",
              "      <td>28500.0</td>\n",
              "      <td>1569891038</td>\n",
              "      <td>1935017</td>\n",
              "      <td>Special Projects</td>\n",
              "      <td>1569880791</td>\n",
              "      <td>price_per_bbl</td>\n",
              "      <td>28000.0</td>\n",
              "    </tr>\n",
              "    <tr>\n",
              "      <th>3</th>\n",
              "      <td>337854</td>\n",
              "      <td>45</td>\n",
              "      <td>28500.0</td>\n",
              "      <td>1569891038</td>\n",
              "      <td>1935017</td>\n",
              "      <td>Special Projects</td>\n",
              "      <td>1569880791</td>\n",
              "      <td>price_per_hour</td>\n",
              "      <td>28000.0</td>\n",
              "    </tr>\n",
              "    <tr>\n",
              "      <th>4</th>\n",
              "      <td>337854</td>\n",
              "      <td>45</td>\n",
              "      <td>28500.0</td>\n",
              "      <td>1569891038</td>\n",
              "      <td>1935017</td>\n",
              "      <td>Special Projects</td>\n",
              "      <td>1569880791</td>\n",
              "      <td>bill_loads</td>\n",
              "      <td>1.0</td>\n",
              "    </tr>\n",
              "    <tr>\n",
              "      <th>...</th>\n",
              "      <td>...</td>\n",
              "      <td>...</td>\n",
              "      <td>...</td>\n",
              "      <td>...</td>\n",
              "      <td>...</td>\n",
              "      <td>...</td>\n",
              "      <td>...</td>\n",
              "      <td>...</td>\n",
              "      <td>...</td>\n",
              "    </tr>\n",
              "    <tr>\n",
              "      <th>8766</th>\n",
              "      <td>322694</td>\n",
              "      <td>45</td>\n",
              "      <td>118354.5</td>\n",
              "      <td>1566794981</td>\n",
              "      <td>1848499</td>\n",
              "      <td>Special Projects</td>\n",
              "      <td>1566577889</td>\n",
              "      <td>price_per_bbl</td>\n",
              "      <td>5.5</td>\n",
              "    </tr>\n",
              "    <tr>\n",
              "      <th>8767</th>\n",
              "      <td>322694</td>\n",
              "      <td>45</td>\n",
              "      <td>118354.5</td>\n",
              "      <td>1566794981</td>\n",
              "      <td>1848499</td>\n",
              "      <td>Special Projects</td>\n",
              "      <td>1566577889</td>\n",
              "      <td>bill_hours</td>\n",
              "      <td>0.0</td>\n",
              "    </tr>\n",
              "    <tr>\n",
              "      <th>8768</th>\n",
              "      <td>322694</td>\n",
              "      <td>45</td>\n",
              "      <td>118354.5</td>\n",
              "      <td>1566794981</td>\n",
              "      <td>1848499</td>\n",
              "      <td>Special Projects</td>\n",
              "      <td>1566577889</td>\n",
              "      <td>bill_type</td>\n",
              "      <td>1.0</td>\n",
              "    </tr>\n",
              "    <tr>\n",
              "      <th>8769</th>\n",
              "      <td>322694</td>\n",
              "      <td>45</td>\n",
              "      <td>118354.5</td>\n",
              "      <td>1566794981</td>\n",
              "      <td>1848499</td>\n",
              "      <td>Special Projects</td>\n",
              "      <td>1566577889</td>\n",
              "      <td>bill_bbls</td>\n",
              "      <td>21519.0</td>\n",
              "    </tr>\n",
              "    <tr>\n",
              "      <th>8770</th>\n",
              "      <td>322694</td>\n",
              "      <td>45</td>\n",
              "      <td>118354.5</td>\n",
              "      <td>1566794981</td>\n",
              "      <td>1848499</td>\n",
              "      <td>Special Projects</td>\n",
              "      <td>1566577889</td>\n",
              "      <td>truck</td>\n",
              "      <td>3666.0</td>\n",
              "    </tr>\n",
              "  </tbody>\n",
              "</table>\n",
              "<p>8771 rows × 9 columns</p>\n",
              "</div>"
            ],
            "text/plain": [
              "      invoice_id  hs_customer  ...  Ticket_Item_Type  details\n",
              "0         337854           45  ...   job_description   2011.0\n",
              "1         337854           45  ...   job_description   2010.0\n",
              "2         337854           45  ...     price_per_bbl  28000.0\n",
              "3         337854           45  ...    price_per_hour  28000.0\n",
              "4         337854           45  ...        bill_loads      1.0\n",
              "...          ...          ...  ...               ...      ...\n",
              "8766      322694           45  ...     price_per_bbl      5.5\n",
              "8767      322694           45  ...        bill_hours      0.0\n",
              "8768      322694           45  ...         bill_type      1.0\n",
              "8769      322694           45  ...         bill_bbls  21519.0\n",
              "8770      322694           45  ...             truck   3666.0\n",
              "\n",
              "[8771 rows x 9 columns]"
            ]
          },
          "metadata": {
            "tags": []
          },
          "execution_count": 64
        }
      ]
    },
    {
      "cell_type": "code",
      "metadata": {
        "id": "WnOufe7AEj1P",
        "colab_type": "code",
        "outputId": "68eb7fce-6bdb-417b-f7e6-0fc8dd8f6859",
        "colab": {
          "base_uri": "https://localhost:8080/",
          "height": 0
        }
      },
      "source": [
        "count = df14['ticket_id'].unique,  df14['job_type'] == 'Special Projects'\n",
        "sum(count[1]*1)"
      ],
      "execution_count": 65,
      "outputs": [
        {
          "output_type": "execute_result",
          "data": {
            "text/plain": [
              "8771"
            ]
          },
          "metadata": {
            "tags": []
          },
          "execution_count": 65
        }
      ]
    },
    {
      "cell_type": "markdown",
      "metadata": {
        "id": "dnqRKpR-Eppv",
        "colab_type": "text"
      },
      "source": [
        "#customer 45 only has special projects job type tickets"
      ]
    },
    {
      "cell_type": "code",
      "metadata": {
        "id": "l64hMTiAgK-2",
        "colab_type": "code",
        "colab": {}
      },
      "source": [
        "invid = df3['invoice_id'].unique()"
      ],
      "execution_count": 0,
      "outputs": []
    },
    {
      "cell_type": "markdown",
      "metadata": {
        "id": "RE9noz-MAdil",
        "colab_type": "text"
      },
      "source": [
        ""
      ]
    },
    {
      "cell_type": "code",
      "metadata": {
        "id": "Lc-g1py4gUc-",
        "colab_type": "code",
        "outputId": "446f3346-a73a-4ec2-c4a7-8e26ee064544",
        "colab": {
          "base_uri": "https://localhost:8080/",
          "height": 34
        }
      },
      "source": [
        "invid"
      ],
      "execution_count": 67,
      "outputs": [
        {
          "output_type": "execute_result",
          "data": {
            "text/plain": [
              "array([179988, 179987, 179995, ..., 190407, 185890, 185891])"
            ]
          },
          "metadata": {
            "tags": []
          },
          "execution_count": 67
        }
      ]
    },
    {
      "cell_type": "code",
      "metadata": {
        "id": "cw9U4uAklgCb",
        "colab_type": "code",
        "colab": {}
      },
      "source": [
        ""
      ],
      "execution_count": 0,
      "outputs": []
    },
    {
      "cell_type": "code",
      "metadata": {
        "id": "H6QPbeDDb9YM",
        "colab_type": "code",
        "colab": {}
      },
      "source": [
        "cust4spec = df3[df3['job_type']=='Special Projects'], df3['invoice_id'].unique, df3['ticket_id'].unique #job types that are only 'special projects'"
      ],
      "execution_count": 0,
      "outputs": []
    },
    {
      "cell_type": "code",
      "metadata": {
        "id": "H6egDzzkcZpU",
        "colab_type": "code",
        "outputId": "4603f26e-8ace-4bb5-f2cd-3bac4831a111",
        "colab": {
          "base_uri": "https://localhost:8080/",
          "height": 629
        }
      },
      "source": [
        "cust4spec"
      ],
      "execution_count": 69,
      "outputs": [
        {
          "output_type": "execute_result",
          "data": {
            "text/plain": [
              "(       invoice_id  hs_customer  ...  details         Total\n",
              " 0          179988            4  ...   1281.0  3.077606e+09\n",
              " 1          179987            4  ...   1281.0  3.077610e+09\n",
              " 2          179995            4  ...   1281.0  3.077614e+09\n",
              " 3          179978            4  ...   1281.0  3.077630e+09\n",
              " 4          180011            4  ...   1281.0  3.077945e+09\n",
              " ...           ...          ...  ...      ...           ...\n",
              " 10082      203980            4  ...     90.0  3.088333e+09\n",
              " 10083      215099            4  ...     90.0  3.092753e+09\n",
              " 10084      216904            4  ...     90.0  3.093809e+09\n",
              " 10085      222358            4  ...     90.0  3.096092e+09\n",
              " 10086      228546            4  ...     90.0  3.098327e+09\n",
              " \n",
              " [10087 rows x 10 columns], <bound method Series.unique of 0         179988\n",
              " 1         179987\n",
              " 2         179995\n",
              " 3         179978\n",
              " 4         180011\n",
              "            ...  \n",
              " 187563    223637\n",
              " 187564    223548\n",
              " 187565    223544\n",
              " 187566    223547\n",
              " 187567    223546\n",
              " Name: invoice_id, Length: 187568, dtype: int64>, <bound method Series.unique of 0          921385\n",
              " 1          921730\n",
              " 2          922145\n",
              " 3          922198\n",
              " 4          926946\n",
              "            ...   \n",
              " 187563    1254414\n",
              " 187564    1254603\n",
              " 187565    1254411\n",
              " 187566    1254609\n",
              " 187567    1254418\n",
              " Name: ticket_id, Length: 187568, dtype: int64>)"
            ]
          },
          "metadata": {
            "tags": []
          },
          "execution_count": 69
        }
      ]
    },
    {
      "cell_type": "code",
      "metadata": {
        "id": "Avk2XVAXcbgu",
        "colab_type": "code",
        "outputId": "866be6ed-293b-4be7-f8a8-8b76347c1bbd",
        "colab": {
          "base_uri": "https://localhost:8080/",
          "height": 544
        }
      },
      "source": [
        "uniques = df3['invoice_id'].unique()\n",
        "data = []\n",
        "\n",
        "for var in uniques:\n",
        "  data.append(df3[(df3['ticket_item_type']== \"job_description\" & df3['invoice_id']== var)]) "
      ],
      "execution_count": 70,
      "outputs": [
        {
          "output_type": "error",
          "ename": "TypeError",
          "evalue": "ignored",
          "traceback": [
            "\u001b[0;31m---------------------------------------------------------------------------\u001b[0m",
            "\u001b[0;31mTypeError\u001b[0m                                 Traceback (most recent call last)",
            "\u001b[0;32m/usr/local/lib/python3.6/dist-packages/pandas/core/ops/__init__.py\u001b[0m in \u001b[0;36mna_op\u001b[0;34m(x, y)\u001b[0m\n\u001b[1;32m   1253\u001b[0m         \u001b[0;32mtry\u001b[0m\u001b[0;34m:\u001b[0m\u001b[0;34m\u001b[0m\u001b[0;34m\u001b[0m\u001b[0m\n\u001b[0;32m-> 1254\u001b[0;31m             \u001b[0mresult\u001b[0m \u001b[0;34m=\u001b[0m \u001b[0mop\u001b[0m\u001b[0;34m(\u001b[0m\u001b[0mx\u001b[0m\u001b[0;34m,\u001b[0m \u001b[0my\u001b[0m\u001b[0;34m)\u001b[0m\u001b[0;34m\u001b[0m\u001b[0;34m\u001b[0m\u001b[0m\n\u001b[0m\u001b[1;32m   1255\u001b[0m         \u001b[0;32mexcept\u001b[0m \u001b[0mTypeError\u001b[0m\u001b[0;34m:\u001b[0m\u001b[0;34m\u001b[0m\u001b[0;34m\u001b[0m\u001b[0m\n",
            "\u001b[0;32m/usr/local/lib/python3.6/dist-packages/pandas/core/ops/roperator.py\u001b[0m in \u001b[0;36mrand_\u001b[0;34m(left, right)\u001b[0m\n\u001b[1;32m     52\u001b[0m \u001b[0;32mdef\u001b[0m \u001b[0mrand_\u001b[0m\u001b[0;34m(\u001b[0m\u001b[0mleft\u001b[0m\u001b[0;34m,\u001b[0m \u001b[0mright\u001b[0m\u001b[0;34m)\u001b[0m\u001b[0;34m:\u001b[0m\u001b[0;34m\u001b[0m\u001b[0;34m\u001b[0m\u001b[0m\n\u001b[0;32m---> 53\u001b[0;31m     \u001b[0;32mreturn\u001b[0m \u001b[0moperator\u001b[0m\u001b[0;34m.\u001b[0m\u001b[0mand_\u001b[0m\u001b[0;34m(\u001b[0m\u001b[0mright\u001b[0m\u001b[0;34m,\u001b[0m \u001b[0mleft\u001b[0m\u001b[0;34m)\u001b[0m\u001b[0;34m\u001b[0m\u001b[0;34m\u001b[0m\u001b[0m\n\u001b[0m\u001b[1;32m     54\u001b[0m \u001b[0;34m\u001b[0m\u001b[0m\n",
            "\u001b[0;31mTypeError\u001b[0m: ufunc 'bitwise_and' not supported for the input types, and the inputs could not be safely coerced to any supported types according to the casting rule ''safe''",
            "\nDuring handling of the above exception, another exception occurred:\n",
            "\u001b[0;31mValueError\u001b[0m                                Traceback (most recent call last)",
            "\u001b[0;32m/usr/local/lib/python3.6/dist-packages/pandas/core/ops/__init__.py\u001b[0m in \u001b[0;36mna_op\u001b[0;34m(x, y)\u001b[0m\n\u001b[1;32m   1268\u001b[0m                 \u001b[0;32mtry\u001b[0m\u001b[0;34m:\u001b[0m\u001b[0;34m\u001b[0m\u001b[0;34m\u001b[0m\u001b[0m\n\u001b[0;32m-> 1269\u001b[0;31m                     \u001b[0mresult\u001b[0m \u001b[0;34m=\u001b[0m \u001b[0mlibops\u001b[0m\u001b[0;34m.\u001b[0m\u001b[0mscalar_binop\u001b[0m\u001b[0;34m(\u001b[0m\u001b[0mx\u001b[0m\u001b[0;34m,\u001b[0m \u001b[0my\u001b[0m\u001b[0;34m,\u001b[0m \u001b[0mop\u001b[0m\u001b[0;34m)\u001b[0m\u001b[0;34m\u001b[0m\u001b[0;34m\u001b[0m\u001b[0m\n\u001b[0m\u001b[1;32m   1270\u001b[0m                 except (\n",
            "\u001b[0;32mpandas/_libs/ops.pyx\u001b[0m in \u001b[0;36mpandas._libs.ops.scalar_binop\u001b[0;34m()\u001b[0m\n",
            "\u001b[0;31mValueError\u001b[0m: Buffer dtype mismatch, expected 'Python object' but got 'long'",
            "\nDuring handling of the above exception, another exception occurred:\n",
            "\u001b[0;31mTypeError\u001b[0m                                 Traceback (most recent call last)",
            "\u001b[0;32m<ipython-input-70-583074880ef6>\u001b[0m in \u001b[0;36m<module>\u001b[0;34m()\u001b[0m\n\u001b[1;32m      3\u001b[0m \u001b[0;34m\u001b[0m\u001b[0m\n\u001b[1;32m      4\u001b[0m \u001b[0;32mfor\u001b[0m \u001b[0mvar\u001b[0m \u001b[0;32min\u001b[0m \u001b[0muniques\u001b[0m\u001b[0;34m:\u001b[0m\u001b[0;34m\u001b[0m\u001b[0;34m\u001b[0m\u001b[0m\n\u001b[0;32m----> 5\u001b[0;31m   \u001b[0mdata\u001b[0m\u001b[0;34m.\u001b[0m\u001b[0mappend\u001b[0m\u001b[0;34m(\u001b[0m\u001b[0mdf3\u001b[0m\u001b[0;34m[\u001b[0m\u001b[0;34m(\u001b[0m\u001b[0mdf3\u001b[0m\u001b[0;34m[\u001b[0m\u001b[0;34m'ticket_item_type'\u001b[0m\u001b[0;34m]\u001b[0m\u001b[0;34m==\u001b[0m \u001b[0;34m\"job_description\"\u001b[0m \u001b[0;34m&\u001b[0m \u001b[0mdf3\u001b[0m\u001b[0;34m[\u001b[0m\u001b[0;34m'invoice_id'\u001b[0m\u001b[0;34m]\u001b[0m\u001b[0;34m==\u001b[0m \u001b[0mvar\u001b[0m\u001b[0;34m)\u001b[0m\u001b[0;34m]\u001b[0m\u001b[0;34m)\u001b[0m\u001b[0;34m\u001b[0m\u001b[0;34m\u001b[0m\u001b[0m\n\u001b[0m",
            "\u001b[0;32m/usr/local/lib/python3.6/dist-packages/pandas/core/ops/__init__.py\u001b[0m in \u001b[0;36mwrapper\u001b[0;34m(self, other)\u001b[0m\n\u001b[1;32m   1319\u001b[0m         \u001b[0;31m#   integer dtypes.  Otherwise these are boolean ops\u001b[0m\u001b[0;34m\u001b[0m\u001b[0;34m\u001b[0m\u001b[0;34m\u001b[0m\u001b[0m\n\u001b[1;32m   1320\u001b[0m         \u001b[0mfiller\u001b[0m \u001b[0;34m=\u001b[0m \u001b[0mfill_int\u001b[0m \u001b[0;32mif\u001b[0m \u001b[0mis_self_int_dtype\u001b[0m \u001b[0;32mand\u001b[0m \u001b[0mis_other_int_dtype\u001b[0m \u001b[0;32melse\u001b[0m \u001b[0mfill_bool\u001b[0m\u001b[0;34m\u001b[0m\u001b[0;34m\u001b[0m\u001b[0m\n\u001b[0;32m-> 1321\u001b[0;31m         \u001b[0mres_values\u001b[0m \u001b[0;34m=\u001b[0m \u001b[0mna_op\u001b[0m\u001b[0;34m(\u001b[0m\u001b[0mself\u001b[0m\u001b[0;34m.\u001b[0m\u001b[0mvalues\u001b[0m\u001b[0;34m,\u001b[0m \u001b[0movalues\u001b[0m\u001b[0;34m)\u001b[0m\u001b[0;34m\u001b[0m\u001b[0;34m\u001b[0m\u001b[0m\n\u001b[0m\u001b[1;32m   1322\u001b[0m         \u001b[0munfilled\u001b[0m \u001b[0;34m=\u001b[0m \u001b[0mself\u001b[0m\u001b[0;34m.\u001b[0m\u001b[0m_constructor\u001b[0m\u001b[0;34m(\u001b[0m\u001b[0mres_values\u001b[0m\u001b[0;34m,\u001b[0m \u001b[0mindex\u001b[0m\u001b[0;34m=\u001b[0m\u001b[0mself\u001b[0m\u001b[0;34m.\u001b[0m\u001b[0mindex\u001b[0m\u001b[0;34m,\u001b[0m \u001b[0mname\u001b[0m\u001b[0;34m=\u001b[0m\u001b[0mres_name\u001b[0m\u001b[0;34m)\u001b[0m\u001b[0;34m\u001b[0m\u001b[0;34m\u001b[0m\u001b[0m\n\u001b[1;32m   1323\u001b[0m         \u001b[0mfilled\u001b[0m \u001b[0;34m=\u001b[0m \u001b[0mfiller\u001b[0m\u001b[0;34m(\u001b[0m\u001b[0munfilled\u001b[0m\u001b[0;34m)\u001b[0m\u001b[0;34m\u001b[0m\u001b[0;34m\u001b[0m\u001b[0m\n",
            "\u001b[0;32m/usr/local/lib/python3.6/dist-packages/pandas/core/ops/__init__.py\u001b[0m in \u001b[0;36mna_op\u001b[0;34m(x, y)\u001b[0m\n\u001b[1;32m   1278\u001b[0m                         \u001b[0;34m\"cannot compare a dtyped [{dtype}] array \"\u001b[0m\u001b[0;34m\u001b[0m\u001b[0;34m\u001b[0m\u001b[0m\n\u001b[1;32m   1279\u001b[0m                         \"with a scalar of type [{typ}]\".format(\n\u001b[0;32m-> 1280\u001b[0;31m                             \u001b[0mdtype\u001b[0m\u001b[0;34m=\u001b[0m\u001b[0mx\u001b[0m\u001b[0;34m.\u001b[0m\u001b[0mdtype\u001b[0m\u001b[0;34m,\u001b[0m \u001b[0mtyp\u001b[0m\u001b[0;34m=\u001b[0m\u001b[0mtype\u001b[0m\u001b[0;34m(\u001b[0m\u001b[0my\u001b[0m\u001b[0;34m)\u001b[0m\u001b[0;34m.\u001b[0m\u001b[0m__name__\u001b[0m\u001b[0;34m\u001b[0m\u001b[0;34m\u001b[0m\u001b[0m\n\u001b[0m\u001b[1;32m   1281\u001b[0m                         )\n\u001b[1;32m   1282\u001b[0m                     )\n",
            "\u001b[0;31mTypeError\u001b[0m: cannot compare a dtyped [int64] array with a scalar of type [bool]"
          ]
        }
      ]
    },
    {
      "cell_type": "code",
      "metadata": {
        "id": "Aa4L2TnwjlaD",
        "colab_type": "code",
        "colab": {}
      },
      "source": [
        "data"
      ],
      "execution_count": 0,
      "outputs": []
    },
    {
      "cell_type": "code",
      "metadata": {
        "id": "ATraFWxLjwmu",
        "colab_type": "code",
        "colab": {}
      },
      "source": [
        "uniques"
      ],
      "execution_count": 0,
      "outputs": []
    },
    {
      "cell_type": "code",
      "metadata": {
        "id": "C_RlG3cxkLyF",
        "colab_type": "code",
        "colab": {}
      },
      "source": [
        ""
      ],
      "execution_count": 0,
      "outputs": []
    }
  ]
}