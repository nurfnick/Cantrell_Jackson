{
  "nbformat": 4,
  "nbformat_minor": 0,
  "metadata": {
    "colab": {
      "name": "Untitled0.ipynb",
      "provenance": [],
      "include_colab_link": true
    },
    "kernelspec": {
      "name": "python3",
      "display_name": "Python 3"
    }
  },
  "cells": [
    {
      "cell_type": "markdown",
      "metadata": {
        "id": "view-in-github",
        "colab_type": "text"
      },
      "source": [
        "<a href=\"https://colab.research.google.com/github/nurfnick/Cantrell_Jackson/blob/master/MostCalls.ipynb\" target=\"_parent\"><img src=\"https://colab.research.google.com/assets/colab-badge.svg\" alt=\"Open In Colab\"/></a>"
      ]
    },
    {
      "cell_type": "code",
      "metadata": {
        "id": "5RxGfOnXBZ_Z",
        "colab_type": "code",
        "colab": {}
      },
      "source": [
        "import pandas as pa\n",
        "import numpy as np"
      ],
      "execution_count": 0,
      "outputs": []
    },
    {
      "cell_type": "code",
      "metadata": {
        "id": "OwnmdMteCOCe",
        "colab_type": "code",
        "colab": {}
      },
      "source": [
        "url = 'https://raw.githubusercontent.com/nurfnick/Cantrell_Jackson/master/Support-Oct18-Sept19.csv'"
      ],
      "execution_count": 0,
      "outputs": []
    },
    {
      "cell_type": "code",
      "metadata": {
        "id": "qbOEjxn0EfVd",
        "colab_type": "code",
        "colab": {}
      },
      "source": [
        "df2 = pa.read_csv(url)"
      ],
      "execution_count": 0,
      "outputs": []
    },
    {
      "cell_type": "code",
      "metadata": {
        "id": "D2Cm-CAubIcB",
        "colab_type": "code",
        "outputId": "0106f6b9-89d4-44bf-fb7e-a2087d0ddda5",
        "colab": {
          "base_uri": "https://localhost:8080/",
          "height": 357
        }
      },
      "source": [
        "custs = sorted(list(set(df2['HS Customer'].values.tolist())))\n",
        "for c in range(len(custs)):\n",
        "  print('Customer:', custs[c], '=', len(df2[df2['HS Customer']== custs[c]]))"
      ],
      "execution_count": 68,
      "outputs": [
        {
          "output_type": "stream",
          "text": [
            "Customer: 4 = 3\n",
            "Customer: 5 = 13\n",
            "Customer: 10 = 12\n",
            "Customer: 15 = 19\n",
            "Customer: 16 = 5\n",
            "Customer: 18 = 121\n",
            "Customer: 19 = 10\n",
            "Customer: 20 = 14\n",
            "Customer: 21 = 6\n",
            "Customer: 23 = 1\n",
            "Customer: 24 = 7\n",
            "Customer: 25 = 15\n",
            "Customer: 26 = 10\n",
            "Customer: 28 = 13\n",
            "Customer: 34 = 3\n",
            "Customer: 37 = 11\n",
            "Customer: 39 = 1\n",
            "Customer: 40 = 1\n",
            "Customer: 41 = 13\n",
            "Customer: 45 = 6\n"
          ],
          "name": "stdout"
        }
      ]
    }
  ]
}