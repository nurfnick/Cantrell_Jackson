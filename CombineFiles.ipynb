{
  "nbformat": 4,
  "nbformat_minor": 0,
  "metadata": {
    "colab": {
      "name": "Untitled0.ipynb",
      "provenance": [],
      "include_colab_link": true
    },
    "kernelspec": {
      "name": "python3",
      "display_name": "Python 3"
    }
  },
  "cells": [
    {
      "cell_type": "markdown",
      "metadata": {
        "id": "view-in-github",
        "colab_type": "text"
      },
      "source": [
        "<a href=\"https://colab.research.google.com/github/nurfnick/Cantrell_Jackson/blob/master/CombineFiles.ipynb\" target=\"_parent\"><img src=\"https://colab.research.google.com/assets/colab-badge.svg\" alt=\"Open In Colab\"/></a>"
      ]
    },
    {
      "cell_type": "code",
      "metadata": {
        "id": "5RxGfOnXBZ_Z",
        "colab_type": "code",
        "colab": {}
      },
      "source": [
        "import pandas as pa\n",
        "import numpy as np"
      ],
      "execution_count": 0,
      "outputs": []
    },
    {
      "cell_type": "code",
      "metadata": {
        "id": "OwnmdMteCOCe",
        "colab_type": "code",
        "colab": {}
      },
      "source": [
        "urls = ['https://raw.githubusercontent.com/nurfnick/Cantrell_Jackson/master/hs_customer_18_p1.csv', 'https://raw.githubusercontent.com/nurfnick/Cantrell_Jackson/master/hs_customer_18_p2.csv', 'https://raw.githubusercontent.com/nurfnick/Cantrell_Jackson/master/hs_customer_18_p3.csv']"
      ],
      "execution_count": 0,
      "outputs": []
    },
    {
      "cell_type": "code",
      "metadata": {
        "id": "EFRIpXKZZhdu",
        "colab_type": "code",
        "outputId": "08d7db17-2c14-4afd-ec43-dcae4ed25e14",
        "colab": {
          "base_uri": "https://localhost:8080/",
          "height": 540
        }
      },
      "source": [
        "df1 = pa.read_csv(urls[0])\n",
        "df2 = pa.read_csv(urls[1])\n",
        "df3 = pa.read_csv(urls[2])\n",
        "\n",
        "print('df1')\n",
        "print(df1)\n",
        "\n",
        "for line in df2:\n",
        "  list1 = []\n",
        "  for row in df2:\n",
        "    list1.append(row)\n",
        "  df = pa.DataFrame([list1])\n",
        "  ndf2 = ndf2.append(df)\n",
        "\n",
        "print(ndf2)\n",
        "df1.append(ndf2)\n",
        "\n",
        "print(df1)\n",
        "\n",
        "#ndf = df1\n",
        "#print('First!')\n",
        "#print(ndf)\n",
        "\n",
        "#for line in df3:\n",
        "#  list2 = []\n",
        "#  for row in df3:\n",
        "#    list2.append(row)\n",
        "#  tdf = pa.DataFrame(list2)\n",
        "#  ndf.append(tdf)\n",
        "\n",
        "#print('Second!')\n",
        "#print(ndf)\n",
        "\n",
        "\n",
        "#df4 = df1.append(df2)\n",
        "#combined = df4.append(df3)\n",
        "\n",
        "#combined"
      ],
      "execution_count": 61,
      "outputs": [
        {
          "output_type": "stream",
          "text": [
            "/usr/local/lib/python3.6/dist-packages/IPython/core/interactiveshell.py:2718: DtypeWarning: Columns (8) have mixed types. Specify dtype option on import or set low_memory=False.\n",
            "  interactivity=interactivity, compiler=compiler, result=result)\n"
          ],
          "name": "stderr"
        },
        {
          "output_type": "stream",
          "text": [
            "df1\n",
            "        265778  18     845  ...  1555360009  job_description   842\n",
            "0       265778  18   845.0  ...  1555360009            truck  3222\n",
            "1       265778  18   845.0  ...  1555360009        bill_bbls    80\n",
            "2       265778  18   845.0  ...  1555360009       bill_hours     3\n",
            "3       265778  18   845.0  ...  1555360009        bill_type     2\n",
            "4       265778  18   845.0  ...  1555360009   price_per_hour   115\n",
            "...        ...  ..     ...  ...         ...              ...   ...\n",
            "284543  283251  18  4023.5  ...  1557912849        bill_type     1\n",
            "284544  283251  18  4023.5  ...  1557912991        bill_type     1\n",
            "284545  283251  18  4023.5  ...  1557913014        bill_type     1\n",
            "284546  283251  18  4023.5  ...  1557939494        bill_type     1\n",
            "284547  283251  18  4023.5  ...  1557940493        bill_type     1\n",
            "\n",
            "[284548 rows x 9 columns]\n"
          ],
          "name": "stdout"
        },
        {
          "output_type": "error",
          "ename": "NameError",
          "evalue": "ignored",
          "traceback": [
            "\u001b[0;31m---------------------------------------------------------------------------\u001b[0m",
            "\u001b[0;31mNameError\u001b[0m                                 Traceback (most recent call last)",
            "\u001b[0;32m<ipython-input-61-31ad18a83ace>\u001b[0m in \u001b[0;36m<module>\u001b[0;34m()\u001b[0m\n\u001b[1;32m     11\u001b[0m     \u001b[0mlist1\u001b[0m\u001b[0;34m.\u001b[0m\u001b[0mappend\u001b[0m\u001b[0;34m(\u001b[0m\u001b[0mrow\u001b[0m\u001b[0;34m)\u001b[0m\u001b[0;34m\u001b[0m\u001b[0;34m\u001b[0m\u001b[0m\n\u001b[1;32m     12\u001b[0m   \u001b[0mdf\u001b[0m \u001b[0;34m=\u001b[0m \u001b[0mpa\u001b[0m\u001b[0;34m.\u001b[0m\u001b[0mDataFrame\u001b[0m\u001b[0;34m(\u001b[0m\u001b[0;34m[\u001b[0m\u001b[0mlist1\u001b[0m\u001b[0;34m]\u001b[0m\u001b[0;34m)\u001b[0m\u001b[0;34m\u001b[0m\u001b[0;34m\u001b[0m\u001b[0m\n\u001b[0;32m---> 13\u001b[0;31m   \u001b[0mndf2\u001b[0m \u001b[0;34m=\u001b[0m \u001b[0mndf2\u001b[0m\u001b[0;34m.\u001b[0m\u001b[0mappend\u001b[0m\u001b[0;34m(\u001b[0m\u001b[0mdf\u001b[0m\u001b[0;34m)\u001b[0m\u001b[0;34m\u001b[0m\u001b[0;34m\u001b[0m\u001b[0m\n\u001b[0m\u001b[1;32m     14\u001b[0m \u001b[0;34m\u001b[0m\u001b[0m\n\u001b[1;32m     15\u001b[0m \u001b[0mprint\u001b[0m\u001b[0;34m(\u001b[0m\u001b[0mndf2\u001b[0m\u001b[0;34m)\u001b[0m\u001b[0;34m\u001b[0m\u001b[0;34m\u001b[0m\u001b[0m\n",
            "\u001b[0;31mNameError\u001b[0m: name 'ndf2' is not defined"
          ]
        }
      ]
    },
    {
      "cell_type": "code",
      "metadata": {
        "id": "O261ryTPbR0w",
        "colab_type": "code",
        "colab": {
          "base_uri": "https://localhost:8080/",
          "height": 173
        },
        "outputId": "1446ba6d-97fd-41f4-c325-a9ff255da068"
      },
      "source": [
        "list1 = [1,2]\n",
        "list2 = [3, 4]\n",
        "df = pa.DataFrame([list1, list2])\n",
        "df\n",
        "\n",
        "df2 = pa.DataFrame([[5, 6], [7, 8]])\n",
        "df.append(df2)"
      ],
      "execution_count": 51,
      "outputs": [
        {
          "output_type": "execute_result",
          "data": {
            "text/html": [
              "<div>\n",
              "<style scoped>\n",
              "    .dataframe tbody tr th:only-of-type {\n",
              "        vertical-align: middle;\n",
              "    }\n",
              "\n",
              "    .dataframe tbody tr th {\n",
              "        vertical-align: top;\n",
              "    }\n",
              "\n",
              "    .dataframe thead th {\n",
              "        text-align: right;\n",
              "    }\n",
              "</style>\n",
              "<table border=\"1\" class=\"dataframe\">\n",
              "  <thead>\n",
              "    <tr style=\"text-align: right;\">\n",
              "      <th></th>\n",
              "      <th>0</th>\n",
              "      <th>1</th>\n",
              "    </tr>\n",
              "  </thead>\n",
              "  <tbody>\n",
              "    <tr>\n",
              "      <th>0</th>\n",
              "      <td>1</td>\n",
              "      <td>2</td>\n",
              "    </tr>\n",
              "    <tr>\n",
              "      <th>1</th>\n",
              "      <td>3</td>\n",
              "      <td>4</td>\n",
              "    </tr>\n",
              "    <tr>\n",
              "      <th>0</th>\n",
              "      <td>5</td>\n",
              "      <td>6</td>\n",
              "    </tr>\n",
              "    <tr>\n",
              "      <th>1</th>\n",
              "      <td>7</td>\n",
              "      <td>8</td>\n",
              "    </tr>\n",
              "  </tbody>\n",
              "</table>\n",
              "</div>"
            ],
            "text/plain": [
              "   0  1\n",
              "0  1  2\n",
              "1  3  4\n",
              "0  5  6\n",
              "1  7  8"
            ]
          },
          "metadata": {
            "tags": []
          },
          "execution_count": 51
        }
      ]
    }
  ]
}